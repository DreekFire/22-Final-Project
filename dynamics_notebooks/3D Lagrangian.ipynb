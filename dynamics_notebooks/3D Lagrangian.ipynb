{
 "cells": [
  {
   "cell_type": "code",
   "execution_count": 1,
   "id": "c5e71316",
   "metadata": {},
   "outputs": [],
   "source": [
    "from sympy import *\n",
    "from sympy.physics.mechanics import dynamicsymbols, init_vprinting, LagrangesMethod, Lagrangian\n",
    "from sympy.physics import mechanics\n",
    "init_vprinting()"
   ]
  },
  {
   "cell_type": "code",
   "execution_count": 2,
   "id": "ca9c4150",
   "metadata": {},
   "outputs": [],
   "source": [
    "def taylor(xpr, var, center, order=1):\n",
    "    coefs = []\n",
    "    t_xpr = 0\n",
    "    for i in range(order + 1):\n",
    "        coefs.append(xpr.subs(var, center))\n",
    "        xpr = xpr.diff(var)\n",
    "        t_xpr += var ** i * coefs[-1] / factorial(i)\n",
    "    return t_xpr\n",
    "\n",
    "def taylor_mat_entrywise(mat, lin_vars, lin_pt):\n",
    "    slist = list(zip(lin_vars, lin_pt))\n",
    "    \n",
    "    A = mat.subs(slist)\n",
    "    \n",
    "    for i in range(len(lin_vars)):\n",
    "        A += mat.diff(lin_vars[i]).subs(slist) * (lin_vars[i] - lin_pt[i])\n",
    "    A.simplify()\n",
    "    return A"
   ]
  },
  {
   "cell_type": "code",
   "execution_count": 3,
   "id": "6b4f8412",
   "metadata": {},
   "outputs": [],
   "source": [
    "# States\n",
    "x, y, th, phi, psi = dynamicsymbols(\"x y theta phi psi\")\n",
    "t = symbols(\"t\")\n",
    "dx = x.diff(t)\n",
    "dy = y.diff(t)\n",
    "dth = th.diff(t)\n",
    "dphi = phi.diff(t)\n",
    "dpsi = psi.diff(t)\n",
    "\n",
    "ddx = dx.diff(t)\n",
    "ddy = dy.diff(t)\n",
    "ddth = dth.diff(t)\n",
    "ddphi = dphi.diff(t)\n",
    "ddpsi = dpsi.diff(t)\n",
    "\n",
    "q = Matrix([x, y, th, phi, psi])\n",
    "qvar = [x, y, th, phi, psi]\n",
    "\n",
    "h = 0.2\n",
    "r = 0.1193\n",
    "\n",
    "M = 0.62369\n",
    "m = 1.5\n",
    "\n",
    "rh = 0.15\n",
    "rr = 0.08\n",
    "A = m*h**2/12\n",
    "B = m*r**2/4\n",
    "I_robot = Matrix([[A+B, 0, 0], [0, A+B, 0], [0, 0, 2*B]])\n",
    "\n",
    "gw = 9.8"
   ]
  },
  {
   "cell_type": "code",
   "execution_count": 4,
   "id": "29e92a7a",
   "metadata": {},
   "outputs": [],
   "source": [
    "m, h, r, I1, I3 = symbols(\"m h r I_1 I_3\")\n",
    "I_robot = diag(I1, I1, I3)"
   ]
  },
  {
   "cell_type": "code",
   "execution_count": 5,
   "id": "6ed5517c",
   "metadata": {},
   "outputs": [],
   "source": [
    "# Velocities\n",
    "v_ball = Matrix([dx, dy, 0])\n",
    "omg_ball = Matrix([dy/r, -dx/r, 0])\n",
    "v_robot = v_ball + Matrix([h*cos(th)*sin(phi), h*sin(th)*sin(phi), h*cos(phi)]).diff(t)\n",
    "omg_robot = Matrix([dth*sin(phi), dphi, dth*cos(phi) + dpsi]) # + omg_ball"
   ]
  },
  {
   "cell_type": "code",
   "execution_count": 6,
   "id": "5bf644a1",
   "metadata": {},
   "outputs": [
    {
     "data": {
      "image/png": "[encoded data removed]",
      "text/latex": [
       "$\\displaystyle \\frac{I_{1} \\dot{\\phi}^{2}}{2} + \\frac{h^{2} m \\dot{\\phi}^{2}}{2} + h m \\cos{\\left(\\phi \\right)} \\dot{\\phi} \\dot{x} + \\frac{m \\dot{x}^{2}}{2}$"
      ],
      "text/plain": [
       "    2    2    2                       2\n",
       "I₁⋅φ̇    h ⋅m⋅φ̇                     m⋅ẋ \n",
       "───── + ─────── + h⋅m⋅cos(φ)⋅φ̇⋅ẋ + ────\n",
       "  2        2                        2  "
      ]
     },
     "execution_count": 6,
     "metadata": {},
     "output_type": "execute_result"
    }
   ],
   "source": [
    "slist = ((th, 0), (psi, 0), (dth, 0), (dpsi, 0), (y, 0), (dy, 0))\n",
    "xpr= (m/2*v_robot.T @ v_robot + omg_robot.T @ I_robot @ omg_robot / 2)[0].subs(slist).doit()\n",
    "xpr.trigsimp()"
   ]
  },
  {
   "cell_type": "code",
   "execution_count": 7,
   "id": "c1f3d395",
   "metadata": {},
   "outputs": [
    {
     "data": {
      "image/png": "[encoded data removed]",
      "text/latex": [
       "$\\displaystyle L = \\frac{I_{1} \\sin^{2}{\\left(\\phi \\right)} \\dot{\\theta}^{2}}{2} + \\frac{I_{1} \\dot{\\phi}^{2}}{2} + \\frac{I_{3} \\left(\\cos{\\left(\\phi \\right)} \\dot{\\theta} + \\dot{\\psi}\\right)^{2}}{2} + \\frac{h^{2} m \\sin^{2}{\\left(\\phi \\right)} \\dot{\\phi}^{2}}{2} + \\frac{m \\left(- h \\sin{\\left(\\phi \\right)} \\sin{\\left(\\theta \\right)} \\dot{\\theta} + h \\cos{\\left(\\phi \\right)} \\cos{\\left(\\theta \\right)} \\dot{\\phi} + \\dot{x}\\right)^{2}}{2} + \\frac{m \\left(h \\sin{\\left(\\phi \\right)} \\cos{\\left(\\theta \\right)} \\dot{\\theta} + h \\sin{\\left(\\theta \\right)} \\cos{\\left(\\phi \\right)} \\dot{\\phi} + \\dot{y}\\right)^{2}}{2} - 9.8 m \\cos{\\left(\\phi \\right)} + 0.311845 \\dot{x}^{2} + 0.311845 \\dot{y}^{2}$"
      ],
      "text/plain": [
       "          2     2       2                    2    2      2     2                                  \n",
       "    I₁⋅sin (φ)⋅θ̇    I₁⋅φ̇    I₃⋅(cos(φ)⋅θ̇ + ψ̇)    h ⋅m⋅sin (φ)⋅φ̇    m⋅(-h⋅sin(φ)⋅sin(θ)⋅θ̇ + h\n",
       "L = ───────────── + ───── + ────────────────── + ─────────────── + ───────────────────────────────\n",
       "          2           2             2                   2                                 2       \n",
       "\n",
       "               2                                                2                                 \n",
       "⋅cos(φ)⋅cos(θ)⋅φ̇ + ẋ)    m⋅(h⋅sin(φ)⋅cos(θ)⋅θ̇ + h⋅sin(θ)⋅cos(φ)⋅φ̇ + ẏ)                       \n",
       "──────────────── + ────────────────────────────────────────────── - 9.8⋅m⋅cos(φ) + 0.311845⋅ẋ  + \n",
       "                                         2                                                        \n",
       "\n",
       "          \n",
       "      2             2\n",
       "0.311845⋅ẏ \n",
       "          "
      ]
     },
     "execution_count": 7,
     "metadata": {},
     "output_type": "execute_result"
    }
   ],
   "source": [
    "# Energies\n",
    "V = m*gw*cos(phi)\n",
    "T = M/2*v_ball.T @ v_ball + m/2*v_robot.T @ v_robot + omg_robot.T @ I_robot @ omg_robot / 2\n",
    "T = T[0]\n",
    "L = T - V\n",
    "Eq(symbols(\"L\"), L)"
   ]
  },
  {
   "cell_type": "code",
   "execution_count": 8,
   "id": "88e9e0a3",
   "metadata": {},
   "outputs": [],
   "source": [
    "L_xpr = L.diff(q.diff(t)).diff(t) - L.diff(q)"
   ]
  },
  {
   "cell_type": "code",
   "execution_count": 9,
   "id": "eff72124",
   "metadata": {},
   "outputs": [
    {
     "data": {
      "text/latex": [
       "$\\displaystyle \\left[\\begin{matrix}- m \\left(h \\phi \\theta \\ddot{\\theta} + h \\phi \\dot{\\phi}^{2} + h \\phi \\dot{\\theta}^{2} + 2 h \\theta \\dot{\\phi} \\dot{\\theta} - h \\ddot{\\phi} - \\ddot{x}\\right) + 0.62369 \\ddot{x}\\\\m \\left(- h \\phi \\theta \\dot{\\phi}^{2} - h \\phi \\theta \\dot{\\theta}^{2} + h \\phi \\ddot{\\theta} + h \\theta \\ddot{\\phi} + 2 h \\dot{\\phi} \\dot{\\theta} + \\ddot{y}\\right) + 0.62369 \\ddot{y}\\\\I_{1} \\phi^{2} \\ddot{\\theta} + 2 I_{1} \\phi \\dot{\\phi} \\dot{\\theta} - I_{3} \\phi \\dot{\\phi} \\dot{\\psi} - 2 I_{3} \\phi \\dot{\\phi} \\dot{\\theta} + I_{3} \\ddot{\\psi} + I_{3} \\ddot{\\theta} + h^{2} m \\phi^{2} \\theta^{2} \\ddot{\\theta} + h^{2} m \\phi^{2} \\ddot{\\theta} + 2 h^{2} m \\phi \\theta^{2} \\dot{\\phi} \\dot{\\theta} + 2 h^{2} m \\phi \\dot{\\phi} \\dot{\\theta} - h m \\phi \\theta \\ddot{x} + h m \\phi \\ddot{y}\\\\- 1.0 I_{1} \\phi \\dot{\\theta}^{2} + 1.0 I_{1} \\ddot{\\phi} + 1.0 I_{3} \\phi \\dot{\\psi} \\dot{\\theta} + 1.0 I_{3} \\phi \\dot{\\theta}^{2} + 1.0 h^{2} m \\phi^{2} \\ddot{\\phi} - 1.0 h^{2} m \\phi \\theta^{2} \\dot{\\phi}^{2} - 1.0 h^{2} m \\phi \\theta^{2} \\dot{\\theta}^{2} - 1.0 h^{2} m \\phi \\dot{\\theta}^{2} + 1.0 h^{2} m \\theta^{2} \\ddot{\\phi} + 1.0 h^{2} m \\ddot{\\phi} + 1.0 h m \\theta \\ddot{y} + 1.0 h m \\ddot{x} - 9.8 m \\phi\\\\I_{3} \\left(- \\phi \\dot{\\phi} \\dot{\\theta} + \\ddot{\\psi} + \\ddot{\\theta}\\right)\\end{matrix}\\right]$"
      ],
      "text/plain": [
       "⎡                                                         ⎛               2        2              \n",
       "⎢                                                     - m⋅⎝h⋅φ⋅θ⋅θ̈ + h⋅φ⋅φ̇  + h⋅φ⋅θ̇  + 2⋅h⋅θ⋅φ̇\n",
       "⎢                                                                                                 \n",
       "⎢                                                      ⎛         2          2                     \n",
       "⎢                                                    m⋅⎝- h⋅φ⋅θ⋅φ̇  - h⋅φ⋅θ⋅θ̇  + h⋅φ⋅θ̈ + h⋅θ⋅φ̈ \n",
       "⎢                                                                                                 \n",
       "⎢                    2                                                         2    2  2      2   \n",
       "⎢                I₁⋅φ ⋅θ̈ + 2⋅I₁⋅φ⋅φ̇⋅θ̇ - I₃⋅φ⋅φ̇⋅ψ̇ - 2⋅I₃⋅φ⋅φ̇⋅θ̇ + I₃⋅ψ̈ + I₃⋅θ̈ + h ⋅m⋅φ ⋅θ ⋅\n",
       "⎢                                                                                                 \n",
       "⎢        2                                       2        2    2      2      2  2    2      2  2  \n",
       "⎢- I₁⋅φ⋅θ̇  + 1.0⋅I₁⋅φ̈ + 1.0⋅I₃⋅φ⋅ψ̇⋅θ̇ + 1.0⋅I₃⋅φ⋅θ̇  + 1.0⋅h ⋅m⋅φ ⋅φ̈ - h ⋅m⋅φ⋅θ ⋅φ̇  - h ⋅m⋅φ⋅\n",
       "⎢                                                                                                 \n",
       "⎣                                                                            I₃⋅(-φ⋅φ̇⋅θ̇ + ψ̈ + θ\n",
       "\n",
       "        ⎞                                                                  ⎤\n",
       "⋅θ̇ - h⋅φ̈ - ẍ⎠ + 0.62369⋅ẍ                                                      ⎥\n",
       "                                                                           ⎥\n",
       "         ⎞                                                                 ⎥\n",
       "+ 2⋅h⋅φ̇⋅θ̇ + ÿ⎠ + 0.62369⋅ÿ                                                     ⎥\n",
       "                                                                           ⎥\n",
       " 2        2      2          2                                              ⎥\n",
       "θ̈ + h ⋅m⋅φ ⋅θ̈ + 2⋅h ⋅m⋅φ⋅θ ⋅φ̇⋅θ̇ + 2⋅h ⋅m⋅φ⋅φ̇⋅θ̇ - h⋅m⋅φ⋅θ⋅ẍ + h⋅m⋅φ⋅ÿ                ⎥\n",
       "                                                                           ⎥\n",
       "  2      2        2    2          2                                        ⎥\n",
       "θ ⋅θ̇  - h ⋅m⋅φ⋅θ̇  + 1.0⋅h ⋅m⋅θ ⋅φ̈ + 1.0⋅h ⋅m⋅φ̈ + 1.0⋅h⋅m⋅θ⋅ÿ + 1.0⋅h⋅m⋅ẍ - 9.8⋅m⋅φ⎥\n",
       "                                                                           ⎥\n",
       "̈)                                                                             ⎦"
      ]
     },
     "execution_count": 9,
     "metadata": {},
     "output_type": "execute_result"
    }
   ],
   "source": [
    "trig_subs = [(sin(phi), phi), (cos(phi), 1), (sin(th), th), (cos(th), 1), (sin(psi), psi), (cos(psi), 1)]\n",
    "L_xpr2 = L_xpr.subs(trig_subs).simplify()\n",
    "L_xpr2"
   ]
  },
  {
   "cell_type": "code",
   "execution_count": 10,
   "id": "80888312",
   "metadata": {},
   "outputs": [
    {
     "data": {
      "image/png": "[encoded data removed]",
      "text/latex": [
       "$\\displaystyle \\left[ - m \\left(h \\phi \\theta \\ddot{\\theta} + h \\phi \\dot{\\phi}^{2} + h \\phi \\dot{\\theta}^{2} + 2 h \\theta \\dot{\\phi} \\dot{\\theta} - h \\ddot{\\phi} - \\ddot{x}\\right) + 0.62369 \\ddot{x} = 0, \\  m \\left(- h \\phi \\theta \\dot{\\phi}^{2} - h \\phi \\theta \\dot{\\theta}^{2} + h \\phi \\ddot{\\theta} + h \\theta \\ddot{\\phi} + 2 h \\dot{\\phi} \\dot{\\theta} + \\ddot{y}\\right) + 0.62369 \\ddot{y} = 0, \\  I_{1} \\phi^{2} \\ddot{\\theta} + 2 I_{1} \\phi \\dot{\\phi} \\dot{\\theta} - I_{3} \\phi \\dot{\\phi} \\dot{\\psi} - 2 I_{3} \\phi \\dot{\\phi} \\dot{\\theta} + I_{3} \\ddot{\\psi} + I_{3} \\ddot{\\theta} + h^{2} m \\phi^{2} \\theta^{2} \\ddot{\\theta} + h^{2} m \\phi^{2} \\ddot{\\theta} + 2 h^{2} m \\phi \\theta^{2} \\dot{\\phi} \\dot{\\theta} + 2 h^{2} m \\phi \\dot{\\phi} \\dot{\\theta} - h m \\phi \\theta \\ddot{x} + h m \\phi \\ddot{y} = \\mathrm{T}_{1}, \\  - 1.0 I_{1} \\phi \\dot{\\theta}^{2} + 1.0 I_{1} \\ddot{\\phi} + 1.0 I_{3} \\phi \\dot{\\psi} \\dot{\\theta} + 1.0 I_{3} \\phi \\dot{\\theta}^{2} + 1.0 h^{2} m \\phi^{2} \\ddot{\\phi} - 1.0 h^{2} m \\phi \\theta^{2} \\dot{\\phi}^{2} - 1.0 h^{2} m \\phi \\theta^{2} \\dot{\\theta}^{2} - 1.0 h^{2} m \\phi \\dot{\\theta}^{2} + 1.0 h^{2} m \\theta^{2} \\ddot{\\phi} + 1.0 h^{2} m \\ddot{\\phi} + 1.0 h m \\theta \\ddot{y} + 1.0 h m \\ddot{x} - 9.8 m \\phi = \\mathrm{T}_{2}, \\  I_{3} \\left(- \\phi \\dot{\\phi} \\dot{\\theta} + \\ddot{\\psi} + \\ddot{\\theta}\\right) = \\mathrm{T}_{3}\\right]$"
      ],
      "text/plain": [
       "⎡    ⎛               2        2                      ⎞                    ⎛         2          2  \n",
       "⎣- m⋅⎝h⋅φ⋅θ⋅θ̈ + h⋅φ⋅φ̇  + h⋅φ⋅θ̇  + 2⋅h⋅θ⋅φ̇⋅θ̇ - h⋅φ̈ - ẍ⎠ + 0.62369⋅ẍ = 0, m⋅⎝- h⋅φ⋅θ⋅φ̇  - h\n",
       "\n",
       "                            ⎞                      2                                              \n",
       "⋅φ⋅θ⋅θ̇  + h⋅φ⋅θ̈ + h⋅θ⋅φ̈ + 2⋅h⋅φ̇⋅θ̇ + ÿ⎠ + 0.62369⋅ÿ = 0, I₁⋅φ ⋅θ̈ + 2⋅I₁⋅φ⋅φ̇⋅θ̇ - I₃⋅φ⋅φ̇⋅ψ\n",
       "\n",
       "           2    2  2      2    2        2      2          2                                       \n",
       "̇ - 2⋅I₃⋅φ⋅φ̇⋅θ̇ + I₃⋅ψ̈ + I₃⋅θ̈ + h ⋅m⋅φ ⋅θ ⋅θ̈ + h ⋅m⋅φ ⋅θ̈ + 2⋅h ⋅m⋅φ⋅θ ⋅φ̇⋅θ̇ + 2⋅h ⋅m⋅φ⋅φ̇⋅θ̇\n",
       "\n",
       "      2                                       2        2    2      2      2  2    2      2  2    2\n",
       " - h⋅m⋅φ⋅θ⋅ẍ + h⋅m⋅φ⋅ÿ = Τ₁, - I₁⋅φ⋅θ̇  + 1.0⋅I₁⋅φ̈ + 1.0⋅I₃⋅φ⋅ψ̇⋅θ̇ + 1.0⋅I₃⋅φ⋅θ̇  + 1.0⋅h ⋅m⋅φ\n",
       "\n",
       "      2        2    2          2                                                                  \n",
       " ⋅φ̈ - h ⋅m⋅φ⋅θ ⋅φ̇  - h ⋅m⋅φ⋅θ ⋅θ̇  - h ⋅m⋅φ⋅θ̇  + 1.0⋅h ⋅m⋅θ ⋅φ̈ + 1.0⋅h ⋅m⋅φ̈ + 1.0⋅h⋅m⋅θ⋅ÿ + \n",
       "\n",
       "     ⎤\n",
       "1.0⋅h⋅m⋅ẍ - 9.8⋅m⋅φ = Τ₂, I₃⋅(-φ⋅φ̇⋅θ̇ + ψ̈ + θ̈) = Τ₃⎦"
      ]
     },
     "execution_count": 10,
     "metadata": {},
     "output_type": "execute_result"
    }
   ],
   "source": [
    "torques_tmp = symbols(\"Tau_1:4\")\n",
    "T1, T2, T3 = torques_tmp\n",
    "T = Matrix([0, 0, *torques_tmp])\n",
    "eqs = [Eq(L_xpr2[i], T[i]) for i in range(len(T))]\n",
    "eqs"
   ]
  },
  {
   "cell_type": "code",
   "execution_count": null,
   "id": "9e6fd797",
   "metadata": {
    "scrolled": true
   },
   "outputs": [],
   "source": [
    "sln = solve(eqs, q)"
   ]
  },
  {
   "cell_type": "code",
   "execution_count": null,
   "id": "78347679",
   "metadata": {},
   "outputs": [],
   "source": [
    "sln"
   ]
  },
  {
   "cell_type": "code",
   "execution_count": null,
   "id": "a3c51a82",
   "metadata": {},
   "outputs": [],
   "source": []
  },
  {
   "cell_type": "code",
   "execution_count": 68,
   "id": "928072aa",
   "metadata": {},
   "outputs": [
    {
     "data": {
      "text/latex": [
       "$\\displaystyle \\left[\\begin{matrix}- 0.3 \\phi \\theta \\ddot{\\theta} - 0.3 \\phi \\dot{\\phi}^{2} - 0.3 \\phi \\dot{\\theta}^{2} - 0.6 \\theta \\dot{\\phi} \\dot{\\theta} + 0.3 \\ddot{\\phi} + 2.12369 \\ddot{x}\\\\- 0.3 \\phi \\theta \\dot{\\phi}^{2} - 0.3 \\phi \\theta \\dot{\\theta}^{2} + 0.3 \\phi \\ddot{\\theta} + 0.3 \\theta \\ddot{\\phi} + 0.6 \\dot{\\phi} \\dot{\\theta} + 2.12369 \\ddot{y}\\\\\\left(0.06 \\phi^{2} \\theta^{2} + 0.07033718375 \\phi^{2} + 0.0106743675\\right) \\ddot{\\theta} - \\left(- 0.12 \\theta^{2} \\dot{\\theta} + 0.0106743675 \\dot{\\psi} - 0.1193256325 \\dot{\\theta}\\right) \\phi \\dot{\\phi} - 0.3 \\phi \\theta \\ddot{x} + 0.3 \\phi \\ddot{y} + 0.0106743675 \\ddot{\\psi}\\\\\\left(0.06 \\phi^{2} + 0.06 \\theta^{2} + 0.07033718375\\right) \\ddot{\\phi} - \\left(0.06 \\theta^{2} \\dot{\\phi}^{2} + 0.06 \\theta^{2} \\dot{\\theta}^{2} - 0.0106743675 \\dot{\\psi} \\dot{\\theta} + 0.05966281625 \\dot{\\theta}^{2} + 14.7\\right) \\phi + 0.3 \\theta \\ddot{y} + 0.3 \\ddot{x}\\\\- 0.0106743675 \\phi \\dot{\\phi} \\dot{\\theta} + 0.0106743675 \\ddot{\\psi} + 0.0106743675 \\ddot{\\theta}\\end{matrix}\\right]$"
      ],
      "text/plain": [
       "⎡                                                          2          2                           \n",
       "⎢                                      -0.3⋅φ⋅θ⋅θ̈ - 0.3⋅φ⋅φ̇  - 0.3⋅φ⋅θ̇  - 0.6⋅θ⋅φ̇⋅θ̇ + 0.3⋅φ̈ \n",
       "⎢                                                                                                 \n",
       "⎢                                                2            2                                   \n",
       "⎢                                     - 0.3⋅φ⋅θ⋅φ̇  - 0.3⋅φ⋅θ⋅θ̇  + 0.3⋅φ⋅θ̈ + 0.3⋅θ⋅φ̈ + 0.6⋅φ̇⋅θ\n",
       "⎢                                                                                                 \n",
       "⎢⎛      2  2                  2               ⎞     ⎛        2                                    \n",
       "⎢⎝0.06⋅φ ⋅θ  + 0.07033718375⋅φ  + 0.0106743675⎠⋅θ̈ - ⎝- 0.12⋅θ ⋅θ̇ + 0.0106743675⋅ψ̇ - 0.119325632\n",
       "⎢                                                                                                 \n",
       "⎢     ⎛      2         2                ⎞     ⎛      2  2         2  2                            \n",
       "⎢     ⎝0.06⋅φ  + 0.06⋅θ  + 0.07033718375⎠⋅φ̈ - ⎝0.06⋅θ ⋅φ̇  + 0.06⋅θ ⋅θ̇  - 0.0106743675⋅ψ̇⋅θ̇ + 0\n",
       "⎢                                                                                                 \n",
       "⎣                                            -0.0106743675⋅φ⋅φ̇⋅θ̇ + 0.0106743675⋅ψ̈ + 0.010674367\n",
       "\n",
       "                                            ⎤\n",
       "+ 2.12369⋅ẍ                                       ⎥\n",
       "                                            ⎥\n",
       "                                            ⎥\n",
       "̇ + 2.12369⋅ÿ                                     ⎥\n",
       "                                            ⎥\n",
       "⎞                                           ⎥\n",
       "5⋅θ̇⎠⋅φ⋅φ̇ - 0.3⋅φ⋅θ⋅ẍ + 0.3⋅φ⋅ÿ + 0.0106743675⋅ψ̈⎥\n",
       "                                            ⎥\n",
       "         2       ⎞                          ⎥\n",
       ".05966281625⋅θ̇  + 14.7⎠⋅φ + 0.3⋅θ⋅ÿ + 0.3⋅ẍ      ⎥\n",
       "                                            ⎥\n",
       "5⋅θ̈                                            ⎦"
      ]
     },
     "execution_count": 68,
     "metadata": {},
     "output_type": "execute_result"
    }
   ],
   "source": [
    "Mlin * q.diff(t, 2) - Clin"
   ]
  },
  {
   "cell_type": "code",
   "execution_count": 50,
   "id": "9928b8f9",
   "metadata": {},
   "outputs": [
    {
     "data": {
      "text/latex": [
       "$\\displaystyle \\left[\\begin{matrix}- 0.3 \\sin{\\left(\\phi \\right)} \\sin{\\left(\\theta \\right)} \\ddot{\\theta} - 0.3 \\sin{\\left(\\phi \\right)} \\cos{\\left(\\theta \\right)} \\dot{\\phi}^{2} - 0.3 \\sin{\\left(\\phi \\right)} \\cos{\\left(\\theta \\right)} \\dot{\\theta}^{2} - 0.6 \\sin{\\left(\\theta \\right)} \\cos{\\left(\\phi \\right)} \\dot{\\phi} \\dot{\\theta} + 0.3 \\cos{\\left(\\phi \\right)} \\cos{\\left(\\theta \\right)} \\ddot{\\phi} + 2.12369 \\ddot{x}\\\\- 0.3 \\sin{\\left(\\phi \\right)} \\sin{\\left(\\theta \\right)} \\dot{\\phi}^{2} - 0.3 \\sin{\\left(\\phi \\right)} \\sin{\\left(\\theta \\right)} \\dot{\\theta}^{2} + 0.3 \\sin{\\left(\\phi \\right)} \\cos{\\left(\\theta \\right)} \\ddot{\\theta} + 0.3 \\sin{\\left(\\theta \\right)} \\cos{\\left(\\phi \\right)} \\ddot{\\phi} + 0.6 \\cos{\\left(\\phi \\right)} \\cos{\\left(\\theta \\right)} \\dot{\\phi} \\dot{\\theta} + 2.12369 \\ddot{y}\\\\- \\frac{\\left(0.0106743675 \\cos{\\left(\\phi \\right)} \\dot{\\theta} + 0.0106743675 \\dot{\\psi}\\right) \\sin{\\left(\\phi \\right)} \\dot{\\phi}}{2} - 0.00533718375 \\left(\\cos{\\left(\\phi \\right)} \\dot{\\theta} + \\dot{\\psi}\\right) \\sin{\\left(\\phi \\right)} \\dot{\\phi} - \\left(- 0.2 \\sin{\\left(\\phi \\right)} \\sin{\\left(\\theta \\right)} \\dot{\\theta} + 0.2 \\cos{\\left(\\phi \\right)} \\cos{\\left(\\theta \\right)} \\dot{\\phi}\\right) \\left(0.15 \\sin{\\left(\\phi \\right)} \\cos{\\left(\\theta \\right)} \\dot{\\theta} + 0.15 \\sin{\\left(\\theta \\right)} \\cos{\\left(\\phi \\right)} \\dot{\\phi} + 0.75 \\dot{y}\\right) - \\left(- 0.15 \\sin{\\left(\\phi \\right)} \\sin{\\left(\\theta \\right)} \\dot{\\theta} + 0.15 \\cos{\\left(\\phi \\right)} \\cos{\\left(\\theta \\right)} \\dot{\\phi}\\right) \\left(0.2 \\sin{\\left(\\phi \\right)} \\cos{\\left(\\theta \\right)} \\dot{\\theta} + 0.2 \\sin{\\left(\\theta \\right)} \\cos{\\left(\\phi \\right)} \\dot{\\phi} + \\dot{y}\\right) - \\left(- 0.2 \\sin{\\left(\\phi \\right)} \\cos{\\left(\\theta \\right)} \\dot{\\theta} - 0.2 \\sin{\\left(\\theta \\right)} \\cos{\\left(\\phi \\right)} \\dot{\\phi}\\right) \\left(- 0.15 \\sin{\\left(\\phi \\right)} \\sin{\\left(\\theta \\right)} \\dot{\\theta} + 0.15 \\cos{\\left(\\phi \\right)} \\cos{\\left(\\theta \\right)} \\dot{\\phi} + 0.75 \\dot{x}\\right) - \\left(- 0.15 \\sin{\\left(\\phi \\right)} \\cos{\\left(\\theta \\right)} \\dot{\\theta} - 0.15 \\sin{\\left(\\theta \\right)} \\cos{\\left(\\phi \\right)} \\dot{\\phi}\\right) \\left(- 0.2 \\sin{\\left(\\phi \\right)} \\sin{\\left(\\theta \\right)} \\dot{\\theta} + 0.2 \\cos{\\left(\\phi \\right)} \\cos{\\left(\\theta \\right)} \\dot{\\phi} + \\dot{x}\\right) - 0.15 \\left(- 0.2 \\sin{\\left(\\phi \\right)} \\sin{\\left(\\theta \\right)} \\dot{\\theta} + 0.2 \\cos{\\left(\\phi \\right)} \\cos{\\left(\\theta \\right)} \\dot{\\phi} + \\dot{x}\\right) \\sin{\\left(\\phi \\right)} \\cos{\\left(\\theta \\right)} \\dot{\\theta} - 0.15 \\left(- 0.2 \\sin{\\left(\\phi \\right)} \\sin{\\left(\\theta \\right)} \\dot{\\theta} + 0.2 \\cos{\\left(\\phi \\right)} \\cos{\\left(\\theta \\right)} \\dot{\\phi} + \\dot{x}\\right) \\sin{\\left(\\theta \\right)} \\cos{\\left(\\phi \\right)} \\dot{\\phi} - 0.2 \\left(- 0.15 \\sin{\\left(\\phi \\right)} \\sin{\\left(\\theta \\right)} \\dot{\\theta} + 0.15 \\cos{\\left(\\phi \\right)} \\cos{\\left(\\theta \\right)} \\dot{\\phi} + 0.75 \\dot{x}\\right) \\sin{\\left(\\phi \\right)} \\cos{\\left(\\theta \\right)} \\dot{\\theta} - 0.2 \\left(- 0.15 \\sin{\\left(\\phi \\right)} \\sin{\\left(\\theta \\right)} \\dot{\\theta} + 0.15 \\cos{\\left(\\phi \\right)} \\cos{\\left(\\theta \\right)} \\dot{\\phi} + 0.75 \\dot{x}\\right) \\sin{\\left(\\theta \\right)} \\cos{\\left(\\phi \\right)} \\dot{\\phi} - 0.2 \\cdot \\left(0.15 \\sin{\\left(\\phi \\right)} \\cos{\\left(\\theta \\right)} \\dot{\\theta} + 0.15 \\sin{\\left(\\theta \\right)} \\cos{\\left(\\phi \\right)} \\dot{\\phi} + 0.75 \\dot{y}\\right) \\sin{\\left(\\phi \\right)} \\sin{\\left(\\theta \\right)} \\dot{\\theta} + 0.2 \\cdot \\left(0.15 \\sin{\\left(\\phi \\right)} \\cos{\\left(\\theta \\right)} \\dot{\\theta} + 0.15 \\sin{\\left(\\theta \\right)} \\cos{\\left(\\phi \\right)} \\dot{\\phi} + 0.75 \\dot{y}\\right) \\cos{\\left(\\phi \\right)} \\cos{\\left(\\theta \\right)} \\dot{\\phi} - 0.15 \\cdot \\left(0.2 \\sin{\\left(\\phi \\right)} \\cos{\\left(\\theta \\right)} \\dot{\\theta} + 0.2 \\sin{\\left(\\theta \\right)} \\cos{\\left(\\phi \\right)} \\dot{\\phi} + \\dot{y}\\right) \\sin{\\left(\\phi \\right)} \\sin{\\left(\\theta \\right)} \\dot{\\theta} + 0.15 \\cdot \\left(0.2 \\sin{\\left(\\phi \\right)} \\cos{\\left(\\theta \\right)} \\dot{\\theta} + 0.2 \\sin{\\left(\\theta \\right)} \\cos{\\left(\\phi \\right)} \\dot{\\phi} + \\dot{y}\\right) \\cos{\\left(\\phi \\right)} \\cos{\\left(\\theta \\right)} \\dot{\\phi} + 0.00533718375 \\left(- \\sin{\\left(\\phi \\right)} \\dot{\\phi} \\dot{\\theta} + \\cos{\\left(\\phi \\right)} \\ddot{\\theta} + \\ddot{\\psi}\\right) \\cos{\\left(\\phi \\right)} + \\frac{\\left(- 0.0106743675 \\sin{\\left(\\phi \\right)} \\dot{\\phi} \\dot{\\theta} + 0.0106743675 \\cos{\\left(\\phi \\right)} \\ddot{\\theta} + 0.0106743675 \\ddot{\\psi}\\right) \\cos{\\left(\\phi \\right)}}{2} + 0.15 \\left(- 0.2 \\sin{\\left(\\phi \\right)} \\sin{\\left(\\theta \\right)} \\dot{\\phi}^{2} - 0.2 \\sin{\\left(\\phi \\right)} \\sin{\\left(\\theta \\right)} \\dot{\\theta}^{2} + 0.2 \\sin{\\left(\\phi \\right)} \\cos{\\left(\\theta \\right)} \\ddot{\\theta} + 0.2 \\sin{\\left(\\theta \\right)} \\cos{\\left(\\phi \\right)} \\ddot{\\phi} + 0.4 \\cos{\\left(\\phi \\right)} \\cos{\\left(\\theta \\right)} \\dot{\\phi} \\dot{\\theta} + \\ddot{y}\\right) \\sin{\\left(\\phi \\right)} \\cos{\\left(\\theta \\right)} + 0.2 \\left(- 0.15 \\sin{\\left(\\phi \\right)} \\sin{\\left(\\theta \\right)} \\dot{\\phi}^{2} - 0.15 \\sin{\\left(\\phi \\right)} \\sin{\\left(\\theta \\right)} \\dot{\\theta}^{2} + 0.15 \\sin{\\left(\\phi \\right)} \\cos{\\left(\\theta \\right)} \\ddot{\\theta} + 0.15 \\sin{\\left(\\theta \\right)} \\cos{\\left(\\phi \\right)} \\ddot{\\phi} + 0.3 \\cos{\\left(\\phi \\right)} \\cos{\\left(\\theta \\right)} \\dot{\\phi} \\dot{\\theta} + 0.75 \\ddot{y}\\right) \\sin{\\left(\\phi \\right)} \\cos{\\left(\\theta \\right)} - 0.15 \\left(- 0.2 \\sin{\\left(\\phi \\right)} \\sin{\\left(\\theta \\right)} \\ddot{\\theta} - 0.2 \\sin{\\left(\\phi \\right)} \\cos{\\left(\\theta \\right)} \\dot{\\phi}^{2} - 0.2 \\sin{\\left(\\phi \\right)} \\cos{\\left(\\theta \\right)} \\dot{\\theta}^{2} - 0.4 \\sin{\\left(\\theta \\right)} \\cos{\\left(\\phi \\right)} \\dot{\\phi} \\dot{\\theta} + 0.2 \\cos{\\left(\\phi \\right)} \\cos{\\left(\\theta \\right)} \\ddot{\\phi} + \\ddot{x}\\right) \\sin{\\left(\\phi \\right)} \\sin{\\left(\\theta \\right)} - 0.2 \\left(- 0.15 \\sin{\\left(\\phi \\right)} \\sin{\\left(\\theta \\right)} \\ddot{\\theta} - 0.15 \\sin{\\left(\\phi \\right)} \\cos{\\left(\\theta \\right)} \\dot{\\phi}^{2} - 0.15 \\sin{\\left(\\phi \\right)} \\cos{\\left(\\theta \\right)} \\dot{\\theta}^{2} - 0.3 \\sin{\\left(\\theta \\right)} \\cos{\\left(\\phi \\right)} \\dot{\\phi} \\dot{\\theta} + 0.15 \\cos{\\left(\\phi \\right)} \\cos{\\left(\\theta \\right)} \\ddot{\\phi} + 0.75 \\ddot{x}\\right) \\sin{\\left(\\phi \\right)} \\sin{\\left(\\theta \\right)} + 0.01033718375 \\sin^{2}{\\left(\\phi \\right)} \\ddot{\\theta} + 0.0206743675 \\sin{\\left(\\phi \\right)} \\cos{\\left(\\phi \\right)} \\dot{\\phi} \\dot{\\theta}\\\\\\frac{\\left(0.0106743675 \\cos{\\left(\\phi \\right)} \\dot{\\theta} + 0.0106743675 \\dot{\\psi}\\right) \\sin{\\left(\\phi \\right)} \\dot{\\theta}}{2} + 0.00533718375 \\left(\\cos{\\left(\\phi \\right)} \\dot{\\theta} + \\dot{\\psi}\\right) \\sin{\\left(\\phi \\right)} \\dot{\\theta} - \\left(- 0.2 \\sin{\\left(\\phi \\right)} \\sin{\\left(\\theta \\right)} \\dot{\\phi} + 0.2 \\cos{\\left(\\phi \\right)} \\cos{\\left(\\theta \\right)} \\dot{\\theta}\\right) \\left(0.15 \\sin{\\left(\\phi \\right)} \\cos{\\left(\\theta \\right)} \\dot{\\theta} + 0.15 \\sin{\\left(\\theta \\right)} \\cos{\\left(\\phi \\right)} \\dot{\\phi} + 0.75 \\dot{y}\\right) - \\left(- 0.15 \\sin{\\left(\\phi \\right)} \\sin{\\left(\\theta \\right)} \\dot{\\phi} + 0.15 \\cos{\\left(\\phi \\right)} \\cos{\\left(\\theta \\right)} \\dot{\\theta}\\right) \\left(0.2 \\sin{\\left(\\phi \\right)} \\cos{\\left(\\theta \\right)} \\dot{\\theta} + 0.2 \\sin{\\left(\\theta \\right)} \\cos{\\left(\\phi \\right)} \\dot{\\phi} + \\dot{y}\\right) - \\left(- 0.2 \\sin{\\left(\\phi \\right)} \\cos{\\left(\\theta \\right)} \\dot{\\phi} - 0.2 \\sin{\\left(\\theta \\right)} \\cos{\\left(\\phi \\right)} \\dot{\\theta}\\right) \\left(- 0.15 \\sin{\\left(\\phi \\right)} \\sin{\\left(\\theta \\right)} \\dot{\\theta} + 0.15 \\cos{\\left(\\phi \\right)} \\cos{\\left(\\theta \\right)} \\dot{\\phi} + 0.75 \\dot{x}\\right) - \\left(- 0.15 \\sin{\\left(\\phi \\right)} \\cos{\\left(\\theta \\right)} \\dot{\\phi} - 0.15 \\sin{\\left(\\theta \\right)} \\cos{\\left(\\phi \\right)} \\dot{\\theta}\\right) \\left(- 0.2 \\sin{\\left(\\phi \\right)} \\sin{\\left(\\theta \\right)} \\dot{\\theta} + 0.2 \\cos{\\left(\\phi \\right)} \\cos{\\left(\\theta \\right)} \\dot{\\phi} + \\dot{x}\\right) - 0.15 \\left(- 0.2 \\sin{\\left(\\phi \\right)} \\sin{\\left(\\theta \\right)} \\dot{\\theta} + 0.2 \\cos{\\left(\\phi \\right)} \\cos{\\left(\\theta \\right)} \\dot{\\phi} + \\dot{x}\\right) \\sin{\\left(\\phi \\right)} \\cos{\\left(\\theta \\right)} \\dot{\\phi} - 0.15 \\left(- 0.2 \\sin{\\left(\\phi \\right)} \\sin{\\left(\\theta \\right)} \\dot{\\theta} + 0.2 \\cos{\\left(\\phi \\right)} \\cos{\\left(\\theta \\right)} \\dot{\\phi} + \\dot{x}\\right) \\sin{\\left(\\theta \\right)} \\cos{\\left(\\phi \\right)} \\dot{\\theta} - 0.2 \\left(- 0.15 \\sin{\\left(\\phi \\right)} \\sin{\\left(\\theta \\right)} \\dot{\\theta} + 0.15 \\cos{\\left(\\phi \\right)} \\cos{\\left(\\theta \\right)} \\dot{\\phi} + 0.75 \\dot{x}\\right) \\sin{\\left(\\phi \\right)} \\cos{\\left(\\theta \\right)} \\dot{\\phi} - 0.2 \\left(- 0.15 \\sin{\\left(\\phi \\right)} \\sin{\\left(\\theta \\right)} \\dot{\\theta} + 0.15 \\cos{\\left(\\phi \\right)} \\cos{\\left(\\theta \\right)} \\dot{\\phi} + 0.75 \\dot{x}\\right) \\sin{\\left(\\theta \\right)} \\cos{\\left(\\phi \\right)} \\dot{\\theta} - 0.2 \\cdot \\left(0.15 \\sin{\\left(\\phi \\right)} \\cos{\\left(\\theta \\right)} \\dot{\\theta} + 0.15 \\sin{\\left(\\theta \\right)} \\cos{\\left(\\phi \\right)} \\dot{\\phi} + 0.75 \\dot{y}\\right) \\sin{\\left(\\phi \\right)} \\sin{\\left(\\theta \\right)} \\dot{\\phi} + 0.2 \\cdot \\left(0.15 \\sin{\\left(\\phi \\right)} \\cos{\\left(\\theta \\right)} \\dot{\\theta} + 0.15 \\sin{\\left(\\theta \\right)} \\cos{\\left(\\phi \\right)} \\dot{\\phi} + 0.75 \\dot{y}\\right) \\cos{\\left(\\phi \\right)} \\cos{\\left(\\theta \\right)} \\dot{\\theta} - 0.15 \\cdot \\left(0.2 \\sin{\\left(\\phi \\right)} \\cos{\\left(\\theta \\right)} \\dot{\\theta} + 0.2 \\sin{\\left(\\theta \\right)} \\cos{\\left(\\phi \\right)} \\dot{\\phi} + \\dot{y}\\right) \\sin{\\left(\\phi \\right)} \\sin{\\left(\\theta \\right)} \\dot{\\phi} + 0.15 \\cdot \\left(0.2 \\sin{\\left(\\phi \\right)} \\cos{\\left(\\theta \\right)} \\dot{\\theta} + 0.2 \\sin{\\left(\\theta \\right)} \\cos{\\left(\\phi \\right)} \\dot{\\phi} + \\dot{y}\\right) \\cos{\\left(\\phi \\right)} \\cos{\\left(\\theta \\right)} \\dot{\\theta} + 0.15 \\left(- 0.2 \\sin{\\left(\\phi \\right)} \\sin{\\left(\\theta \\right)} \\dot{\\phi}^{2} - 0.2 \\sin{\\left(\\phi \\right)} \\sin{\\left(\\theta \\right)} \\dot{\\theta}^{2} + 0.2 \\sin{\\left(\\phi \\right)} \\cos{\\left(\\theta \\right)} \\ddot{\\theta} + 0.2 \\sin{\\left(\\theta \\right)} \\cos{\\left(\\phi \\right)} \\ddot{\\phi} + 0.4 \\cos{\\left(\\phi \\right)} \\cos{\\left(\\theta \\right)} \\dot{\\phi} \\dot{\\theta} + \\ddot{y}\\right) \\sin{\\left(\\theta \\right)} \\cos{\\left(\\phi \\right)} + 0.2 \\left(- 0.15 \\sin{\\left(\\phi \\right)} \\sin{\\left(\\theta \\right)} \\dot{\\phi}^{2} - 0.15 \\sin{\\left(\\phi \\right)} \\sin{\\left(\\theta \\right)} \\dot{\\theta}^{2} + 0.15 \\sin{\\left(\\phi \\right)} \\cos{\\left(\\theta \\right)} \\ddot{\\theta} + 0.15 \\sin{\\left(\\theta \\right)} \\cos{\\left(\\phi \\right)} \\ddot{\\phi} + 0.3 \\cos{\\left(\\phi \\right)} \\cos{\\left(\\theta \\right)} \\dot{\\phi} \\dot{\\theta} + 0.75 \\ddot{y}\\right) \\sin{\\left(\\theta \\right)} \\cos{\\left(\\phi \\right)} + 0.15 \\left(- 0.2 \\sin{\\left(\\phi \\right)} \\sin{\\left(\\theta \\right)} \\ddot{\\theta} - 0.2 \\sin{\\left(\\phi \\right)} \\cos{\\left(\\theta \\right)} \\dot{\\phi}^{2} - 0.2 \\sin{\\left(\\phi \\right)} \\cos{\\left(\\theta \\right)} \\dot{\\theta}^{2} - 0.4 \\sin{\\left(\\theta \\right)} \\cos{\\left(\\phi \\right)} \\dot{\\phi} \\dot{\\theta} + 0.2 \\cos{\\left(\\phi \\right)} \\cos{\\left(\\theta \\right)} \\ddot{\\phi} + \\ddot{x}\\right) \\cos{\\left(\\phi \\right)} \\cos{\\left(\\theta \\right)} + 0.2 \\left(- 0.15 \\sin{\\left(\\phi \\right)} \\sin{\\left(\\theta \\right)} \\ddot{\\theta} - 0.15 \\sin{\\left(\\phi \\right)} \\cos{\\left(\\theta \\right)} \\dot{\\phi}^{2} - 0.15 \\sin{\\left(\\phi \\right)} \\cos{\\left(\\theta \\right)} \\dot{\\theta}^{2} - 0.3 \\sin{\\left(\\theta \\right)} \\cos{\\left(\\phi \\right)} \\dot{\\phi} \\dot{\\theta} + 0.15 \\cos{\\left(\\phi \\right)} \\cos{\\left(\\theta \\right)} \\ddot{\\phi} + 0.75 \\ddot{x}\\right) \\cos{\\left(\\phi \\right)} \\cos{\\left(\\theta \\right)} + 0.06 \\sin^{2}{\\left(\\phi \\right)} \\ddot{\\phi} + 0.06 \\sin{\\left(\\phi \\right)} \\cos{\\left(\\phi \\right)} \\dot{\\phi}^{2} - 0.01033718375 \\sin{\\left(\\phi \\right)} \\cos{\\left(\\phi \\right)} \\dot{\\theta}^{2} - 14.7 \\sin{\\left(\\phi \\right)} + 0.01033718375 \\ddot{\\phi}\\\\- 0.0106743675 \\sin{\\left(\\phi \\right)} \\dot{\\phi} \\dot{\\theta} + 0.0106743675 \\cos{\\left(\\phi \\right)} \\ddot{\\theta} + 0.0106743675 \\ddot{\\psi}\\end{matrix}\\right]$"
      ],
      "text/plain": [
       "⎡                                                                                                 \n",
       "⎢                                                                                                 \n",
       "⎢                                                                                                 \n",
       "⎢                                                                                                 \n",
       "⎢                                                                                                 \n",
       "⎢                                                                                                 \n",
       "⎢  (0.0106743675⋅cos(φ)⋅θ̇ + 0.0106743675⋅ψ̇)⋅sin(φ)⋅φ̇                                           \n",
       "⎢- ───────────────────────────────────────────────── - 0.00533718375⋅(cos(φ)⋅θ̇ + ψ̇)⋅sin(φ)⋅φ̇ - \n",
       "⎢                          2                                                                      \n",
       "⎢                                                                                                 \n",
       "⎢                                          (0.0106743675⋅cos(φ)⋅θ̇ + 0.0106743675⋅ψ̇)⋅sin(φ)⋅θ̇   \n",
       "⎢                                          ───────────────────────────────────────────────── + 0.0\n",
       "⎢                                                                  2                              \n",
       "⎢                                                                                                 \n",
       "⎣                                                                                                 \n",
       "\n",
       "                                                                                                  \n",
       "                                                                                                  \n",
       "                                                                                                  \n",
       "                                                                                                  \n",
       "                                                                                                  \n",
       "                                                                                                  \n",
       "                                                                                                  \n",
       "(-0.2⋅sin(φ)⋅sin(θ)⋅θ̇ + 0.2⋅cos(φ)⋅cos(θ)⋅φ̇)⋅(0.15⋅sin(φ)⋅cos(θ)⋅θ̇ + 0.15⋅sin(θ)⋅cos(φ)⋅φ̇ + 0.\n",
       "                                                                                                  \n",
       "                                                                                                  \n",
       "                                                                                                  \n",
       "0533718375⋅(cos(φ)⋅θ̇ + ψ̇)⋅sin(φ)⋅θ̇ - (-0.2⋅sin(φ)⋅sin(θ)⋅φ̇ + 0.2⋅cos(φ)⋅cos(θ)⋅θ̇)⋅(0.15⋅sin(φ\n",
       "                                                                                                  \n",
       "                                                                                                  \n",
       "                                                                                                  \n",
       "\n",
       "                                                                                                  \n",
       "                                                                                                  \n",
       "                                                                                                  \n",
       "                                                                                                  \n",
       "                                                                                                  \n",
       "                                                                                                  \n",
       "                                                                                                  \n",
       "75⋅ẏ) - (-0.15⋅sin(φ)⋅sin(θ)⋅θ̇ + 0.15⋅cos(φ)⋅cos(θ)⋅φ̇)⋅(0.2⋅sin(φ)⋅cos(θ)⋅θ̇ + 0.2⋅sin(θ)⋅cos(φ\n",
       "                                                                                                  \n",
       "                                                                                                  \n",
       "                                                                                                  \n",
       ")⋅cos(θ)⋅θ̇ + 0.15⋅sin(θ)⋅cos(φ)⋅φ̇ + 0.75⋅ẏ) - (-0.15⋅sin(φ)⋅sin(θ)⋅φ̇ + 0.15⋅cos(φ)⋅cos(θ)⋅θ̇)⋅\n",
       "                                                                                                  \n",
       "                                                                                                  \n",
       "                                                                                                  \n",
       "\n",
       "                                                                                                  \n",
       "                                                                                                  \n",
       "                                                                                                  \n",
       "                                                                                                  \n",
       "                                                                                                  \n",
       "                                                                                                  \n",
       "                                                                                                  \n",
       ")⋅φ̇ + ẏ) - (-0.2⋅sin(φ)⋅cos(θ)⋅θ̇ - 0.2⋅sin(θ)⋅cos(φ)⋅φ̇)⋅(-0.15⋅sin(φ)⋅sin(θ)⋅θ̇ + 0.15⋅cos(φ)⋅\n",
       "                                                                                                  \n",
       "                                                                                                  \n",
       "                                                                                                  \n",
       "(0.2⋅sin(φ)⋅cos(θ)⋅θ̇ + 0.2⋅sin(θ)⋅cos(φ)⋅φ̇ + ẏ) - (-0.2⋅sin(φ)⋅cos(θ)⋅φ̇ - 0.2⋅sin(θ)⋅cos(φ)⋅θ̇\n",
       "                                                                                                  \n",
       "                                                                                                  \n",
       "                                                                                                  \n",
       "\n",
       "                                                                                                  \n",
       "                                                                                                  \n",
       "                                                                                                  \n",
       "                                                                                                  \n",
       "                                                                                                  \n",
       "                                                                                                  \n",
       "                                                                                                  \n",
       "cos(θ)⋅φ̇ + 0.75⋅ẋ) - (-0.15⋅sin(φ)⋅cos(θ)⋅θ̇ - 0.15⋅sin(θ)⋅cos(φ)⋅φ̇)⋅(-0.2⋅sin(φ)⋅sin(θ)⋅θ̇ + 0\n",
       "                                                                                                  \n",
       "                                                                                                  \n",
       "                                                                                                  \n",
       ")⋅(-0.15⋅sin(φ)⋅sin(θ)⋅θ̇ + 0.15⋅cos(φ)⋅cos(θ)⋅φ̇ + 0.75⋅ẋ) - (-0.15⋅sin(φ)⋅cos(θ)⋅φ̇ - 0.15⋅sin(\n",
       "                                                                                                  \n",
       "                                                                                                  \n",
       "                                                                                                  \n",
       "\n",
       "                                                                                                  \n",
       "                                                                                                  \n",
       "                                                                                                  \n",
       "                                                                                                  \n",
       "                                                                                                  \n",
       "                                                                                                  \n",
       "                                                                                                  \n",
       ".2⋅cos(φ)⋅cos(θ)⋅φ̇ + ẋ) - 0.15⋅(-0.2⋅sin(φ)⋅sin(θ)⋅θ̇ + 0.2⋅cos(φ)⋅cos(θ)⋅φ̇ + ẋ)⋅sin(φ)⋅cos(θ)\n",
       "                                                                                                  \n",
       "                                                                                                  \n",
       "                                                                                                  \n",
       "θ)⋅cos(φ)⋅θ̇)⋅(-0.2⋅sin(φ)⋅sin(θ)⋅θ̇ + 0.2⋅cos(φ)⋅cos(θ)⋅φ̇ + ẋ) - 0.15⋅(-0.2⋅sin(φ)⋅sin(θ)⋅θ̇ + \n",
       "                                                                                                  \n",
       "                                                                                                  \n",
       "                                                                                                  \n",
       "\n",
       "                                                                                                  \n",
       "                                                                                                  \n",
       "                                                                                                  \n",
       "                                                                                                  \n",
       "                                                                                                  \n",
       "                                                                                                  \n",
       "                                                                                                  \n",
       "⋅θ̇ - 0.15⋅(-0.2⋅sin(φ)⋅sin(θ)⋅θ̇ + 0.2⋅cos(φ)⋅cos(θ)⋅φ̇ + ẋ)⋅sin(θ)⋅cos(φ)⋅φ̇ - 0.2⋅(-0.15⋅sin(φ\n",
       "                                                                                                  \n",
       "                                                                                                  \n",
       "                                                                                                  \n",
       "0.2⋅cos(φ)⋅cos(θ)⋅φ̇ + ẋ)⋅sin(φ)⋅cos(θ)⋅φ̇ - 0.15⋅(-0.2⋅sin(φ)⋅sin(θ)⋅θ̇ + 0.2⋅cos(φ)⋅cos(θ)⋅φ̇ +\n",
       "                                                                                                  \n",
       "                                                                                                  \n",
       "                                                                                                  \n",
       "\n",
       "                                                                                                  \n",
       "                                                                                                  \n",
       "                                                                                                  \n",
       "                                                                                                  \n",
       "                                                                                                  \n",
       "                                                                                                  \n",
       "                                                                                                  \n",
       ")⋅sin(θ)⋅θ̇ + 0.15⋅cos(φ)⋅cos(θ)⋅φ̇ + 0.75⋅ẋ)⋅sin(φ)⋅cos(θ)⋅θ̇ - 0.2⋅(-0.15⋅sin(φ)⋅sin(θ)⋅θ̇ + 0.\n",
       "                                                                                                  \n",
       "                                                                                                  \n",
       "                                                                                                  \n",
       " ẋ)⋅sin(θ)⋅cos(φ)⋅θ̇ - 0.2⋅(-0.15⋅sin(φ)⋅sin(θ)⋅θ̇ + 0.15⋅cos(φ)⋅cos(θ)⋅φ̇ + 0.75⋅ẋ)⋅sin(φ)⋅cos(\n",
       "                                                                                                  \n",
       "                                                                                                  \n",
       "                                                                                                  \n",
       "\n",
       "                                                                                                  \n",
       "                                                                                 -0.3⋅sin(φ)⋅sin(θ\n",
       "                                                                                                  \n",
       "                                                                                                  \n",
       "                                                                                 - 0.3⋅sin(φ)⋅sin(\n",
       "                                                                                                  \n",
       "                                                                                                  \n",
       "15⋅cos(φ)⋅cos(θ)⋅φ̇ + 0.75⋅ẋ)⋅sin(θ)⋅cos(φ)⋅φ̇ - 0.2⋅(0.15⋅sin(φ)⋅cos(θ)⋅θ̇ + 0.15⋅sin(θ)⋅cos(φ)⋅\n",
       "                                                                                                  \n",
       "                                                                                                  \n",
       "                                                                                                  \n",
       "θ)⋅φ̇ - 0.2⋅(-0.15⋅sin(φ)⋅sin(θ)⋅θ̇ + 0.15⋅cos(φ)⋅cos(θ)⋅φ̇ + 0.75⋅ẋ)⋅sin(θ)⋅cos(φ)⋅θ̇ - 0.2⋅(0.1\n",
       "                                                                                                  \n",
       "                                                                                                  \n",
       "                                                                                                  \n",
       "\n",
       "                         2                      2                                                 \n",
       ")⋅θ̈ - 0.3⋅sin(φ)⋅cos(θ)⋅φ̇  - 0.3⋅sin(φ)⋅cos(θ)⋅θ̇  - 0.6⋅sin(θ)⋅cos(φ)⋅φ̇⋅θ̇ + 0.3⋅cos(φ)⋅cos(θ)\n",
       "                                                                                                  \n",
       "    2                      2                                                                      \n",
       "θ)⋅φ̇  - 0.3⋅sin(φ)⋅sin(θ)⋅θ̇  + 0.3⋅sin(φ)⋅cos(θ)⋅θ̈ + 0.3⋅sin(θ)⋅cos(φ)⋅φ̈ + 0.6⋅cos(φ)⋅cos(θ)⋅φ\n",
       "                                                                                                  \n",
       "                                                                                                  \n",
       "φ̇ + 0.75⋅ẏ)⋅sin(φ)⋅sin(θ)⋅θ̇ + 0.2⋅(0.15⋅sin(φ)⋅cos(θ)⋅θ̇ + 0.15⋅sin(θ)⋅cos(φ)⋅φ̇ + 0.75⋅ẏ)⋅cos\n",
       "                                                                                                  \n",
       "                                                                                                  \n",
       "                                                                                                  \n",
       "5⋅sin(φ)⋅cos(θ)⋅θ̇ + 0.15⋅sin(θ)⋅cos(φ)⋅φ̇ + 0.75⋅ẏ)⋅sin(φ)⋅sin(θ)⋅φ̇ + 0.2⋅(0.15⋅sin(φ)⋅cos(θ)⋅θ\n",
       "                                                                                                  \n",
       "                                                                                                  \n",
       "             -0.0106743675⋅sin(φ)⋅φ̇⋅θ̇ + 0.0106743675⋅cos(φ)⋅θ̈ + 0.0106743675⋅ψ̈                \n",
       "\n",
       "                                                                                                  \n",
       "⋅φ̈ + 2.12369⋅ẍ                                                                                  \n",
       "                                                                                                  \n",
       "                                                                                                  \n",
       "̇⋅θ̇ + 2.12369⋅ÿ                                                                                 \n",
       "                                                                                                  \n",
       "                                                                                                  \n",
       "(φ)⋅cos(θ)⋅φ̇ - 0.15⋅(0.2⋅sin(φ)⋅cos(θ)⋅θ̇ + 0.2⋅sin(θ)⋅cos(φ)⋅φ̇ + ẏ)⋅sin(φ)⋅sin(θ)⋅θ̇ + 0.15⋅(0\n",
       "                                                                                                  \n",
       "                                                                                                  \n",
       "                                                                                                  \n",
       "̇ + 0.15⋅sin(θ)⋅cos(φ)⋅φ̇ + 0.75⋅ẏ)⋅cos(φ)⋅cos(θ)⋅θ̇ - 0.15⋅(0.2⋅sin(φ)⋅cos(θ)⋅θ̇ + 0.2⋅sin(θ)⋅co\n",
       "                                                                                                  \n",
       "                                                                                                  \n",
       "                                                                                                  \n",
       "\n",
       "                                                                                                  \n",
       "                                                                                                  \n",
       "                                                                                                  \n",
       "                                                                                                  \n",
       "                                                                                                  \n",
       "                                                                                                  \n",
       "                                                                    (-0.0106743675⋅sin(φ)⋅φ̇⋅θ̇ + \n",
       ".2⋅sin(φ)⋅cos(θ)⋅θ̇ + 0.2⋅sin(θ)⋅cos(φ)⋅φ̇ + ẏ)⋅cos(φ)⋅cos(θ)⋅φ̇ + 0.00533718375⋅(-sin(φ)⋅φ̇⋅θ̇ +\n",
       "                                                                                                  \n",
       "                                                                                                  \n",
       "                                                             ⎛                     2              \n",
       "s(φ)⋅φ̇ + ẏ)⋅sin(φ)⋅sin(θ)⋅φ̇ + 0.15⋅(0.2⋅sin(φ)⋅cos(θ)⋅θ̇ + 0.2⋅sin(θ)⋅cos(φ)⋅φ̇ + ẏ)⋅cos(φ)⋅co\n",
       "                                                                                                  \n",
       "                                                                                                  \n",
       "                                                                                                  \n",
       "\n",
       "                                                                                                  \n",
       "                                                                                                  \n",
       "                                                                                                  \n",
       "                                                                                                  \n",
       "                                                                                                  \n",
       "                                                                                                  \n",
       "0.0106743675⋅cos(φ)⋅θ̈ + 0.0106743675⋅ψ̈)⋅cos(φ)        ⎛                     2                   \n",
       " cos(φ)⋅θ̈ + ψ̈)⋅cos(φ) + ────────────────────────────────────────────────────────────────────────\n",
       "   2                                                                                              \n",
       "                                                                                                  \n",
       "        2                                                                        ⎞                \n",
       "s(θ)⋅θ̇ + 0.15⋅⎝- 0.2⋅sin(φ)⋅sin(θ)⋅φ̇  - 0.2⋅sin(φ)⋅sin(θ)⋅θ̇  + 0.2⋅sin(φ)⋅cos(θ)⋅θ̈ + 0.2⋅sin(θ\n",
       "                                                                                                  \n",
       "                                                                                                  \n",
       "                                                                                                  \n",
       "\n",
       "                                                                                                  \n",
       "                                                                                                  \n",
       "                                                                                                  \n",
       "                                                                                                  \n",
       "                                                                                                  \n",
       "                                                                                                  \n",
       "   2                                                                        ⎞                     \n",
       "── + 0.15⋅⎝- 0.2⋅sin(φ)⋅sin(θ)⋅φ̇  - 0.2⋅sin(φ)⋅sin(θ)⋅θ̇  + 0.2⋅sin(φ)⋅cos(θ)⋅θ̈ + 0.2⋅sin(θ)⋅cos\n",
       "                                                                                                  \n",
       "                                                                                                  \n",
       "     ⎛                      2                       2                                             \n",
       ")⋅cos(φ)⋅φ̈ + 0.4⋅cos(φ)⋅cos(θ)⋅φ̇⋅θ̇ + ÿ⎠⋅sin(θ)⋅cos(φ) + 0.2⋅⎝- 0.15⋅sin(φ)⋅sin(θ)⋅φ̇  - 0.15⋅s\n",
       "                                                                                                  \n",
       "                                                                                                  \n",
       "                                                                                                  \n",
       "\n",
       "                                                                                                  \n",
       "                                                                                                  \n",
       "                                                                                                  \n",
       "                                                                                                  \n",
       "                                                                                                  \n",
       "                                                                                                  \n",
       "⎛                      2                       2                                                  \n",
       "(φ)⋅φ̈ + 0.4⋅cos(φ)⋅cos(θ)⋅φ̇⋅θ̇ + ÿ⎠⋅sin(φ)⋅cos(θ) + 0.2⋅⎝- 0.15⋅sin(φ)⋅sin(θ)⋅φ̇  - 0.15⋅sin(φ)\n",
       "                                                                                                  \n",
       "                                                                                                  \n",
       "                                  ⎞                      ⎛                                        \n",
       "in(φ)⋅sin(θ)⋅θ̇  + 0.15⋅sin(φ)⋅cos(θ)⋅θ̈ + 0.15⋅sin(θ)⋅cos(φ)⋅φ̈ + 0.3⋅cos(φ)⋅cos(θ)⋅φ̇⋅θ̇ + 0.75⋅\n",
       "                                                                                                  \n",
       "                                                                                                  \n",
       "                                                                                                  \n",
       "\n",
       "                                                                                                  \n",
       "                                                                                                  \n",
       "                                                                                                  \n",
       "                                                                                                  \n",
       "                                                                                                  \n",
       "                                                                                                  \n",
       "                             ⎞                      ⎛                                          2  \n",
       "⋅sin(θ)⋅θ̇  + 0.15⋅sin(φ)⋅cos(θ)⋅θ̈ + 0.15⋅sin(θ)⋅cos(φ)⋅φ̈ + 0.3⋅cos(φ)⋅cos(θ)⋅φ̇⋅θ̇ + 0.75⋅ÿ⎠⋅s\n",
       "                                                                                                  \n",
       "                                                                                                  \n",
       "  2                      2                                                  ⎞                     \n",
       "ÿ⎠⋅sin(θ)⋅cos(φ) + 0.15⋅⎝-0.2⋅sin(φ)⋅sin(θ)⋅θ̈ - 0.2⋅sin(φ)⋅cos(θ)⋅φ̇  - 0.2⋅sin(φ)⋅cos(θ)⋅θ̇  - \n",
       "                                                                                                  \n",
       "                                                                                                  \n",
       "                                                                                                  \n",
       "\n",
       "                                                                                                  \n",
       "                                                                                                  \n",
       "                                                                                                  \n",
       "                                                                                                  \n",
       "                                                                                                  \n",
       "                                                                                                  \n",
       "                    2                                                  ⎞                     ⎛    \n",
       "in(φ)⋅cos(θ) - 0.15⋅⎝-0.2⋅sin(φ)⋅sin(θ)⋅θ̈ - 0.2⋅sin(φ)⋅cos(θ)⋅φ̇  - 0.2⋅sin(φ)⋅cos(θ)⋅θ̇  - 0.4⋅s\n",
       "                                                                                                  \n",
       "                                                                                                  \n",
       "⎛                                            2                       2                            \n",
       "0.4⋅sin(θ)⋅cos(φ)⋅φ̇⋅θ̇ + 0.2⋅cos(φ)⋅cos(θ)⋅φ̈ + ẍ⎠⋅cos(φ)⋅cos(θ) + 0.2⋅⎝-0.15⋅sin(φ)⋅sin(θ)⋅θ̈ -\n",
       "                                                                                                  \n",
       "                                                                                                  \n",
       "                                                                                                  \n",
       "\n",
       "                                                                                                  \n",
       "                                                                                                  \n",
       "                                                                                                  \n",
       "                                                                                                  \n",
       "                                                                                                  \n",
       "                                                                                                  \n",
       "                                        2                       2                                 \n",
       "in(θ)⋅cos(φ)⋅φ̇⋅θ̇ + 0.2⋅cos(φ)⋅cos(θ)⋅φ̈ + ẍ⎠⋅sin(φ)⋅sin(θ) - 0.2⋅⎝-0.15⋅sin(φ)⋅sin(θ)⋅θ̈ - 0.15\n",
       "                                                                                                  \n",
       "                                                                                                  \n",
       "                            ⎞                         2                            2              \n",
       " 0.15⋅sin(φ)⋅cos(θ)⋅φ̇  - 0.15⋅sin(φ)⋅cos(θ)⋅θ̇  - 0.3⋅sin(θ)⋅cos(φ)⋅φ̇⋅θ̇ + 0.15⋅cos(φ)⋅cos(θ)⋅φ̈\n",
       "                                                                                                  \n",
       "                                                                                                  \n",
       "                                                                                                  \n",
       "\n",
       "                                                                                          ⎤\n",
       "                                                                                                 ⎥\n",
       "                                                                                          ⎥\n",
       "                                                                                          ⎥\n",
       "                                                                                                 ⎥\n",
       "                                                                                          ⎥\n",
       "                       ⎞                                  2                                      ⎥\n",
       "⋅sin(φ)⋅cos(θ)⋅φ̇  - 0.15⋅sin(φ)⋅cos(θ)⋅θ̇  - 0.3⋅sin(θ)⋅cos(φ)⋅φ̇⋅θ̇ + 0.15⋅cos(φ)⋅cos(θ)⋅φ̈ + 0.\n",
       "                                                                                          ⎥\n",
       "                                                                                          ⎥\n",
       "                  2                                                                          ⎥\n",
       " + 0.75⋅ẍ⎠⋅cos(φ)⋅cos(θ) + 0.06⋅sin (φ)⋅φ̈ + 0.06⋅sin(φ)⋅cos(φ)⋅φ̇  - 0.01033718375⋅sin(φ)⋅cos(φ)\n",
       "                                                                                          ⎥\n",
       "                                                                                          ⎥\n",
       "                                                                                              ⎦"
      ]
     },
     "execution_count": 50,
     "metadata": {},
     "output_type": "execute_result"
    }
   ],
   "source": [
    "LM = LagrangesMethod(L, qvar)\n",
    "LM.form_lagranges_equations()"
   ]
  },
  {
   "cell_type": "code",
   "execution_count": 59,
   "id": "6d5f2000",
   "metadata": {
    "scrolled": true
   },
   "outputs": [],
   "source": [
    "M = LM.mass_matrix\n",
    "C = LM.forcing\n",
    "\n",
    "Mlin = M.subs(trig_subs)\n",
    "Clin = C.subs(trig_subs)\n",
    "Clin.simplify()\n",
    "Clin"
   ]
  },
  {
   "cell_type": "code",
   "execution_count": 60,
   "id": "d9ae7a00",
   "metadata": {},
   "outputs": [
    {
     "data": {
      "text/latex": [
       "$\\displaystyle \\left[\\begin{matrix}2.12369 & 0 & - 0.3 \\phi \\theta & 0.3 & 0\\\\0 & 2.12369 & 0.3 \\phi & 0.3 \\theta & 0\\\\- 0.3 \\phi \\theta & 0.3 \\phi & 0.06 \\phi^{2} \\theta^{2} + 0.07033718375 \\phi^{2} + 0.0106743675 & 0 & 0.0106743675\\\\0.3 & 0.3 \\theta & 0 & 0.06 \\phi^{2} + 0.06 \\theta^{2} + 0.07033718375 & 0\\\\0 & 0 & 0.0106743675 & 0 & 0.0106743675\\end{matrix}\\right]$"
      ],
      "text/plain": [
       "⎡2.12369      0                       -0.3⋅φ⋅θ                                   0.3              \n",
       "⎢                                                                                                 \n",
       "⎢   0      2.12369                     0.3⋅φ                                    0.3⋅θ             \n",
       "⎢                                                                                                 \n",
       "⎢                         2  2                  2                                                 \n",
       "⎢-0.3⋅φ⋅θ   0.3⋅φ   0.06⋅φ ⋅θ  + 0.07033718375⋅φ  + 0.0106743675                  0               \n",
       "⎢                                                                                                 \n",
       "⎢                                                                       2         2               \n",
       "⎢  0.3      0.3⋅θ                        0                        0.06⋅φ  + 0.06⋅θ  + 0.0703371837\n",
       "⎢                                                                                                 \n",
       "⎣   0         0                     0.0106743675                                  0               \n",
       "\n",
       "        0      ⎤\n",
       "               ⎥\n",
       "        0      ⎥\n",
       "               ⎥\n",
       "               ⎥\n",
       "   0.0106743675⎥\n",
       "               ⎥\n",
       "               ⎥\n",
       "5       0      ⎥\n",
       "               ⎥\n",
       "   0.0106743675⎦"
      ]
     },
     "execution_count": 60,
     "metadata": {},
     "output_type": "execute_result"
    }
   ],
   "source": [
    "Mlin"
   ]
  },
  {
   "cell_type": "code",
   "execution_count": 63,
   "id": "205238e6",
   "metadata": {},
   "outputs": [
    {
     "data": {
      "text/latex": [
       "$\\displaystyle \\left[\\begin{matrix}0.3 \\phi \\dot{\\phi}^{2} + 0.3 \\phi \\dot{\\theta}^{2} + 0.6 \\theta \\dot{\\phi} \\dot{\\theta}\\\\0.3 \\phi \\theta \\dot{\\phi}^{2} + 0.3 \\phi \\theta \\dot{\\theta}^{2} - 0.6 \\dot{\\phi} \\dot{\\theta}\\\\\\left(- 0.12 \\theta^{2} \\dot{\\theta} + 0.0106743675 \\dot{\\psi} - 0.1193256325 \\dot{\\theta}\\right) \\phi \\dot{\\phi}\\\\\\left(0.06 \\theta^{2} \\dot{\\phi}^{2} + 0.06 \\theta^{2} \\dot{\\theta}^{2} - 0.0106743675 \\dot{\\psi} \\dot{\\theta} + 0.05966281625 \\dot{\\theta}^{2} + 14.7\\right) \\phi\\\\0.0106743675 \\phi \\dot{\\phi} \\dot{\\theta}\\end{matrix}\\right]$"
      ],
      "text/plain": [
       "⎡                           2          2                                 ⎤\n",
       "⎢                    0.3⋅φ⋅φ̇  + 0.3⋅φ⋅θ̇  + 0.6⋅θ⋅φ̇⋅θ̇                     ⎥\n",
       "⎢                                                                        ⎥\n",
       "⎢                            2            2                              ⎥\n",
       "⎢                   0.3⋅φ⋅θ⋅φ̇  + 0.3⋅φ⋅θ⋅θ̇  - 0.6⋅φ̇⋅θ̇                    ⎥\n",
       "⎢                                                                        ⎥\n",
       "⎢          ⎛        2                                    ⎞               ⎥\n",
       "⎢          ⎝- 0.12⋅θ ⋅θ̇ + 0.0106743675⋅ψ̇ - 0.1193256325⋅θ̇⎠⋅φ⋅φ̇           ⎥\n",
       "⎢                                                                        ⎥\n",
       "⎢⎛      2  2         2  2                                     2       ⎞  ⎥\n",
       "⎢⎝0.06⋅θ ⋅φ̇  + 0.06⋅θ ⋅θ̇  - 0.0106743675⋅ψ̇⋅θ̇ + 0.05966281625⋅θ̇  + 14.7⎠⋅φ⎥\n",
       "⎢                                                                        ⎥\n",
       "⎣                           0.0106743675⋅φ⋅φ̇⋅θ̇                           ⎦"
      ]
     },
     "execution_count": 63,
     "metadata": {},
     "output_type": "execute_result"
    }
   ],
   "source": [
    "Clin"
   ]
  },
  {
   "cell_type": "code",
   "execution_count": null,
   "id": "50870a1e",
   "metadata": {},
   "outputs": [],
   "source": []
  },
  {
   "cell_type": "code",
   "execution_count": null,
   "id": "9ba9d709",
   "metadata": {},
   "outputs": [],
   "source": []
  }
 ],
 "metadata": {
  "kernelspec": {
   "display_name": "Python 3 (ipykernel)",
   "language": "python",
   "name": "python3"
  },
  "language_info": {
   "codemirror_mode": {
    "name": "ipython",
    "version": 3
   },
   "file_extension": ".py",
   "mimetype": "text/x-python",
   "name": "python",
   "nbconvert_exporter": "python",
   "pygments_lexer": "ipython3",
   "version": "3.10.6"
  }
 },
 "nbformat": 4,
 "nbformat_minor": 5
}
