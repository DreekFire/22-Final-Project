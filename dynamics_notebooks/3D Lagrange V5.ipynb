{
 "cells": [
  {
   "cell_type": "markdown",
   "id": "ae5854b5",
   "metadata": {},
   "source": [
    "https://www.dropbox.com/s/k585ptm20y1cl86/ETH_Ballbot_Thesis.pdf?dl=0"
   ]
  },
  {
   "cell_type": "code",
   "execution_count": 1,
   "id": "66e0c095",
   "metadata": {},
   "outputs": [],
   "source": [
    "from sympy import *\n",
    "from sympy.physics.mechanics import dynamicsymbols, init_vprinting, LagrangesMethod, Lagrangian\n",
    "from sympy.physics import mechanics\n",
    "import sympy as sp\n",
    "init_vprinting()\n",
    "\n",
    "import numpy as np\n",
    "import math\n",
    "from time import time, sleep"
   ]
  },
  {
   "cell_type": "code",
   "execution_count": 40,
   "id": "c491dc60",
   "metadata": {},
   "outputs": [],
   "source": [
    "def hat(v):\n",
    "    a, b, c = v\n",
    "    return Matrix([[0, -c, b], [c, 0, -a], [-b, a, 0]])\n",
    "\n",
    "def Ad(H):\n",
    "    R = H[:3, :3]\n",
    "    o = H[:3, 3]\n",
    "    Z = zeros(3)\n",
    "    ans = [[R, Z], [hat(o) @ R, R]]\n",
    "    return Matrix(ans)\n",
    "\n",
    "def Hinv(H):\n",
    "    R = H[:3, :3]\n",
    "    p = H[:3, 3]\n",
    "    z = Matrix(np.zeros((1, 3)))\n",
    "    return Matrix([[R.T, -R.T @ p], [z, Matrix([1])]])\n",
    "\n",
    "def jacobian(v, dq):\n",
    "    if type(v) != Matrix:\n",
    "        v = Matrix([v])\n",
    "    n = len(v)\n",
    "    m = len(dq)\n",
    "    ans = np.zeros((n, m), dtype=object)\n",
    "    \n",
    "    zeros_slist = [(var, 0) for var in dq]\n",
    "    for i in range(n):\n",
    "        for j in range(m):\n",
    "            ans[i, j] = v[i].subs(dq[j], 1).subs(zeros_slist)\n",
    "    return Matrix(ans)\n",
    "\n",
    "def partial(arg, x):\n",
    "    lst = []\n",
    "    for v in x:\n",
    "        lst.append(arg.diff(v))\n",
    "    return Matrix([lst])\n",
    "\n",
    "def Rx(th):\n",
    "    return Matrix([[1, 0, 0], [0, cos(th), -sin(th)], [0, sin(th), cos(th)]])\n",
    "\n",
    "def Ry(th):\n",
    "    return Matrix([[cos(th), 0, sin(th)], [0, 1, 0], [-sin(th), 0, cos(th)]])\n",
    "\n",
    "def Rz(th):\n",
    "    return Matrix([[cos(th), -sin(th), 0], [sin(th), cos(th), 0], [0, 0, 1]])\n",
    "\n",
    "def nice_display(mat):\n",
    "    return Matrix(np.array(mat, dtype=float).round(5))\n"
   ]
  },
  {
   "cell_type": "code",
   "execution_count": 3,
   "id": "4ab402db",
   "metadata": {},
   "outputs": [],
   "source": [
    "t = symbols(\"t\")\n",
    "q = Matrix(dynamicsymbols(\"theta_x theta_y theta_z phi_x phi_y\"))\n",
    "dq = q.diff(t)\n",
    "\n",
    "thx, thy, thz, phix, phiy = q\n",
    "dthx, dthy, dthz, dphix, dphiy = dq\n",
    "\n",
    "Tvec = Matrix(symbols(\"T_1 T_2 T_3\"))\n",
    "T1, T2, T3 = Tvec\n",
    "\n",
    "if False:\n",
    "    mk, mw, ma, rk, rw, ra = symbols(\"m_k m_w m_a r_k r_w r_a\")\n",
    "    l = symbols(\"l\") # Height of COM\n",
    "    igear = symbols(\"i_Gear\")\n",
    "    g = symbols(\"g\")\n",
    "    \n",
    "    iK, iAx, iAy, iAz, iW = symbols(\"I_K I_Ax I_Ay I_Az I_W\")\n",
    "else:\n",
    "    # Parameters\n",
    "    alpha = rad(45)\n",
    "    b1, b2, b3 = 0, rad(120), rad(240)\n",
    "\n",
    "    mk = 2.29\n",
    "    mw = 3\n",
    "    ma = 9.2\n",
    "    rk = 0.125\n",
    "    rw = 0.06\n",
    "    ra = 0.1\n",
    "    l = 0.339\n",
    "    igear = 26\n",
    "    \n",
    "    iK = 0.0239\n",
    "    iAx = 2.026\n",
    "    iAy = 2.025\n",
    "    iAz = 0.092\n",
    "    iW = 0.00315\n",
    "    \n",
    "    g = 9.8\n",
    "    \n",
    "IIK = diag(iK, iK, iK)\n",
    "LIK = IIK\n",
    "AIA = diag(iAx, iAy, iAz)\n"
   ]
  },
  {
   "cell_type": "code",
   "execution_count": 4,
   "id": "8e9e285d",
   "metadata": {},
   "outputs": [],
   "source": [
    "RIL = Rz(thz)\n",
    "RLI = RIL.T\n",
    "\n",
    "RLA = Ry(thy) * Rx(thx)\n",
    "RAL = RLA.T\n",
    "\n",
    "RIA = RIL * RLA\n",
    "RAI = RIA.T"
   ]
  },
  {
   "cell_type": "code",
   "execution_count": 5,
   "id": "d33615f8",
   "metadata": {},
   "outputs": [],
   "source": [
    "# Angular velocity of the ball \n",
    "LWK = Matrix([dphix, dphiy, 0])\n",
    "# Angular speed of the body\n",
    "AWA = Matrix([dthx - sin(thy)*dthz, \n",
    "              cos(thx)*dthy + cos(thy)*sin(thx)*dthz, \n",
    "              -sin(thx)*dthy + cos(thx)*cos(thy)*dthz])"
   ]
  },
  {
   "cell_type": "code",
   "execution_count": 75,
   "id": "f2146be1",
   "metadata": {},
   "outputs": [
    {
     "data": {
      "text/latex": [
       "$\\displaystyle \\left[\\begin{matrix}\\frac{\\sqrt{2}}{2}\\\\0\\\\- \\frac{\\sqrt{2}}{2}\\end{matrix}\\right]$"
      ],
      "text/plain": [
       "⎡ √2 ⎤\n",
       "⎢ ── ⎥\n",
       "⎢ 2  ⎥\n",
       "⎢    ⎥\n",
       "⎢ 0  ⎥\n",
       "⎢    ⎥\n",
       "⎢-√2 ⎥\n",
       "⎢────⎥\n",
       "⎣ 2  ⎦"
      ]
     },
     "execution_count": 75,
     "metadata": {},
     "output_type": "execute_result"
    }
   ],
   "source": [
    "Ry(alpha) * Matrix([1, 0, 0])"
   ]
  },
  {
   "cell_type": "code",
   "execution_count": 95,
   "id": "db6e3625",
   "metadata": {},
   "outputs": [],
   "source": [
    "# Speed of the omniwheels:\n",
    "\n",
    "# Motor Axis\n",
    "MW_gen = Ry(alpha) * Matrix([1, 0, 0])\n",
    "MW1 = simplify(Rz(b1) * MW_gen)\n",
    "MW2 = simplify(Rz(b2) * MW_gen)\n",
    "MW3 = simplify(Rz(b3) * MW_gen)\n",
    "\n",
    "# Vec from center of ball to pmniwheel contact point\n",
    "APK_gen = Ry(alpha) * Matrix([0, 0, rk])\n",
    "# Vec of tangential omniwheel speed\n",
    "Ad_gen = Matrix([0, 1, 0])\n",
    "\n",
    "APK1 = Rz(b1) * APK_gen\n",
    "Ad1 = Rz(b1) * Ad_gen\n",
    "\n",
    "APK2 = Rz(b2) * APK_gen\n",
    "Ad2 = Rz(b2) * Ad_gen\n",
    "\n",
    "APK3 = Rz(b3) * APK_gen\n",
    "Ad3 = Rz(b3) * Ad_gen\n",
    "\n",
    "# Angular velocity of ball w.r.t. body in A frame\n",
    "AwK = RAL * LWK - AWA\n",
    "\n",
    "# Solving for A_w_Wi\n",
    "AwW1 = AwK.cross(APK1).dot(Ad1) / rw\n",
    "AwW2 = AwK.cross(APK2).dot(Ad2) / rw\n",
    "AwW3 = AwK.cross(APK3).dot(Ad3) / rw\n",
    "\n",
    "AWW1 = AwW1 + MW1.dot(AWA) / MW1.norm()\n",
    "AWW2 = AwW2 + MW2.dot(AWA) / MW2.norm()\n",
    "AWW3 = AwW3 + MW3.dot(AWA) / MW3.norm()\n",
    "\n",
    "# Checked AWW2. Is correct."
   ]
  },
  {
   "cell_type": "code",
   "execution_count": 130,
   "id": "42c4b1b3",
   "metadata": {},
   "outputs": [
    {
     "data": {
      "image/png": "[encoded data removed]",
      "text/latex": [
       "$\\displaystyle - \\frac{\\sqrt{3} \\left(- 0.03125 \\sqrt{6} \\left(- \\sin{\\left(\\theta_{x} \\right)} \\dot{\\phi}_{y} + \\sin{\\left(\\theta_{x} \\right)} \\dot{\\theta}_{y} + \\sin{\\left(\\theta_{y} \\right)} \\cos{\\left(\\theta_{x} \\right)} \\dot{\\phi}_{x} - \\cos{\\left(\\theta_{x} \\right)} \\cos{\\left(\\theta_{y} \\right)} \\dot{\\theta}_{z}\\right) + 0.0625 \\sqrt{2} \\left(\\sin{\\left(\\theta_{x} \\right)} \\sin{\\left(\\theta_{y} \\right)} \\dot{\\phi}_{x} - \\sin{\\left(\\theta_{x} \\right)} \\cos{\\left(\\theta_{y} \\right)} \\dot{\\theta}_{z} + \\cos{\\left(\\theta_{x} \\right)} \\dot{\\phi}_{y} - \\cos{\\left(\\theta_{x} \\right)} \\dot{\\theta}_{y}\\right)\\right)}{2} + 0.03125 \\sqrt{2} \\left(\\sin{\\left(\\theta_{y} \\right)} \\dot{\\theta}_{z} + \\cos{\\left(\\theta_{y} \\right)} \\dot{\\phi}_{x} - \\dot{\\theta}_{x}\\right) + 0.015625 \\sqrt{2} \\left(- \\sin{\\left(\\theta_{x} \\right)} \\dot{\\phi}_{y} + \\sin{\\left(\\theta_{x} \\right)} \\dot{\\theta}_{y} + \\sin{\\left(\\theta_{y} \\right)} \\cos{\\left(\\theta_{x} \\right)} \\dot{\\phi}_{x} - \\cos{\\left(\\theta_{x} \\right)} \\cos{\\left(\\theta_{y} \\right)} \\dot{\\theta}_{z}\\right)$"
      ],
      "text/plain": [
       "  √3⋅(-0.03125⋅√6⋅(-sin(θₓ)⋅φ_̇y + sin(θₓ)⋅θ_̇y + sin(θ_y)⋅cos(θₓ)⋅φₓ̇ - cos(θ\n",
       "- ────────────────────────────────────────────────────────────────────────────\n",
       "                                                                              \n",
       "\n",
       "ₓ)⋅cos(θ_y)⋅θ_̇z) + 0.0625⋅√2⋅(sin(θₓ)⋅sin(θ_y)⋅φₓ̇ - sin(θₓ)⋅cos(θ_y)⋅θ_̇z + \n",
       "──────────────────────────────────────────────────────────────────────────────\n",
       "           2                                                                  \n",
       "\n",
       "cos(θₓ)⋅φ_̇y - cos(θₓ)⋅θ_̇y))                                                 \n",
       "───────────────────── + 0.03125⋅√2⋅(sin(θ_y)⋅θ_̇z + cos(θ_y)⋅φₓ̇ - θₓ̇) + 0.01\n",
       "                                                                              \n",
       "\n",
       "                                                                              \n",
       "5625⋅√2⋅(-sin(θₓ)⋅φ_̇y + sin(θₓ)⋅θ_̇y + sin(θ_y)⋅cos(θₓ)⋅φₓ̇ - cos(θₓ)⋅cos(θ_y\n",
       "                                                                              "
      ]
     },
     "execution_count": 130,
     "metadata": {},
     "output_type": "execute_result"
    }
   ],
   "source": [
    "AwK.cross(APK2).dot(Ad2)"
   ]
  },
  {
   "cell_type": "code",
   "execution_count": 129,
   "id": "d7e888f6",
   "metadata": {},
   "outputs": [
    {
     "data": {
      "image/png": "[encoded data removed]",
      "text/latex": [
       "$\\displaystyle \\frac{\\sqrt{3} \\cdot \\left(0.03125 \\sqrt{6} \\left(- \\sin{\\left(\\theta_{x} \\right)} \\dot{\\phi}_{y} + \\sin{\\left(\\theta_{x} \\right)} \\dot{\\theta}_{y} + \\sin{\\left(\\theta_{y} \\right)} \\cos{\\left(\\theta_{x} \\right)} \\dot{\\phi}_{x} - \\cos{\\left(\\theta_{x} \\right)} \\cos{\\left(\\theta_{y} \\right)} \\dot{\\theta}_{z}\\right) + 0.0625 \\sqrt{2} \\left(\\sin{\\left(\\theta_{x} \\right)} \\sin{\\left(\\theta_{y} \\right)} \\dot{\\phi}_{x} - \\sin{\\left(\\theta_{x} \\right)} \\cos{\\left(\\theta_{y} \\right)} \\dot{\\theta}_{z} + \\cos{\\left(\\theta_{x} \\right)} \\dot{\\phi}_{y} - \\cos{\\left(\\theta_{x} \\right)} \\dot{\\theta}_{y}\\right)\\right)}{2} + 0.03125 \\sqrt{2} \\left(\\sin{\\left(\\theta_{y} \\right)} \\dot{\\theta}_{z} + \\cos{\\left(\\theta_{y} \\right)} \\dot{\\phi}_{x} - \\dot{\\theta}_{x}\\right) + 0.015625 \\sqrt{2} \\left(- \\sin{\\left(\\theta_{x} \\right)} \\dot{\\phi}_{y} + \\sin{\\left(\\theta_{x} \\right)} \\dot{\\theta}_{y} + \\sin{\\left(\\theta_{y} \\right)} \\cos{\\left(\\theta_{x} \\right)} \\dot{\\phi}_{x} - \\cos{\\left(\\theta_{x} \\right)} \\cos{\\left(\\theta_{y} \\right)} \\dot{\\theta}_{z}\\right)$"
      ],
      "text/plain": [
       "√3⋅(0.03125⋅√6⋅(-sin(θₓ)⋅φ_̇y + sin(θₓ)⋅θ_̇y + sin(θ_y)⋅cos(θₓ)⋅φₓ̇ - cos(θₓ)⋅\n",
       "──────────────────────────────────────────────────────────────────────────────\n",
       "                                                                              \n",
       "\n",
       "cos(θ_y)⋅θ_̇z) + 0.0625⋅√2⋅(sin(θₓ)⋅sin(θ_y)⋅φₓ̇ - sin(θₓ)⋅cos(θ_y)⋅θ_̇z + cos\n",
       "──────────────────────────────────────────────────────────────────────────────\n",
       "        2                                                                     \n",
       "\n",
       "(θₓ)⋅φ_̇y - cos(θₓ)⋅θ_̇y))                                                    \n",
       "────────────────── + 0.03125⋅√2⋅(sin(θ_y)⋅θ_̇z + cos(θ_y)⋅φₓ̇ - θₓ̇) + 0.01562\n",
       "                                                                              \n",
       "\n",
       "                                                                              \n",
       "5⋅√2⋅(-sin(θₓ)⋅φ_̇y + sin(θₓ)⋅θ_̇y + sin(θ_y)⋅cos(θₓ)⋅φₓ̇ - cos(θₓ)⋅cos(θ_y)⋅θ\n",
       "                                                                           "
      ]
     },
     "execution_count": 129,
     "metadata": {},
     "output_type": "execute_result"
    }
   ],
   "source": [
    "AwK.cross(APK3).dot(Ad3)"
   ]
  },
  {
   "cell_type": "code",
   "execution_count": 97,
   "id": "e4ea389e",
   "metadata": {},
   "outputs": [],
   "source": [
    "# Speed vector of the center of the ball\n",
    "IBP = Matrix([0, 0, rk])\n",
    "IWK = RIL * LWK\n",
    "IdrP = IWK.cross(IBP)"
   ]
  },
  {
   "cell_type": "code",
   "execution_count": 98,
   "id": "81b852ec",
   "metadata": {},
   "outputs": [],
   "source": [
    "# Ball Energy\n",
    "Tk = mk/2 * IdrP.T*IdrP + LWK.T * LIK * LWK / 2\n",
    "Tk = Tk[0]\n",
    "\n",
    "# Body Energy\n",
    "G = Matrix([0, 0, -g])\n",
    "ArPSA = Matrix([0, 0, l]) # Not sure (vec from center of ball P to COM of body in A coords)\n",
    "\n",
    "Ta = ma/2 * IdrP.dot(IdrP) + ma*(RAI*IdrP).dot(AWA.cross(ArPSA)) + AWA.dot(AIA * AWA)/2\n",
    "Va = -ma*G.T * RIA * ArPSA\n",
    "Va = Va[0]\n",
    "\n",
    "# Omniwheel Energy\n",
    "TWs = iW * simplify(AWW1**2 + AWW2**2 + AWW3**2)\n"
   ]
  },
  {
   "cell_type": "code",
   "execution_count": 99,
   "id": "737f8fde",
   "metadata": {},
   "outputs": [],
   "source": [
    "JT1 = jacobian(AwW1, dq)\n",
    "JT2 = jacobian(AwW2, dq)\n",
    "JT3 = jacobian(AwW3, dq)\n",
    "\n",
    "TC1 = MW1/MW1.norm() * -T1\n",
    "TC2 = MW2/MW2.norm() * -T2\n",
    "TC3 = MW3/MW3.norm() * -T3\n",
    "\n",
    "JTC = jacobian(AWA, dq)"
   ]
  },
  {
   "cell_type": "code",
   "execution_count": 100,
   "id": "d609080e",
   "metadata": {},
   "outputs": [],
   "source": [
    "f_NP = JT1.T * T1 + JT2.T * T2 + JT3.T * T3 + JTC.T * (TC1 + TC2 + TC3)"
   ]
  },
  {
   "cell_type": "code",
   "execution_count": 111,
   "id": "6298cfdb",
   "metadata": {},
   "outputs": [
    {
     "data": {
      "text/latex": [
       "$\\displaystyle \\left[\\begin{matrix}1.47314 & -0.73657 & -0.73657\\\\0 & 1.27578 & -1.27578\\\\-1.47314 & -1.47314 & -1.47314\\\\-1.47314 & 0.73657 & 0.73657\\\\0 & -1.27578 & 1.27578\\end{matrix}\\right]$"
      ],
      "text/plain": [
       "⎡1.47314   -0.73657  -0.73657⎤\n",
       "⎢                            ⎥\n",
       "⎢   0      1.27578   -1.27578⎥\n",
       "⎢                            ⎥\n",
       "⎢-1.47314  -1.47314  -1.47314⎥\n",
       "⎢                            ⎥\n",
       "⎢-1.47314  0.73657   0.73657 ⎥\n",
       "⎢                            ⎥\n",
       "⎣   0      -1.27578  1.27578 ⎦"
      ]
     },
     "execution_count": 111,
     "metadata": {},
     "output_type": "execute_result"
    }
   ],
   "source": [
    "nice_display(partial(JT1.T * T1 + JT2.T * T2 + JT3.T * T3, Tvec).subs(xbar_subs))"
   ]
  },
  {
   "cell_type": "code",
   "execution_count": 122,
   "id": "8cdc5f2d",
   "metadata": {},
   "outputs": [
    {
     "data": {
      "image/png": "[encoded data removed]",
      "text/latex": [
       "$\\displaystyle - 8.33333333333333 \\sqrt{3} \\cdot \\left(0.03125 \\sqrt{6} \\sin{\\left(\\theta_{x} \\right)} + 0.0625 \\sqrt{2} \\cos{\\left(\\theta_{x} \\right)}\\right) - 0.260416666666667 \\sqrt{2} \\sin{\\left(\\theta_{x} \\right)}$"
      ],
      "text/plain": [
       "-8.33333333333333⋅√3⋅(0.03125⋅√6⋅sin(θₓ) + 0.0625⋅√2⋅cos(θₓ)) - 0.260416666666\n",
       "667⋅√2⋅sin(θₓ)"
      ]
     },
     "execution_count": 122,
     "metadata": {},
     "output_type": "execute_result"
    }
   ],
   "source": [
    "JT2[4]"
   ]
  },
  {
   "cell_type": "code",
   "execution_count": 123,
   "id": "4c111b9c",
   "metadata": {},
   "outputs": [
    {
     "data": {
      "image/png": "[encoded data removed]",
      "text/latex": [
       "$\\displaystyle 8.33333333333333 \\sqrt{3} \\left(- 0.03125 \\sqrt{6} \\sin{\\left(\\theta_{x} \\right)} + 0.0625 \\sqrt{2} \\cos{\\left(\\theta_{x} \\right)}\\right) - 0.260416666666667 \\sqrt{2} \\sin{\\left(\\theta_{x} \\right)}$"
      ],
      "text/plain": [
       "8.33333333333333⋅√3⋅(-0.03125⋅√6⋅sin(θₓ) + 0.0625⋅√2⋅cos(θₓ)) - 0.260416666666\n",
       "667⋅√2⋅sin(θₓ)"
      ]
     },
     "execution_count": 123,
     "metadata": {},
     "output_type": "execute_result"
    }
   ],
   "source": [
    "JT3[4]"
   ]
  },
  {
   "cell_type": "code",
   "execution_count": 101,
   "id": "4f5c0ff0",
   "metadata": {},
   "outputs": [],
   "source": [
    "xbar_subs = [(v, 0) for v in q] + [(v, 0) for v in dq]\n",
    "xvar = Matrix([q, dq])\n",
    "u = Tvec"
   ]
  },
  {
   "cell_type": "code",
   "execution_count": 102,
   "id": "95530baf",
   "metadata": {},
   "outputs": [
    {
     "name": "stdout",
     "output_type": "stream",
     "text": [
      "Took 3.12 seconds\n"
     ]
    }
   ],
   "source": [
    "t0 = time()\n",
    "LM = LagrangesMethod(Tk + Ta + TWs - Va, q)\n",
    "LM.form_lagranges_equations()\n",
    "print(\"Took %.2f seconds\"%(time() - t0))"
   ]
  },
  {
   "cell_type": "code",
   "execution_count": 103,
   "id": "7d27a10f",
   "metadata": {},
   "outputs": [],
   "source": [
    "Mlin_sp = LM.mass_matrix.subs(xbar_subs)\n",
    "Minv_sp = Mlin_sp.inv()\n",
    "\n",
    "Glin_sp = -LM.forcing.subs([(v, 0) for v in (list(dq) + list(dq.diff(t)))])\n",
    "dG_sp = np.array(partial(Glin_sp, xvar).subs(xbar_subs).doit(), dtype=float).round(3)\n",
    "\n",
    "Abot_sp = Minv_sp @ -dG_sp"
   ]
  },
  {
   "cell_type": "code",
   "execution_count": 107,
   "id": "719d9d9f",
   "metadata": {},
   "outputs": [],
   "source": [
    "dT_ext = np.array(partial(f_NP, Tvec).subs(xbar_subs), dtype=float).round(3)\n",
    "Bbot_sp = Minv_sp @ dT_ext"
   ]
  },
  {
   "cell_type": "code",
   "execution_count": 90,
   "id": "6574e59c",
   "metadata": {},
   "outputs": [
    {
     "data": {
      "text/latex": [
       "$\\displaystyle \\left[\\begin{matrix}20.4605302850238 & 0 & 0 & 0 & 0 & 0 & 0 & 0 & 0 & 0\\\\0 & 20.4742364011719 & 0 & 0 & 0 & 0 & 0 & 0 & 0 & 0\\\\0 & 0 & 0 & 0 & 0 & 0 & 0 & 0 & 0 & 0\\\\-32.8461170899449 & 0 & 0 & 0 & 0 & 0 & 0 & 0 & 0 & 0\\\\0 & -32.8681200727404 & 0 & 0 & 0 & 0 & 0 & 0 & 0 & 0\\end{matrix}\\right]$"
      ],
      "text/plain": [
       "⎡20.4605302850238           0          0  0  0  0  0  0  0  0⎤\n",
       "⎢                                                            ⎥\n",
       "⎢        0          20.4742364011719   0  0  0  0  0  0  0  0⎥\n",
       "⎢                                                            ⎥\n",
       "⎢        0                  0          0  0  0  0  0  0  0  0⎥\n",
       "⎢                                                            ⎥\n",
       "⎢-32.8461170899449          0          0  0  0  0  0  0  0  0⎥\n",
       "⎢                                                            ⎥\n",
       "⎣        0          -32.8681200727404  0  0  0  0  0  0  0  0⎦"
      ]
     },
     "execution_count": 90,
     "metadata": {},
     "output_type": "execute_result"
    }
   ],
   "source": [
    "Abot_sp"
   ]
  },
  {
   "cell_type": "code",
   "execution_count": 57,
   "id": "28eb9e83",
   "metadata": {},
   "outputs": [],
   "source": [
    "L = Tk + Ta + TWs - Va\n",
    "\n",
    "LEQ = L.diff(dq).diff(t) - L.diff(q)\n",
    "\n",
    "Gpart = LEQ.subs([(v, 0) for v in (list(dq) + list(dq.diff(t)))]).doit()\n",
    "remainder = (LEQ - Gpart).doit()\n",
    "\n",
    "Cpart = (remainder.subs([(v, 0) for v in dq.diff(t)])).doit()\n",
    "Mpart = (remainder - Cpart).doit()\n",
    "\n",
    "Mmat = partial(Mpart, dq.diff(t))\n",
    "Mlin = Mmat.subs(xbar_subs)\n",
    "Minv = Mlin.inv()"
   ]
  },
  {
   "cell_type": "code",
   "execution_count": 58,
   "id": "51b87cb8",
   "metadata": {},
   "outputs": [
    {
     "data": {
      "text/latex": [
       "$\\displaystyle \\left[\\begin{matrix}20.46053 & 0 & 0 & 0 & 0 & 0 & 0 & 0 & 0 & 0\\\\0 & 20.47424 & 0 & 0 & 0 & 0 & 0 & 0 & 0 & 0\\\\0 & 0 & 0 & 0 & 0 & 0 & 0 & 0 & 0 & 0\\\\-32.84612 & 0 & 0 & 0 & 0 & 0 & 0 & 0 & 0 & 0\\\\0 & -32.86812 & 0 & 0 & 0 & 0 & 0 & 0 & 0 & 0\\end{matrix}\\right]$"
      ],
      "text/plain": [
       "⎡20.46053       0      0  0  0  0  0  0  0  0⎤\n",
       "⎢                                            ⎥\n",
       "⎢    0      20.47424   0  0  0  0  0  0  0  0⎥\n",
       "⎢                                            ⎥\n",
       "⎢    0          0      0  0  0  0  0  0  0  0⎥\n",
       "⎢                                            ⎥\n",
       "⎢-32.84612      0      0  0  0  0  0  0  0  0⎥\n",
       "⎢                                            ⎥\n",
       "⎣    0      -32.86812  0  0  0  0  0  0  0  0⎦"
      ]
     },
     "execution_count": 58,
     "metadata": {},
     "output_type": "execute_result"
    }
   ],
   "source": [
    "Abot = np.array(Minv * -dG, dtype=float).round(5)\n",
    "Matrix(Abot)"
   ]
  },
  {
   "cell_type": "code",
   "execution_count": 59,
   "id": "f522f6b0",
   "metadata": {},
   "outputs": [
    {
     "data": {
      "text/latex": [
       "$\\displaystyle \\left( \\left[\\begin{matrix}0.66943 & 0 & 0 & -1.07467 & 0\\\\0 & 0.66988 & 0 & 0 & -1.07539\\\\0 & 0 & 5.49932 & 0 & 0\\\\-1.07467 & 0 & 0 & 6.19071 & 0\\\\0 & -1.07539 & 0 & 0 & 6.19186\\end{matrix}\\right], \\  \\left[\\begin{matrix}0.766 & -0.383 & -0.383\\\\0 & 0.663 & -0.663\\\\-0.766 & -0.766 & -0.766\\\\-1.473 & 0.737 & 0.737\\\\0 & -1.276 & 1.276\\end{matrix}\\right]\\right)$"
      ],
      "text/plain": [
       "⎛⎡0.66943      0         0     -1.07467     0    ⎤  ⎡0.766   -0.383  -0.383⎤⎞\n",
       "⎜⎢                                               ⎥  ⎢                      ⎥⎟\n",
       "⎜⎢   0      0.66988      0        0      -1.07539⎥  ⎢  0     0.663   -0.663⎥⎟\n",
       "⎜⎢                                               ⎥  ⎢                      ⎥⎟\n",
       "⎜⎢   0         0      5.49932     0         0    ⎥, ⎢-0.766  -0.766  -0.766⎥⎟\n",
       "⎜⎢                                               ⎥  ⎢                      ⎥⎟\n",
       "⎜⎢-1.07467     0         0     6.19071      0    ⎥  ⎢-1.473  0.737   0.737 ⎥⎟\n",
       "⎜⎢                                               ⎥  ⎢                      ⎥⎟\n",
       "⎝⎣   0      -1.07539     0        0      6.19186 ⎦  ⎣  0     -1.276  1.276 ⎦⎠"
      ]
     },
     "execution_count": 59,
     "metadata": {},
     "output_type": "execute_result"
    }
   ],
   "source": [
    "nice_display(Minv), nice_display(dT_ext)"
   ]
  },
  {
   "cell_type": "code",
   "execution_count": 60,
   "id": "649a2cf9",
   "metadata": {},
   "outputs": [
    {
     "data": {
      "text/latex": [
       "$\\displaystyle \\left[\\begin{matrix}2.09594 & -1.04797 & -1.04797\\\\0 & 1.81635 & -1.81635\\\\-4.21266 & -4.21266 & -4.21266\\\\-9.943 & 4.9715 & 4.9715\\\\0 & -8.61284 & 8.61284\\end{matrix}\\right]$"
      ],
      "text/plain": [
       "⎡2.09594   -1.04797  -1.04797⎤\n",
       "⎢                            ⎥\n",
       "⎢   0      1.81635   -1.81635⎥\n",
       "⎢                            ⎥\n",
       "⎢-4.21266  -4.21266  -4.21266⎥\n",
       "⎢                            ⎥\n",
       "⎢ -9.943    4.9715    4.9715 ⎥\n",
       "⎢                            ⎥\n",
       "⎣   0      -8.61284  8.61284 ⎦"
      ]
     },
     "execution_count": 60,
     "metadata": {},
     "output_type": "execute_result"
    }
   ],
   "source": [
    "dT_ext = np.array(partial(f_NP, Tvec).subs(xbar_subs), dtype=float).round(7)\n",
    "Bbot = np.array(Minv * dT_ext, dtype=float).round(5)\n",
    "Matrix(Bbot)"
   ]
  },
  {
   "cell_type": "code",
   "execution_count": null,
   "id": "42c408ee",
   "metadata": {},
   "outputs": [],
   "source": []
  }
 ],
 "metadata": {
  "kernelspec": {
   "display_name": "Python 3 (ipykernel)",
   "language": "python",
   "name": "python3"
  },
  "language_info": {
   "codemirror_mode": {
    "name": "ipython",
    "version": 3
   },
   "file_extension": ".py",
   "mimetype": "text/x-python",
   "name": "python",
   "nbconvert_exporter": "python",
   "pygments_lexer": "ipython3",
   "version": "3.10.6"
  },
  "vscode": {
   "interpreter": {
    "hash": "e7370f93d1d0cde622a1f8e1c04877d8463912d04d973331ad4851f04de6915a"
   }
  }
 },
 "nbformat": 4,
 "nbformat_minor": 5
}
