{
 "cells": [
  {
   "cell_type": "code",
   "execution_count": 3,
   "id": "d9f76e2b",
   "metadata": {},
   "outputs": [],
   "source": [
    "from sympy import *\n",
    "from sympy.physics.mechanics import dynamicsymbols, init_vprinting\n",
    "init_vprinting()"
   ]
  },
  {
   "cell_type": "markdown",
   "id": "8d91c0d5",
   "metadata": {},
   "source": [
    "# Old Calcs - Lagrangian  Calcs V2\n"
   ]
  },
  {
   "cell_type": "code",
   "execution_count": 4,
   "id": "7835cc23",
   "metadata": {},
   "outputs": [],
   "source": [
    "x, y = dynamicsymbols(\"x y\")\n",
    "t = symbols(\"t\")\n",
    "dx = x.diff(t)\n",
    "dy = y.diff(t)\n",
    "\n",
    "m, M, g, r, rh, Ib, Ih = symbols(\"m M g r r_h I_b I_h\")\n",
    "\n",
    "phi = (x - y) / r\n",
    "dphi = phi.diff(t)\n",
    "\n",
    "\n",
    "qlist = [x, y]\n",
    "qmat = Matrix([[x] for x in qlist])\n",
    "dqmat = qmat.diff(t)"
   ]
  },
  {
   "cell_type": "code",
   "execution_count": 5,
   "id": "e56c47c4",
   "metadata": {},
   "outputs": [],
   "source": [
    "Tb = (M + Ib/r**2)/2 * dx**2\n",
    "\n",
    "vh_x = dx + cos(phi) * rh*dphi\n",
    "vh_y = -sin(phi) * rh*dphi\n",
    "vsq = (vh_x**2 + vh_y**2).expand().trigsimp().simplify()\n",
    "\n",
    "Th = m/2 * (vsq) + Ih/2 * dphi**2\n",
    "Th.simplify().trigsimp()\n",
    "\n",
    "Vh =  m*g*cos(phi)"
   ]
  },
  {
   "cell_type": "code",
   "execution_count": 6,
   "id": "6b5b8984",
   "metadata": {},
   "outputs": [
    {
     "data": {
      "image/png": "[encoded data removed]",
      "text/latex": [
       "$\\displaystyle \\frac{I_{h} \\left(\\dot{x} - \\dot{y}\\right)^{2} + 2 g m r^{2} \\cos{\\left(\\frac{x - y}{r} \\right)} + m \\left(r^{2} \\dot{x}^{2} + 2 r r_{h} \\left(\\dot{x} - \\dot{y}\\right) \\cos{\\left(\\frac{x - y}{r} \\right)} \\dot{x} + r_{h}^{2} \\left(\\dot{x}^{2} - 2 \\dot{x} \\dot{y} + \\dot{y}^{2}\\right)\\right) + \\left(I_{b} + M r^{2}\\right) \\dot{x}^{2}}{2 r^{2}}$"
      ],
      "text/plain": [
       "          2          2    ⎛x - y⎞     ⎛ 2  2                     ⎛x - y⎞       2 ⎛ 2            2⎞\n",
       "Iₕ⋅(ẋ - ẏ)  + 2⋅g⋅m⋅r ⋅cos⎜─────⎟ + m⋅⎜r ⋅ẋ  + 2⋅r⋅rₕ⋅(ẋ - ẏ)⋅cos⎜─────⎟⋅ẋ + rₕ ⋅⎝ẋ  - 2⋅ẋ\n",
       "                          ⎝  r  ⎠     ⎝                          ⎝  r  ⎠                          \n",
       "──────────────────────────────────────────────────────────────────────────────────────────────────\n",
       "                                                            2                                     \n",
       "                                                         2⋅r                                      \n",
       "\n",
       "⎞   ⎛         2⎞  2\n",
       "⋅ẏ + ẏ ⎠⎟ + ⎝I_b + M⋅r ⎠⋅ẋ \n",
       "⎠                  \n",
       "───────────────────\n",
       "                   \n",
       "                   "
      ]
     },
     "execution_count": 6,
     "metadata": {},
     "output_type": "execute_result"
    }
   ],
   "source": [
    "L = Tb + Th + Vh\n",
    "L.simplify()"
   ]
  },
  {
   "cell_type": "code",
   "execution_count": 7,
   "id": "26a1dfdc",
   "metadata": {},
   "outputs": [],
   "source": [
    "L = L.subs([(cos(phi), 1), (sin(phi), phi)]).simplify()"
   ]
  },
  {
   "cell_type": "code",
   "execution_count": 8,
   "id": "11f59e6b",
   "metadata": {},
   "outputs": [
    {
     "data": {
      "text/latex": [
       "$\\displaystyle \\left[\\begin{matrix}\\frac{I_{h} \\left(2 \\ddot{x} - 2 \\ddot{y}\\right) + m \\left(2 r^{2} \\ddot{x} + 2 r r_{h} \\left(\\ddot{x} - \\ddot{y}\\right) + 2 r r_{h} \\ddot{x} + r_{h}^{2} \\cdot \\left(2 \\ddot{x} - 2 \\ddot{y}\\right)\\right) + 2 \\left(I_{b} + M r^{2}\\right) \\ddot{x}}{2 r^{2}}\\\\\\frac{I_{h} \\left(- 2 \\ddot{x} + 2 \\ddot{y}\\right) + m \\left(- 2 r r_{h} \\ddot{x} + r_{h}^{2} \\left(- 2 \\ddot{x} + 2 \\ddot{y}\\right)\\right)}{2 r^{2}}\\end{matrix}\\right]$"
      ],
      "text/plain": [
       "⎡                   ⎛   2                                   2            ⎞     ⎛         2⎞  ⎤\n",
       "⎢Iₕ⋅(2⋅ẍ - 2⋅ÿ) + m⋅⎝2⋅r ⋅ẍ + 2⋅r⋅rₕ⋅(ẍ - ÿ) + 2⋅r⋅rₕ⋅ẍ + rₕ ⋅(2⋅ẍ - 2⋅ÿ)⎠ + 2⋅⎝I_b + M⋅r ⎠⋅ẍ⎥\n",
       "⎢────────────────────────────────────────────────────────────────────────────────────────────⎥\n",
       "⎢                                               2                                            ⎥\n",
       "⎢                                            2⋅r                                             ⎥\n",
       "⎢                                                                                            ⎥\n",
       "⎢                                         ⎛              2             ⎞                     ⎥\n",
       "⎢                     Iₕ⋅(-2⋅ẍ + 2⋅ÿ) + m⋅⎝-2⋅r⋅rₕ⋅ẍ + rₕ ⋅(-2⋅ẍ + 2⋅ÿ)⎠                     ⎥\n",
       "⎢                     ──────────────────────────────────────────────────                     ⎥\n",
       "⎢                                               2                                            ⎥\n",
       "⎣                                            2⋅r                                             ⎦"
      ]
     },
     "execution_count": 8,
     "metadata": {},
     "output_type": "execute_result"
    }
   ],
   "source": [
    "Lag_LHS = L.diff(dqmat).diff(t) - L.diff(qmat)\n",
    "Lag_LHS"
   ]
  },
  {
   "cell_type": "code",
   "execution_count": 9,
   "id": "f7e78bd1",
   "metadata": {},
   "outputs": [],
   "source": [
    "ddx = dx.diff(t)\n",
    "ddy = dy.diff(t)"
   ]
  },
  {
   "cell_type": "code",
   "execution_count": 10,
   "id": "a4ca82ed",
   "metadata": {},
   "outputs": [
    {
     "data": {
      "image/png": "[encoded data removed]",
      "text/latex": [
       "$\\displaystyle \\left[ \\frac{\\left(I_{h} + m r r_{h} + m r_{h}^{2}\\right) \\ddot{y}}{I_{b} + I_{h} + M r^{2} + m r^{2} + 2 m r r_{h} + m r_{h}^{2}}\\right]$"
      ],
      "text/plain": [
       "⎡         ⎛                  2⎞           ⎤\n",
       "⎢         ⎝Iₕ + m⋅r⋅rₕ + m⋅rₕ ⎠⋅ÿ        ⎥\n",
       "⎢─────────────────────────────────────────⎥\n",
       "⎢              2      2                  2⎥\n",
       "⎣I_b + Iₕ + M⋅r  + m⋅r  + 2⋅m⋅r⋅rₕ + m⋅rₕ ⎦"
      ]
     },
     "execution_count": 10,
     "metadata": {},
     "output_type": "execute_result"
    }
   ],
   "source": [
    "solve(Lag_LHS[0], (dx.diff(t)))"
   ]
  },
  {
   "cell_type": "code",
   "execution_count": 12,
   "id": "4e17d997",
   "metadata": {},
   "outputs": [
    {
     "data": {
      "image/png": "[encoded data removed]",
      "text/latex": [
       "$\\displaystyle \\left[ \\frac{- I_{b} \\ddot{x} - I_{h} \\ddot{x} + I_{h} \\ddot{y} - M r^{2} \\ddot{x} - m r^{2} \\ddot{x} - m r r_{h} \\ddot{x} + m r_{h}^{2} \\left(- \\ddot{x} + \\ddot{y}\\right)}{m r r_{h}}\\right]$"
      ],
      "text/plain": [
       "⎡                          2        2                    2         ⎤\n",
       "⎢-I_b⋅ẍ - Iₕ⋅ẍ + Iₕ⋅ÿ - M⋅r ⋅ẍ - m⋅r ⋅ẍ - m⋅r⋅rₕ⋅ẍ + m⋅rₕ ⋅(-ẍ + ÿ)⎥\n",
       "⎢──────────────────────────────────────────────────────────────────⎥\n",
       "⎣                              m⋅r⋅rₕ                              ⎦"
      ]
     },
     "execution_count": 12,
     "metadata": {},
     "output_type": "execute_result"
    }
   ],
   "source": [
    "solve(Lag_LHS[0], ddx-ddy)"
   ]
  },
  {
   "cell_type": "code",
   "execution_count": 13,
   "id": "f3d3ca61",
   "metadata": {},
   "outputs": [
    {
     "data": {
      "image/png": "[encoded data removed]",
      "text/latex": [
       "$\\displaystyle \\frac{I_{h} \\left(- 2 \\ddot{x} + 2 \\ddot{y}\\right) + m \\left(- 2 r r_{h} \\ddot{x} + r_{h}^{2} \\left(- 2 \\ddot{x} + 2 \\ddot{y}\\right)\\right)}{2 r^{2}} = F$"
      ],
      "text/plain": [
       "                    ⎛              2             ⎞    \n",
       "Iₕ⋅(-2⋅ẍ + 2⋅ÿ) + m⋅⎝-2⋅r⋅rₕ⋅ẍ + rₕ ⋅(-2⋅ẍ + 2⋅ÿ)⎠    \n",
       "────────────────────────────────────────────────── = F\n",
       "                          2                           \n",
       "                       2⋅r                            "
      ]
     },
     "execution_count": 13,
     "metadata": {},
     "output_type": "execute_result"
    }
   ],
   "source": [
    "F = symbols(\"F\")\n",
    "LagEqX = Eq(Lag_LHS[0], 0)\n",
    "LagEqY = Eq(Lag_LHS[1], F)\n",
    "LagEqY"
   ]
  },
  {
   "cell_type": "code",
   "execution_count": 14,
   "id": "3c9e30bd",
   "metadata": {},
   "outputs": [
    {
     "data": {
      "image/png": "[encoded data removed]",
      "text/latex": [
       "$\\displaystyle \\frac{I_{h} \\left(2 \\ddot{x} - 2 \\ddot{y}\\right) + m \\left(2 r^{2} \\ddot{x} + 2 r r_{h} \\left(\\ddot{x} - \\ddot{y}\\right) + 2 r r_{h} \\ddot{x} + r_{h}^{2} \\cdot \\left(2 \\ddot{x} - 2 \\ddot{y}\\right)\\right) + 2 \\left(I_{b} + M r^{2}\\right) \\ddot{x}}{2 r^{2}} = 0$"
      ],
      "text/plain": [
       "                   ⎛   2                                   2            ⎞     ⎛         2⎞      \n",
       "Iₕ⋅(2⋅ẍ - 2⋅ÿ) + m⋅⎝2⋅r ⋅ẍ + 2⋅r⋅rₕ⋅(ẍ - ÿ) + 2⋅r⋅rₕ⋅ẍ + rₕ ⋅(2⋅ẍ - 2⋅ÿ)⎠ + 2⋅⎝I_b + M⋅r ⎠⋅ẍ    \n",
       "──────────────────────────────────────────────────────────────────────────────────────────── = 0\n",
       "                                               2                                                \n",
       "                                            2⋅r                                                 "
      ]
     },
     "execution_count": 14,
     "metadata": {},
     "output_type": "execute_result"
    }
   ],
   "source": [
    "LagEqX"
   ]
  },
  {
   "cell_type": "code",
   "execution_count": 15,
   "id": "ffae45cf",
   "metadata": {},
   "outputs": [
    {
     "data": {
      "image/png": "[encoded data removed]",
      "text/latex": [
       "$\\displaystyle \\frac{\\left(I_{h} + m r r_{h} + m r_{h}^{2}\\right) \\ddot{y}}{I_{b} + I_{h} + M r^{2} + m r^{2} + 2 m r r_{h} + m r_{h}^{2}}$"
      ],
      "text/plain": [
       "         ⎛                  2⎞           \n",
       "         ⎝Iₕ + m⋅r⋅rₕ + m⋅rₕ ⎠⋅ÿ        \n",
       "─────────────────────────────────────────\n",
       "              2      2                  2\n",
       "I_b + Iₕ + M⋅r  + m⋅r  + 2⋅m⋅r⋅rₕ + m⋅rₕ "
      ]
     },
     "execution_count": 15,
     "metadata": {},
     "output_type": "execute_result"
    }
   ],
   "source": [
    "ddx_xpr = solve(LagEqX, ddx)[0]\n",
    "ddx_xpr"
   ]
  },
  {
   "cell_type": "code",
   "execution_count": 16,
   "id": "344b6115",
   "metadata": {},
   "outputs": [
    {
     "data": {
      "image/png": "[encoded data removed]",
      "text/latex": [
       "$\\displaystyle \\frac{I_{h} \\left(- 2 \\ddot{x} + 2 \\ddot{y}\\right) + m \\left(- 2 r r_{h} \\ddot{x} + r_{h}^{2} \\left(- 2 \\ddot{x} + 2 \\ddot{y}\\right)\\right)}{2 r^{2}} = F$"
      ],
      "text/plain": [
       "                    ⎛              2             ⎞    \n",
       "Iₕ⋅(-2⋅ẍ + 2⋅ÿ) + m⋅⎝-2⋅r⋅rₕ⋅ẍ + rₕ ⋅(-2⋅ẍ + 2⋅ÿ)⎠    \n",
       "────────────────────────────────────────────────── = F\n",
       "                          2                           \n",
       "                       2⋅r                            "
      ]
     },
     "execution_count": 16,
     "metadata": {},
     "output_type": "execute_result"
    }
   ],
   "source": [
    "LagEqY"
   ]
  },
  {
   "cell_type": "code",
   "execution_count": 17,
   "id": "3b1e59f0",
   "metadata": {},
   "outputs": [
    {
     "data": {
      "image/png": "[encoded data removed]",
      "text/latex": [
       "$\\displaystyle \\frac{I_{b} \\ddot{x} + I_{h} \\ddot{x} - I_{h} \\ddot{y} + M r^{2} \\ddot{x} + m r^{2} \\ddot{x} + 2 m r r_{h} \\ddot{x} - m r r_{h} \\ddot{y} + m r_{h}^{2} \\ddot{x} - m r_{h}^{2} \\ddot{y}}{r^{2}}$"
      ],
      "text/plain": [
       "                         2        2                                 2         2  \n",
       "I_b⋅ẍ + Iₕ⋅ẍ - Iₕ⋅ÿ + M⋅r ⋅ẍ + m⋅r ⋅ẍ + 2⋅m⋅r⋅rₕ⋅ẍ - m⋅r⋅rₕ⋅ÿ + m⋅rₕ ⋅ẍ - m⋅rₕ ⋅ÿ\n",
       "─────────────────────────────────────────────────────────────────────────────────\n",
       "                                         2                                       \n",
       "                                        r                                        "
      ]
     },
     "execution_count": 17,
     "metadata": {},
     "output_type": "execute_result"
    }
   ],
   "source": [
    "Lag_LHS[0].factor()"
   ]
  },
  {
   "cell_type": "code",
   "execution_count": 18,
   "id": "aa2e8b67",
   "metadata": {},
   "outputs": [
    {
     "data": {
      "image/png": "[encoded data removed]",
      "text/latex": [
       "$\\displaystyle F = \\frac{\\left(I_{b} I_{h} + I_{b} m r_{h}^{2} + I_{h} M r^{2} + I_{h} m r^{2} + M m r^{2} r_{h}^{2}\\right) \\ddot{y}}{r^{2} \\left(I_{b} + I_{h} + M r^{2} + m r^{2} + 2 m r r_{h} + m r_{h}^{2}\\right)}$"
      ],
      "text/plain": [
       "    ⎛                 2         2         2        2   2⎞  \n",
       "    ⎝I_b⋅Iₕ + I_b⋅m⋅rₕ  + Iₕ⋅M⋅r  + Iₕ⋅m⋅r  + M⋅m⋅r ⋅rₕ ⎠⋅ÿ\n",
       "F = ───────────────────────────────────────────────────────\n",
       "          2 ⎛              2      2                  2⎞    \n",
       "         r ⋅⎝I_b + Iₕ + M⋅r  + m⋅r  + 2⋅m⋅r⋅rₕ + m⋅rₕ ⎠    "
      ]
     },
     "execution_count": 18,
     "metadata": {},
     "output_type": "execute_result"
    }
   ],
   "source": [
    "LagEqY_2 = LagEqY.subs(ddx, ddx_xpr).simplify()\n",
    "LagEqY_2"
   ]
  },
  {
   "cell_type": "code",
   "execution_count": 19,
   "id": "8608b5bd",
   "metadata": {},
   "outputs": [
    {
     "data": {
      "image/png": "[encoded data removed]",
      "text/latex": [
       "$\\displaystyle \\frac{F r^{2} \\left(I_{b} + I_{h} + M r^{2} + m r^{2} + 2 m r r_{h} + m r_{h}^{2}\\right)}{I_{b} I_{h} + I_{b} m r_{h}^{2} + I_{h} M r^{2} + I_{h} m r^{2} + M m r^{2} r_{h}^{2}}$"
      ],
      "text/plain": [
       "     2 ⎛              2      2                  2⎞ \n",
       "  F⋅r ⋅⎝I_b + Iₕ + M⋅r  + m⋅r  + 2⋅m⋅r⋅rₕ + m⋅rₕ ⎠ \n",
       "───────────────────────────────────────────────────\n",
       "                 2         2         2        2   2\n",
       "I_b⋅Iₕ + I_b⋅m⋅rₕ  + Iₕ⋅M⋅r  + Iₕ⋅m⋅r  + M⋅m⋅r ⋅rₕ "
      ]
     },
     "execution_count": 19,
     "metadata": {},
     "output_type": "execute_result"
    }
   ],
   "source": [
    "ddy_xpr = solve(LagEqY_2, ddy)[0].simplify()\n",
    "ddy_xpr"
   ]
  },
  {
   "cell_type": "code",
   "execution_count": 20,
   "id": "889d80cf",
   "metadata": {},
   "outputs": [
    {
     "data": {
      "image/png": "[encoded data removed]",
      "text/latex": [
       "$\\displaystyle \\frac{F r^{2} \\left(I_{h} + m r r_{h} + m r_{h}^{2}\\right)}{I_{b} I_{h} + I_{b} m r_{h}^{2} + I_{h} M r^{2} + I_{h} m r^{2} + M m r^{2} r_{h}^{2}}$"
      ],
      "text/plain": [
       "                2 ⎛                  2⎞            \n",
       "             F⋅r ⋅⎝Iₕ + m⋅r⋅rₕ + m⋅rₕ ⎠            \n",
       "───────────────────────────────────────────────────\n",
       "                 2         2         2        2   2\n",
       "I_b⋅Iₕ + I_b⋅m⋅rₕ  + Iₕ⋅M⋅r  + Iₕ⋅m⋅r  + M⋅m⋅r ⋅rₕ "
      ]
     },
     "execution_count": 20,
     "metadata": {},
     "output_type": "execute_result"
    }
   ],
   "source": [
    "ddx_xpr2 = ddx_xpr.subs(ddy, ddy_xpr)\n",
    "ddx_xpr2"
   ]
  },
  {
   "cell_type": "markdown",
   "id": "7ee129ca",
   "metadata": {},
   "source": [
    "# OLD CALCS - V1"
   ]
  },
  {
   "cell_type": "code",
   "execution_count": 27,
   "id": "4bd2c236",
   "metadata": {},
   "outputs": [
    {
     "data": {
      "image/png": "[encoded data removed]",
      "text/latex": [
       "$\\displaystyle \\frac{g m \\left(x - y\\right)}{r} + \\frac{\\left(I_{b} r_{b}^{2} + M + m\\right) \\dot{x}^{2}}{2} + \\frac{\\left(I_{h} + m r_{h}^{2}\\right) \\left(\\dot{x} - \\dot{y}\\right)^{2}}{2 r^{2}}$"
      ],
      "text/plain": [
       "              ⎛       2        ⎞  2   ⎛         2⎞        2\n",
       "g⋅m⋅(x - y)   ⎝I_b⋅r_b  + M + m⎠⋅ẋ    ⎝Iₕ + m⋅rₕ ⎠⋅(ẋ - ẏ) \n",
       "─────────── + ───────────────────── + ─────────────────────\n",
       "     r                  2                         2        \n",
       "                                               2⋅r         "
      ]
     },
     "execution_count": 27,
     "metadata": {},
     "output_type": "execute_result"
    }
   ],
   "source": [
    "rb = symbols(\"r_b\")\n",
    "V = -m*g*phi\n",
    "T = (((m+M) + Ib*rb**2) * dx**2 + (Ih + m*rh**2) * dphi**2) / 2\n",
    "\n",
    "L = T - V\n",
    "L"
   ]
  },
  {
   "cell_type": "code",
   "execution_count": 28,
   "id": "c80be389",
   "metadata": {},
   "outputs": [
    {
     "data": {
      "text/latex": [
       "$\\displaystyle \\left[\\begin{matrix}- \\frac{g m}{r} + \\left(I_{b} r_{b}^{2} + M + m\\right) \\ddot{x} + \\frac{\\left(I_{h} + m r_{h}^{2}\\right) \\left(2 \\ddot{x} - 2 \\ddot{y}\\right)}{2 r^{2}}\\\\\\frac{g m}{r} + \\frac{\\left(I_{h} + m r_{h}^{2}\\right) \\left(- 2 \\ddot{x} + 2 \\ddot{y}\\right)}{2 r^{2}}\\end{matrix}\\right]$"
      ],
      "text/plain": [
       "⎡                               ⎛         2⎞            ⎤\n",
       "⎢  g⋅m   ⎛       2        ⎞     ⎝Iₕ + m⋅rₕ ⎠⋅(2⋅ẍ - 2⋅ÿ)⎥\n",
       "⎢- ─── + ⎝I_b⋅r_b  + M + m⎠⋅ẍ + ────────────────────────⎥\n",
       "⎢   r                                        2          ⎥\n",
       "⎢                                         2⋅r           ⎥\n",
       "⎢                                                       ⎥\n",
       "⎢                  ⎛         2⎞                         ⎥\n",
       "⎢            g⋅m   ⎝Iₕ + m⋅rₕ ⎠⋅(-2⋅ẍ + 2⋅ÿ)            ⎥\n",
       "⎢            ─── + ─────────────────────────            ⎥\n",
       "⎢             r                  2                      ⎥\n",
       "⎣                             2⋅r                       ⎦"
      ]
     },
     "execution_count": 28,
     "metadata": {},
     "output_type": "execute_result"
    }
   ],
   "source": [
    "L.diff(qmat.diff(t)).diff(t) - L.diff(qmat)"
   ]
  },
  {
   "cell_type": "code",
   "execution_count": 29,
   "id": "a144fea5",
   "metadata": {},
   "outputs": [
    {
     "data": {
      "text/latex": [
       "$\\displaystyle \\left[\\begin{matrix}\\left(I_{b} r_{b}^{2} + M + m\\right) \\dot{x} + \\frac{\\left(I_{h} + m r_{h}^{2}\\right) \\left(2 \\dot{x} - 2 \\dot{y}\\right)}{2 r^{2}}\\\\\\frac{\\left(I_{h} + m r_{h}^{2}\\right) \\left(- 2 \\dot{x} + 2 \\dot{y}\\right)}{2 r^{2}}\\end{matrix}\\right]$"
      ],
      "text/plain": [
       "⎡                       ⎛         2⎞            ⎤\n",
       "⎢⎛       2        ⎞     ⎝Iₕ + m⋅rₕ ⎠⋅(2⋅ẋ - 2⋅ẏ)⎥\n",
       "⎢⎝I_b⋅r_b  + M + m⎠⋅ẋ + ────────────────────────⎥\n",
       "⎢                                    2          ⎥\n",
       "⎢                                 2⋅r           ⎥\n",
       "⎢                                               ⎥\n",
       "⎢           ⎛         2⎞                        ⎥\n",
       "⎢           ⎝Iₕ + m⋅rₕ ⎠⋅(-2⋅ẋ + 2⋅ẏ)           ⎥\n",
       "⎢           ─────────────────────────           ⎥\n",
       "⎢                         2                     ⎥\n",
       "⎣                      2⋅r                      ⎦"
      ]
     },
     "execution_count": 29,
     "metadata": {},
     "output_type": "execute_result"
    }
   ],
   "source": [
    "L.diff(qmat.diff(t))"
   ]
  },
  {
   "cell_type": "code",
   "execution_count": null,
   "id": "3c6ac6af",
   "metadata": {},
   "outputs": [],
   "source": []
  }
 ],
 "metadata": {
  "kernelspec": {
   "display_name": "Python 3 (ipykernel)",
   "language": "python",
   "name": "python3"
  },
  "language_info": {
   "codemirror_mode": {
    "name": "ipython",
    "version": 3
   },
   "file_extension": ".py",
   "mimetype": "text/x-python",
   "name": "python",
   "nbconvert_exporter": "python",
   "pygments_lexer": "ipython3",
   "version": "3.10.6"
  }
 },
 "nbformat": 4,
 "nbformat_minor": 5
}
