{
 "cells": [
  {
   "cell_type": "code",
   "execution_count": 46,
   "metadata": {},
   "outputs": [],
   "source": [
    "from sympy import *\n",
    "from sympy.matrices import inverse\n",
    "from sympy.physics.mechanics import dynamicsymbols, init_vprinting, LagrangesMethod, Lagrangian\n",
    "from sympy.physics import mechanics\n",
    "init_vprinting()\n",
    "\n",
    "import numpy as np\n",
    "import math"
   ]
  },
  {
   "cell_type": "code",
   "execution_count": 47,
   "metadata": {},
   "outputs": [],
   "source": [
    "def partial(arg, x):\n",
    "    lst = []\n",
    "    for v in x:\n",
    "        lst.append(arg.diff(v))\n",
    "    return Matrix([lst])"
   ]
  },
  {
   "cell_type": "code",
   "execution_count": 48,
   "metadata": {},
   "outputs": [],
   "source": [
    "Is, Iw, Ib = symbols(\"I_s I_w I_b\")\n",
    "rs, rw, rtot, lam, ms, mw, mb, mtot, l = symbols(\"r_s r_w r_tot lambda m_s m_w m_b m_tot l\")\n",
    "t, g = symbols(\"t g\")\n",
    "\n",
    "psi, th = dynamicsymbols(\"psi theta\")\n",
    "T = dynamicsymbols(\"T\")\n",
    "dpsi = psi.diff(t)\n",
    "dth = th.diff(t)"
   ]
  },
  {
   "cell_type": "code",
   "execution_count": 49,
   "metadata": {},
   "outputs": [],
   "source": [
    "const_dict = {\n",
    "    \"m_s\": 3.2,\n",
    "    \"m_ow\": .555,\n",
    "    \"mm\": .24,\n",
    "    \"r_s\": 0.115,\n",
    "    \"h\": 0.8,\n",
    "    \"I_s\": 2.65e-2,\n",
    "    \"I_ow\": 6.94e-2,\n",
    "    \"l\": 0.405,\n",
    "    \"g\": 9.81,\n",
    "    \"alpha\": math.radians(45),\n",
    "    \n",
    "    \"m_b\": 7.135,\n",
    "    \"m_w\": 0.995,\n",
    "    \"r_w\": 0.050,\n",
    "    \"I_w\": 1.90e-3,\n",
    "    \"I_b\": 2.4\n",
    "}\n",
    "const_list = [(symbols(s), v) for s, v in const_dict.items()]\n",
    "const_list = [(\"r_tot\", rw + rs), (mtot, ms + mw + mb), (lam, mw*(rs+rw)+mb*l)] + const_list"
   ]
  },
  {
   "cell_type": "code",
   "execution_count": 59,
   "metadata": {},
   "outputs": [],
   "source": [
    "q = Matrix([th, psi])\n",
    "dq = q.diff(t)\n",
    "x = Matrix([q, dq])\n",
    "u = Matrix([T])"
   ]
  },
  {
   "cell_type": "code",
   "execution_count": 51,
   "metadata": {},
   "outputs": [],
   "source": [
    "qbar_slist = [(th, 0), (psi, 0), (dth, 0), (dpsi, 0)]"
   ]
  },
  {
   "cell_type": "code",
   "execution_count": 52,
   "metadata": {},
   "outputs": [],
   "source": [
    "M = Matrix([[Is + rs**2*mtot + rs**2/rw**2*Iw, rs*lam*cos(psi) - rs**2/rw**2*Iw], \n",
    "\t\t\t[rs*lam*cos(psi) - rs**2/rw**2*Iw, rtot**2*mw + rs**2/rw**2*Iw+Ib]])\n",
    "C = Matrix([[0, -rs*lam*dpsi*sin(psi)], [0, 0]])\n",
    "G = Matrix([0, -lam*g*sin(psi)])"
   ]
  },
  {
   "cell_type": "code",
   "execution_count": 53,
   "metadata": {},
   "outputs": [],
   "source": [
    "Text = Matrix([rs/rw, -rs/rw]) * T"
   ]
  },
  {
   "cell_type": "code",
   "execution_count": 54,
   "metadata": {
    "scrolled": true
   },
   "outputs": [
    {
     "data": {
      "text/latex": [
       "$\\displaystyle \\left[\\begin{matrix}\\left(- \\frac{I_{w} r_{s}^{2}}{r_{w}^{2}} + \\lambda r_{s} \\cos{\\left(\\psi \\right)}\\right) \\ddot{\\psi} + \\left(I_{s} + \\frac{I_{w} r_{s}^{2}}{r_{w}^{2}} + m_{tot} r_{s}^{2}\\right) \\ddot{\\theta}\\\\\\left(- \\frac{I_{w} r_{s}^{2}}{r_{w}^{2}} + \\lambda r_{s} \\cos{\\left(\\psi \\right)}\\right) \\ddot{\\theta} + \\left(I_{b} + \\frac{I_{w} r_{s}^{2}}{r_{w}^{2}} + m_{w} r_{tot}^{2}\\right) \\ddot{\\psi}\\end{matrix}\\right] = \\left[\\begin{matrix}\\frac{r_{s} T}{r_{w}}\\\\- \\frac{r_{s} T}{r_{w}}\\end{matrix}\\right]$"
      ],
      "text/plain": [
       "⎡ ⎛        2              ⎞     ⎛           2           ⎞   ⎤           \n",
       "⎢ ⎜  I_w⋅rₛ               ⎟     ⎜     I_w⋅rₛ           2⎟   ⎥           \n",
       "⎢ ⎜- ─────── + λ⋅rₛ⋅cos(ψ)⎟⋅ψ̈ + ⎜Iₛ + ─────── + mₜₒₜ⋅rₛ ⎟⋅θ̈ ⎥   ⎡ rₛ⋅T ⎤\n",
       "⎢ ⎜       2               ⎟     ⎜          2            ⎟   ⎥   ⎢ ──── ⎥\n",
       "⎢ ⎝    r_w                ⎠     ⎝       r_w             ⎠   ⎥   ⎢ r_w  ⎥\n",
       "⎢                                                           ⎥ = ⎢      ⎥\n",
       "⎢⎛        2              ⎞     ⎛            2            ⎞  ⎥   ⎢-rₛ⋅T ⎥\n",
       "⎢⎜  I_w⋅rₛ               ⎟     ⎜      I_w⋅rₛ            2⎟  ⎥   ⎢──────⎥\n",
       "⎢⎜- ─────── + λ⋅rₛ⋅cos(ψ)⎟⋅θ̈ + ⎜I_b + ─────── + m_w⋅rₜₒₜ ⎟⋅ψ̈⎥   ⎣ r_w  ⎦\n",
       "⎢⎜       2               ⎟     ⎜           2             ⎟  ⎥           \n",
       "⎣⎝    r_w                ⎠     ⎝        r_w              ⎠  ⎦           "
      ]
     },
     "execution_count": 54,
     "metadata": {},
     "output_type": "execute_result"
    }
   ],
   "source": [
    "Eq(M * dq.diff(t), Text)"
   ]
  },
  {
   "cell_type": "code",
   "execution_count": 55,
   "metadata": {},
   "outputs": [
    {
     "data": {
      "text/latex": [
       "$\\displaystyle \\left[\\begin{matrix}7.2130035936524 & -1.00964934099027\\\\-1.00964934099027 & 0.551643981070955\\end{matrix}\\right]$"
      ],
      "text/plain": [
       "⎡ 7.2130035936524   -1.00964934099027⎤\n",
       "⎢                                    ⎥\n",
       "⎣-1.00964934099027  0.551643981070955⎦"
      ]
     },
     "execution_count": 55,
     "metadata": {},
     "output_type": "execute_result"
    }
   ],
   "source": [
    "slist = const_list + qbar_slist\n",
    "Minv = M.subs(slist).inv()\n",
    "Minv"
   ]
  },
  {
   "cell_type": "code",
   "execution_count": 58,
   "metadata": {},
   "outputs": [
    {
     "data": {
      "text/latex": [
       "$\\displaystyle \\left[\\begin{matrix}0 & -30.2473460482347 & 0 & 0\\\\0 & 16.5262985013326 & 0 & 0\\end{matrix}\\right]$"
      ],
      "text/plain": [
       "⎡0  -30.2473460482347  0  0⎤\n",
       "⎢                          ⎥\n",
       "⎣0  16.5262985013326   0  0⎦"
      ]
     },
     "execution_count": 58,
     "metadata": {},
     "output_type": "execute_result"
    }
   ],
   "source": [
    "- Minv @ partial(G.subs(const_list), x).subs(qbar_slist)"
   ]
  },
  {
   "cell_type": "code",
   "execution_count": 61,
   "metadata": {},
   "outputs": [
    {
     "data": {
      "text/latex": [
       "$\\displaystyle \\left[\\begin{matrix}18.9121017496781\\\\-3.59097464074083\\end{matrix}\\right]$"
      ],
      "text/plain": [
       "⎡18.9121017496781 ⎤\n",
       "⎢                 ⎥\n",
       "⎣-3.59097464074083⎦"
      ]
     },
     "execution_count": 61,
     "metadata": {},
     "output_type": "execute_result"
    }
   ],
   "source": [
    "Minv @ partial(Text, u).subs(slist)"
   ]
  },
  {
   "cell_type": "code",
   "execution_count": null,
   "metadata": {},
   "outputs": [],
   "source": []
  }
 ],
 "metadata": {
  "kernelspec": {
   "display_name": "Python 3 (ipykernel)",
   "language": "python",
   "name": "python3"
  },
  "language_info": {
   "codemirror_mode": {
    "name": "ipython",
    "version": 3
   },
   "file_extension": ".py",
   "mimetype": "text/x-python",
   "name": "python",
   "nbconvert_exporter": "python",
   "pygments_lexer": "ipython3",
   "version": "3.10.6"
  },
  "vscode": {
   "interpreter": {
    "hash": "e7370f93d1d0cde622a1f8e1c04877d8463912d04d973331ad4851f04de6915a"
   }
  }
 },
 "nbformat": 4,
 "nbformat_minor": 2
}
