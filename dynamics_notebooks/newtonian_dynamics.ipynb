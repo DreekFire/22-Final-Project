{
 "cells": [
  {
   "cell_type": "code",
   "execution_count": 18,
   "id": "f43d28a9",
   "metadata": {},
   "outputs": [],
   "source": [
    "from sympy import *\n",
    "from sympy.physics.mechanics import dynamicsymbols, init_vprinting\n",
    "init_vprinting()"
   ]
  },
  {
   "cell_type": "code",
   "execution_count": 19,
   "id": "afe922f6",
   "metadata": {},
   "outputs": [],
   "source": [
    "def taylor(xpr, var, center, order=1):\n",
    "    coefs = []\n",
    "    t_xpr = 0\n",
    "    for i in range(order + 1):\n",
    "        coefs.append(xpr.subs(var, center))\n",
    "        xpr = xpr.diff(var)\n",
    "        t_xpr += var ** i * coefs[-1] / factorial(i)\n",
    "    return t_xpr"
   ]
  },
  {
   "cell_type": "markdown",
   "id": "26d0c7f5",
   "metadata": {},
   "source": [
    "# Newtonian Calcs V1"
   ]
  },
  {
   "cell_type": "code",
   "execution_count": 20,
   "id": "e1c6bd3e",
   "metadata": {},
   "outputs": [],
   "source": [
    "x, phi = dynamicsymbols(\"x, phi\")\n",
    "t = symbols(\"t\")\n",
    "dx = x.diff(t)\n",
    "ddx = dx.diff(t)\n",
    "dphi = phi.diff(t)\n",
    "ddphi = dphi.diff(t)\n",
    "N1, N2, T1, T2 = symbols(\"N_1 N_2 T_1 T_2\")\n",
    "Ib, Ih = symbols(\"I_b I_h\")\n",
    "M, m, g = symbols(\"M m g\")\n",
    "th, l, h, r = symbols(\"theta l h r\")\n",
    "\n",
    "unknowns = [ddx, ddphi, T2, N1, N2]"
   ]
  },
  {
   "cell_type": "code",
   "execution_count": 21,
   "id": "4998add5",
   "metadata": {},
   "outputs": [
    {
     "name": "stdout",
     "output_type": "stream",
     "text": [
      "Theta: 11.54 degrees\n"
     ]
    }
   ],
   "source": [
    "h = 0.1\n",
    "r = 0.5\n",
    "l = 0.1\n",
    "th = asin(l/r)\n",
    "rh = l + r*cos(th)\n",
    "\n",
    "M = 5\n",
    "m = 2\n",
    "\n",
    "Ib = M*r**2 / 2\n",
    "Ih = m*l**2 / 4\n",
    "g = 9.8\n",
    "\n",
    "print(\"Theta: %.2f degrees\" %(deg(th)))"
   ]
  },
  {
   "cell_type": "code",
   "execution_count": 22,
   "id": "35140e40",
   "metadata": {},
   "outputs": [],
   "source": [
    "px = x + r*sin(phi)\n",
    "py = r*cos(phi)\n",
    "dpx = px.diff(t)\n",
    "ddpx = dpx.diff(t)\n",
    "dpy = py.diff(t)\n",
    "ddpy = dpy.diff(t)"
   ]
  },
  {
   "cell_type": "code",
   "execution_count": 23,
   "id": "2d4a6225",
   "metadata": {},
   "outputs": [],
   "source": [
    "eq1 = Eq(sin(phi+th)*N1 + sin(phi-th)*N2 - cos(phi)*T1 + T2, M*ddx) # Ball Fx\n",
    "eq2 = Eq((T1 + T2), Ib*ddx/r**2)                                    # Ball Torque\n",
    "\n",
    "eq3 = Eq(-sin(phi+th)*N1 - sin(phi-th)*N2 + cos(phi)*T1, m*ddpx)       # Hat Fx\n",
    "eq4 = Eq(cos(phi+th)*N1 + cos(phi-th)*N2 - sin(phi)*T1 - m*g, m*ddpy)  # Hat Fy\n",
    "\n",
    "# eq5A = Eq((N1-N2)*cos(th) - T1*l*sin(th) - m*g*h*sin(phi), (Ih + m*rh**2)*ddphi) # Hat Torque v1\n",
    "eq5B = Eq(r*T1 + m*g*rh*sin(phi), (Ih+m*rh**2)*ddphi)                            # Hat Torque v2\n",
    "\n",
    "equs = [eq1, eq2, eq3, eq4, eq5B]\n",
    "\n",
    "trig_fns = [sin(phi), cos(phi), sin(phi+th), cos(phi+th), sin(phi-th), cos(phi-th)]\n",
    "lin_subs = [(xpr, taylor(xpr, phi, 0, 1)) for xpr in trig_fns]\n",
    "\n",
    "# equs = [eq.subs(lin_subs) for eq in equs]\n",
    "res = solve(equs, unknowns)"
   ]
  },
  {
   "cell_type": "code",
   "execution_count": 24,
   "id": "620b9bb3",
   "metadata": {},
   "outputs": [
    {
     "data": {
      "image/png": "[encoded data removed]",
      "text/latex": [
       "$\\displaystyle T_{1} \\left(- 0.158512955351591 \\cos{\\left(\\phi \\right)} - 0.222222222222222\\right) - 3.6654535135169 \\sin{\\left(\\phi \\right)} \\cos{\\left(\\phi \\right)} + 0.222222222222222 \\sin{\\left(\\phi \\right)} \\dot{\\phi}^{2}$"
      ],
      "text/plain": [
       "                                                                                                  \n",
       "T₁⋅(-0.158512955351591⋅cos(φ) - 0.222222222222222) - 3.6654535135169⋅sin(φ)⋅cos(φ) + 0.22222222222\n",
       "\n",
       "             2\n",
       "2222⋅sin(φ)⋅φ̇ "
      ]
     },
     "execution_count": 24,
     "metadata": {},
     "output_type": "execute_result"
    }
   ],
   "source": [
    "res[ddx].factor(T1)"
   ]
  },
  {
   "cell_type": "code",
   "execution_count": 25,
   "id": "6777f6f3",
   "metadata": {},
   "outputs": [
    {
     "data": {
      "image/png": "[encoded data removed]",
      "text/latex": [
       "$\\displaystyle 0.71330829908216 T_{1} + 16.494540810826 \\sin{\\left(\\phi \\right)}$"
      ],
      "text/plain": [
       "0.71330829908216⋅T₁ + 16.494540810826⋅sin(φ)"
      ]
     },
     "execution_count": 25,
     "metadata": {},
     "output_type": "execute_result"
    }
   ],
   "source": [
    "res[ddphi]"
   ]
  },
  {
   "cell_type": "markdown",
   "id": "2ddbdf35",
   "metadata": {},
   "source": [
    "## Stabilization"
   ]
  },
  {
   "cell_type": "code",
   "execution_count": 26,
   "id": "ef80e366",
   "metadata": {},
   "outputs": [],
   "source": [
    "import numpy as np\n",
    "import sympy as sp\n",
    "import matplotlib.pyplot as plt\n",
    "\n",
    "import control\n",
    "\n",
    "def linearize(f, xs, q0):\n",
    "    dfdq = Matrix(np.hstack(f.diff(X.T)[0])).subs([(xs[i], q0[i]) for i in range(len(xs))])\n",
    "    dfdq.simplify()\n",
    "    return dfdq\n",
    "\n",
    "def Lie(f, V, var, order=1):\n",
    "    if order > 1:\n",
    "        return Lie(f, Lie(f, V, var, order-1), var)\n",
    "    return sum([f[i] * V.diff(var[i]) for i in range(len(var))])"
   ]
  },
  {
   "cell_type": "code",
   "execution_count": 27,
   "id": "3cd53fa5",
   "metadata": {},
   "outputs": [],
   "source": [
    "f = Matrix([[res[ddx].subs(T1, 0).simplify()],\n",
    "            [dphi],\n",
    "            [res[ddphi].subs(T1, 0).simplify()]])\n",
    "g = Matrix([[res[ddx].subs(phi, 0).subs(T1, 1).simplify()], \n",
    "            [0], \n",
    "            [res[ddphi].subs(phi, 0).subs(T1, 1).simplify()]])\n",
    "\n",
    "xs = (dx, phi, dphi)\n",
    "Lf = lambda V, o=1: Lie(f, V, xs, o)\n",
    "Lg = lambda V, o=1: Lie(g, V, xs, o)\n",
    "\n",
    "X = Matrix([dx, phi, dphi])"
   ]
  },
  {
   "cell_type": "code",
   "execution_count": 28,
   "id": "7e92ab70",
   "metadata": {},
   "outputs": [
    {
     "data": {
      "text/latex": [
       "$\\displaystyle \\left[\\begin{matrix}\\left(- 3.6654535135169 \\cos{\\left(\\phi \\right)} + 0.222222222222222 \\dot{\\phi}^{2}\\right) \\sin{\\left(\\phi \\right)}\\\\\\dot{\\phi}\\\\16.494540810826 \\sin{\\left(\\phi \\right)}\\end{matrix}\\right]$"
      ],
      "text/plain": [
       "⎡⎛                                             2⎞       ⎤\n",
       "⎢⎝-3.6654535135169⋅cos(φ) + 0.222222222222222⋅φ̇ ⎠⋅sin(φ)⎥\n",
       "⎢                                                       ⎥\n",
       "⎢                           φ̇                           ⎥\n",
       "⎢                                                       ⎥\n",
       "⎣                16.494540810826⋅sin(φ)                 ⎦"
      ]
     },
     "execution_count": 28,
     "metadata": {},
     "output_type": "execute_result"
    }
   ],
   "source": [
    "f"
   ]
  },
  {
   "cell_type": "code",
   "execution_count": 29,
   "id": "4d756aa1",
   "metadata": {},
   "outputs": [
    {
     "data": {
      "text/latex": [
       "$\\displaystyle \\left[\\begin{matrix}-0.380735177573813\\\\0\\\\0.71330829908216\\end{matrix}\\right]$"
      ],
      "text/plain": [
       "⎡-0.380735177573813⎤\n",
       "⎢                  ⎥\n",
       "⎢        0         ⎥\n",
       "⎢                  ⎥\n",
       "⎣ 0.71330829908216 ⎦"
      ]
     },
     "execution_count": 29,
     "metadata": {},
     "output_type": "execute_result"
    }
   ],
   "source": [
    "g"
   ]
  },
  {
   "cell_type": "code",
   "execution_count": 30,
   "id": "f6c56a1a",
   "metadata": {},
   "outputs": [
    {
     "data": {
      "text/plain": [
       "array([[ 0.        , -3.66545351,  0.        ],\n",
       "       [ 0.        ,  0.        ,  1.        ],\n",
       "       [ 0.        , 16.49454081,  0.        ]])"
      ]
     },
     "execution_count": 30,
     "metadata": {},
     "output_type": "execute_result"
    }
   ],
   "source": [
    "A = np.array(linearize(f, X, [0, 0, 0]), dtype=float)\n",
    "A"
   ]
  },
  {
   "cell_type": "code",
   "execution_count": 31,
   "id": "0eabda37",
   "metadata": {},
   "outputs": [],
   "source": [
    "ffn = lambdify(xs, np.array(f).T[0])\n",
    "gfn = lambdify(xs, np.array(g).T[0])\n",
    "def qdot(q, u):\n",
    "    return ffn(*q) + gfn(*q) * u\n",
    "\n",
    "A = np.array(linearize(f, X, [0, 0, 0]), dtype=float)\n",
    "B = np.array([[-0.4], [0], [0.8]])\n",
    "\n",
    "# Feedback via Pole Placement\n",
    "pole = -3\n",
    "K = -control.place(A, B, [pole-0.1, pole, pole+0.1])\n",
    "\n",
    "def u(q):\n",
    "    return min(max((K @ q)[0], -m*9.8), m*9.8)\n",
    "\n",
    "\n",
    "# Manually designed u(q)\n",
    "# def u(q):\n",
    "#     dx, phi, dphi = q\n",
    "#     return (-17.8/0.8 - 10)*phi - 3*dphi - 0.3 *dx"
   ]
  },
  {
   "cell_type": "code",
   "execution_count": 32,
   "id": "a8a9b1be",
   "metadata": {},
   "outputs": [
    {
     "data": {
      "text/plain": [
       "Text(0.5, 1.0, 'State of the System Under Linear State-Feedback Over Time')"
      ]
     },
     "execution_count": 32,
     "metadata": {},
     "output_type": "execute_result"
    },
    {
     "data": {
      "image/png": "[encoded data removed]",
      "text/plain": [
       "<Figure size 640x480 with 1 Axes>"
      ]
     },
     "metadata": {},
     "output_type": "display_data"
    }
   ],
   "source": [
    "# Simulating the controller\n",
    "q = np.array([0, 0.1, 0.1])\n",
    "t = 0\n",
    "dt = 0.001\n",
    "\n",
    "ts = []\n",
    "qs = []\n",
    "us = []\n",
    "while t <3:\n",
    "    uval = u(q)\n",
    "    q += qdot(q, uval) * dt\n",
    "    qs.append(q.copy())\n",
    "    us.append(uval)\n",
    "    ts.append(t)\n",
    "    t += dt\n",
    "\n",
    "qs = np.array(qs)\n",
    "us = np.array(us)\n",
    "plt.plot(ts, qs[:,0])\n",
    "plt.plot(ts, qs[:,1]/pi)\n",
    "plt.plot(ts, qs[:,2])\n",
    "plt.plot(ts, us/10)\n",
    "plt.legend([\"dx\", \"phi\", \"dphi\", \"u / 10\"])\n",
    "plt.xlabel(\"State: (m/s, rad, rad/s, Nm / 10)\")\n",
    "plt.ylabel(\"Time (sec)\")\n",
    "plt.title(\"State of the System Under Linear State-Feedback Over Time\")"
   ]
  }
 ],
 "metadata": {
  "kernelspec": {
   "display_name": "Python 3 (ipykernel)",
   "language": "python",
   "name": "python3"
  },
  "language_info": {
   "codemirror_mode": {
    "name": "ipython",
    "version": 3
   },
   "file_extension": ".py",
   "mimetype": "text/x-python",
   "name": "python",
   "nbconvert_exporter": "python",
   "pygments_lexer": "ipython3",
   "version": "3.10.6"
  }
 },
 "nbformat": 4,
 "nbformat_minor": 5
}
