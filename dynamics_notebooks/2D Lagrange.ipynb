{
 "cells": [
  {
   "cell_type": "code",
   "execution_count": 1,
   "id": "2e864c75",
   "metadata": {},
   "outputs": [],
   "source": [
    "from sympy import *\n",
    "from sympy.physics.mechanics import dynamicsymbols, init_vprinting, LagrangesMethod, Lagrangian\n",
    "from sympy.physics import mechanics\n",
    "init_vprinting()"
   ]
  },
  {
   "cell_type": "code",
   "execution_count": 2,
   "id": "db1c10c0",
   "metadata": {},
   "outputs": [],
   "source": [
    "def taylor(xpr, var, center, order=1):\n",
    "    coefs = []\n",
    "    t_xpr = 0\n",
    "    for i in range(order + 1):\n",
    "        coefs.append(xpr.subs(var, center))\n",
    "        xpr = xpr.diff(var)\n",
    "        t_xpr += var ** i * coefs[-1] / factorial(i)\n",
    "    return t_xpr\n",
    "\n",
    "def taylor_mat_entrywise(mat, lin_vars, lin_pt):\n",
    "    slist = list(zip(lin_vars, lin_pt))\n",
    "    \n",
    "    A = mat.subs(slist)\n",
    "    \n",
    "    for i in range(len(lin_vars)):\n",
    "        A += mat.diff(lin_vars[i]).subs(slist) * (lin_vars[i] - lin_pt[i])\n",
    "    A.simplify()\n",
    "    return A"
   ]
  },
  {
   "cell_type": "code",
   "execution_count": 3,
   "id": "c1b0d54d",
   "metadata": {},
   "outputs": [],
   "source": [
    "# States:\n",
    "\n",
    "x, phi = dynamicsymbols(\"x phi\")\n",
    "dx, dphi = dynamicsymbols(\"x phi\", 1)\n",
    "ddx, ddphi = dynamicsymbols(\"x phi\", 2)\n",
    "F, Tu, T1, T2 = symbols(\"F T_u T_1 T_2\")\n",
    "t = symbols(\"t\")\n",
    "\n",
    "q = Matrix([x, phi])\n",
    "dq = q.diff(t)\n",
    "ddq = dx.diff(t)\n",
    "\n",
    "if True:\n",
    "    h = 0.2\n",
    "    r = 0.1193\n",
    "\n",
    "    M = 0.62369\n",
    "    m = 2.5\n",
    "    \n",
    "    gw = 9.8\n",
    "    \n",
    "    thw = rad(60)\n",
    "    rw = 0.060/2\n",
    "\n",
    "    rh = 0.15\n",
    "    rr = 0.08\n",
    "    A = m*h**2/12 * 1.5\n",
    "    B = m*r**2/4\n",
    "    I_robot = Matrix([[A+B, 0, 0], [0, A+B, 0], [0, 0, 2*B]])\n",
    "\n",
    "    I = A\n",
    "else:\n",
    "    r, h, M, m, I, g = symbols(\"r h M m I g\")\n",
    "    \n",
    "trig_subs = [(sin(phi), phi), (cos(phi), 1)]"
   ]
  },
  {
   "cell_type": "code",
   "execution_count": 4,
   "id": "21410ba3",
   "metadata": {},
   "outputs": [
    {
     "data": {
      "image/png": "[encoded data removed]",
      "text/latex": [
       "$\\displaystyle 0.5 \\cos{\\left(\\phi \\right)} \\dot{\\phi} \\dot{x} - 4.9 \\cos{\\left(\\phi \\right)} + 0.05625 \\dot{\\phi}^{2} + 1.561845 \\dot{x}^{2}$"
      ],
      "text/plain": [
       "                                       2             2\n",
       "0.5⋅cos(φ)⋅φ̇⋅ẋ - 4.9⋅cos(φ) + 0.05625⋅φ̇  + 1.561845⋅ẋ "
      ]
     },
     "execution_count": 4,
     "metadata": {},
     "output_type": "execute_result"
    }
   ],
   "source": [
    "T_ball = M*dx**2 / 2\n",
    "T_robot = m/2*((dx + h*cos(phi)*dphi)**2 + (-h*sin(phi)*dphi)**2) + I/2*dphi**2\n",
    "T_robot = T_robot.trigsimp()\n",
    "V_ball = m*gw*h*cos(phi)\n",
    "\n",
    "# T_robot = m/2*((dx - h*cos(phi)*dphi)**2 + m/2*(h*sin(phi)*dphi)**2) + I/2*dphi**2\n",
    "\n",
    "L = T_ball + T_robot - V_ball\n",
    "L"
   ]
  },
  {
   "cell_type": "code",
   "execution_count": 5,
   "id": "d8400919",
   "metadata": {},
   "outputs": [
    {
     "data": {
      "image/png": "[encoded data removed]",
      "text/latex": [
       "$\\displaystyle 0.5 \\cos{\\left(\\phi \\right)} \\dot{\\phi} \\dot{x} - 4.9 \\cos{\\left(\\phi \\right)} + 0.05625 \\dot{\\phi}^{2} + 1.561845 \\dot{x}^{2}$"
      ],
      "text/plain": [
       "                                       2             2\n",
       "0.5⋅cos(φ)⋅φ̇⋅ẋ - 4.9⋅cos(φ) + 0.05625⋅φ̇  + 1.561845⋅ẋ "
      ]
     },
     "execution_count": 5,
     "metadata": {},
     "output_type": "execute_result"
    }
   ],
   "source": [
    "L.expand()"
   ]
  },
  {
   "cell_type": "code",
   "execution_count": 6,
   "id": "7694ee5a",
   "metadata": {},
   "outputs": [
    {
     "data": {
      "text/latex": [
       "$\\displaystyle \\left[\\begin{matrix}- 0.5 \\phi \\dot{\\phi}^{2} + 0.5 \\ddot{\\phi} + 3.12369 \\ddot{x}\\\\- 4.9 \\phi + 0.1125 \\ddot{\\phi} + 0.5 \\ddot{x}\\end{matrix}\\right]$"
      ],
      "text/plain": [
       "⎡         2                    ⎤\n",
       "⎢- 0.5⋅φ⋅φ̇  + 0.5⋅φ̈ + 3.12369⋅ẍ⎥\n",
       "⎢                              ⎥\n",
       "⎣  -4.9⋅φ + 0.1125⋅φ̈ + 0.5⋅ẍ   ⎦"
      ]
     },
     "execution_count": 6,
     "metadata": {},
     "output_type": "execute_result"
    }
   ],
   "source": [
    "LHS = L.diff(dq).diff(t) - L.diff(q)\n",
    "LHS = LHS.subs(trig_subs)\n",
    "LHS"
   ]
  },
  {
   "cell_type": "code",
   "execution_count": 7,
   "id": "a00bfc3e",
   "metadata": {},
   "outputs": [
    {
     "data": {
      "text/latex": [
       "$\\displaystyle \\left[\\begin{matrix}16.6666666666667 T_{u}\\\\- 3.97666666666667 T_{u}\\end{matrix}\\right]$"
      ],
      "text/plain": [
       "⎡16.6666666666667⋅Tᵤ ⎤\n",
       "⎢                    ⎥\n",
       "⎣-3.97666666666667⋅Tᵤ⎦"
      ]
     },
     "execution_count": 7,
     "metadata": {},
     "output_type": "execute_result"
    }
   ],
   "source": [
    "RHS = Matrix([F*cos(thw), -r*F]).subs(F, Tu/rw)\n",
    "RHS.simplify()\n",
    "RHS"
   ]
  },
  {
   "cell_type": "code",
   "execution_count": 8,
   "id": "fa3a31c4",
   "metadata": {},
   "outputs": [],
   "source": [
    "eqs = [Eq(RHS[i], LHS[i]) for i in range(len(q))]\n",
    "sln = solve(eqs, (ddx, ddphi), simplify=True)"
   ]
  },
  {
   "cell_type": "code",
   "execution_count": 9,
   "id": "c669bb81",
   "metadata": {},
   "outputs": [
    {
     "data": {
      "image/png": "[encoded data removed]",
      "text/latex": [
       "$\\displaystyle \\ddot{x} = 38.0942520490246 T_{u} + 0.554650995105513 \\phi \\dot{\\phi}^{2} - 24.1581322312623 \\phi$"
      ],
      "text/plain": [
       "                                               2                     \n",
       "ẍ = 38.0942520490246⋅Tᵤ + 0.554650995105513⋅φ⋅φ̇  - 24.1581322312623⋅φ"
      ]
     },
     "execution_count": 9,
     "metadata": {},
     "output_type": "execute_result"
    }
   ],
   "source": [
    "Eq(ddx, sln[ddx].simplify())"
   ]
  },
  {
   "cell_type": "code",
   "execution_count": 10,
   "id": "6db6e12a",
   "metadata": {},
   "outputs": [
    {
     "data": {
      "image/png": "[encoded data removed]",
      "text/latex": [
       "$\\displaystyle \\ddot{\\phi} = - 204.655935032702 T_{u} - 2.46511553380228 \\phi \\dot{\\phi}^{2} + 150.925032138944 \\phi$"
      ],
      "text/plain": [
       "                                               2                     \n",
       "φ̈ = -204.655935032702⋅Tᵤ - 2.46511553380228⋅φ⋅φ̇  + 150.925032138944⋅φ"
      ]
     },
     "execution_count": 10,
     "metadata": {},
     "output_type": "execute_result"
    }
   ],
   "source": [
    "Eq(ddphi, sln[ddphi].simplify())"
   ]
  },
  {
   "cell_type": "code",
   "execution_count": 11,
   "id": "6d65cf2b",
   "metadata": {},
   "outputs": [],
   "source": [
    "LM = LagrangesMethod(L, [x, phi])"
   ]
  },
  {
   "cell_type": "code",
   "execution_count": 12,
   "id": "3266f5f4",
   "metadata": {},
   "outputs": [
    {
     "data": {
      "text/latex": [
       "$\\displaystyle \\left[\\begin{matrix}- 0.5 \\sin{\\left(\\phi \\right)} \\dot{\\phi}^{2} + 0.5 \\cos{\\left(\\phi \\right)} \\ddot{\\phi} + 3.12369 \\ddot{x}\\\\- 4.9 \\sin{\\left(\\phi \\right)} + 0.5 \\cos{\\left(\\phi \\right)} \\ddot{x} + 0.1125 \\ddot{\\phi}\\end{matrix}\\right]$"
      ],
      "text/plain": [
       "⎡              2                           ⎤\n",
       "⎢- 0.5⋅sin(φ)⋅φ̇  + 0.5⋅cos(φ)⋅φ̈ + 3.12369⋅ẍ⎥\n",
       "⎢                                          ⎥\n",
       "⎣  -4.9⋅sin(φ) + 0.5⋅cos(φ)⋅ẍ + 0.1125⋅φ̈   ⎦"
      ]
     },
     "execution_count": 12,
     "metadata": {},
     "output_type": "execute_result"
    }
   ],
   "source": [
    "LM.form_lagranges_equations()"
   ]
  },
  {
   "cell_type": "code",
   "execution_count": 19,
   "id": "10152c2a",
   "metadata": {
    "scrolled": true
   },
   "outputs": [
    {
     "name": "stdout",
     "output_type": "stream",
     "text": [
      "t = Symbol('t')\n",
      "phi = Function('phi')\n",
      "x = Function('x')\n",
      "e = Float('0.5', precision=53)*cos(phi(t))*Derivative(phi(t), t)*Derivative(x(t), t) - Float('4.9000000000000004', precision=53)*cos(phi(t)) + Float('0.056249999999999994', precision=53)*Derivative(phi(t), t)**2 + Float('1.5618449999999999', precision=53)*Derivative(x(t), t)**2\n"
     ]
    }
   ],
   "source": [
    "s = python(L)\n",
    "print(s)"
   ]
  },
  {
   "cell_type": "code",
   "execution_count": 25,
   "id": "dad3aa70",
   "metadata": {},
   "outputs": [
    {
     "data": {
      "image/png": "[encoded data removed]",
      "text/latex": [
       "$\\displaystyle x$"
      ],
      "text/plain": [
       "x"
      ]
     },
     "execution_count": 25,
     "metadata": {},
     "output_type": "execute_result"
    }
   ],
   "source": []
  },
  {
   "cell_type": "code",
   "execution_count": 23,
   "id": "b6950c61",
   "metadata": {},
   "outputs": [],
   "source": [
    "with open(\"L_test.txt\", 'w') as f:\n",
    "    f.write(s)"
   ]
  },
  {
   "cell_type": "code",
   "execution_count": 18,
   "id": "a228caa5",
   "metadata": {
    "scrolled": false
   },
   "outputs": [
    {
     "name": "stdout",
     "output_type": "stream",
     "text": [
      "Help on package dill:\n",
      "\n",
      "NAME\n",
      "    dill\n",
      "\n",
      "DESCRIPTION\n",
      "    -----------------------------\n",
      "    dill: serialize all of python\n",
      "    -----------------------------\n",
      "    \n",
      "    About Dill\n",
      "    ==========\n",
      "    \n",
      "    ``dill`` extends python's ``pickle`` module for serializing and de-serializing\n",
      "    python objects to the majority of the built-in python types. Serialization\n",
      "    is the process of converting an object to a byte stream, and the inverse\n",
      "    of which is converting a byte stream back to a python object hierarchy.\n",
      "    \n",
      "    ``dill`` provides the user the same interface as the ``pickle`` module, and\n",
      "    also includes some additional features. In addition to pickling python\n",
      "    objects, ``dill`` provides the ability to save the state of an interpreter\n",
      "    session in a single command.  Hence, it would be feasible to save an\n",
      "    interpreter session, close the interpreter, ship the pickled file to\n",
      "    another computer, open a new interpreter, unpickle the session and\n",
      "    thus continue from the 'saved' state of the original interpreter\n",
      "    session.\n",
      "    \n",
      "    ``dill`` can be used to store python objects to a file, but the primary\n",
      "    usage is to send python objects across the network as a byte stream.\n",
      "    ``dill`` is quite flexible, and allows arbitrary user defined classes\n",
      "    and functions to be serialized.  Thus ``dill`` is not intended to be\n",
      "    secure against erroneously or maliciously constructed data. It is\n",
      "    left to the user to decide whether the data they unpickle is from\n",
      "    a trustworthy source.\n",
      "    \n",
      "    ``dill`` is part of ``pathos``, a python framework for heterogeneous computing.\n",
      "    ``dill`` is in active development, so any user feedback, bug reports, comments,\n",
      "    or suggestions are highly appreciated.  A list of issues is located at\n",
      "    https://github.com/uqfoundation/dill/issues, with a legacy list maintained at\n",
      "    https://uqfoundation.github.io/project/pathos/query.\n",
      "    \n",
      "    \n",
      "    Major Features\n",
      "    ==============\n",
      "    \n",
      "    ``dill`` can pickle the following standard types:\n",
      "    \n",
      "        - none, type, bool, int, float, complex, bytes, str,\n",
      "        - tuple, list, dict, file, buffer, builtin,\n",
      "        - python classes, namedtuples, dataclasses, metaclasses,\n",
      "        - instances of classes,\n",
      "        - set, frozenset, array, functions, exceptions\n",
      "    \n",
      "    ``dill`` can also pickle more 'exotic' standard types:\n",
      "    \n",
      "        - functions with yields, nested functions, lambdas,\n",
      "        - cell, method, unboundmethod, module, code, methodwrapper,\n",
      "        - methoddescriptor, getsetdescriptor, memberdescriptor, wrapperdescriptor,\n",
      "        - dictproxy, slice, notimplemented, ellipsis, quit\n",
      "    \n",
      "    ``dill`` cannot yet pickle these standard types:\n",
      "    \n",
      "        - frame, generator, traceback\n",
      "    \n",
      "    ``dill`` also provides the capability to:\n",
      "    \n",
      "        - save and load python interpreter sessions\n",
      "        - save and extract the source code from functions and classes\n",
      "        - interactively diagnose pickling errors\n",
      "    \n",
      "    \n",
      "    Current Release\n",
      "    ===============\n",
      "    \n",
      "    The latest released version of ``dill`` is available from:\n",
      "    \n",
      "        https://pypi.org/project/dill\n",
      "    \n",
      "    ``dill`` is distributed under a 3-clause BSD license.\n",
      "    \n",
      "    \n",
      "    Development Version\n",
      "    ===================\n",
      "    \n",
      "    You can get the latest development version with all the shiny new features at:\n",
      "    \n",
      "        https://github.com/uqfoundation\n",
      "    \n",
      "    If you have a new contribution, please submit a pull request.\n",
      "    \n",
      "    \n",
      "    Installation\n",
      "    ============\n",
      "    \n",
      "    ``dill`` can be installed with ``pip``::\n",
      "    \n",
      "        $ pip install dill\n",
      "    \n",
      "    To optionally include the ``objgraph`` diagnostic tool in the install::\n",
      "    \n",
      "        $ pip install dill[graph]\n",
      "    \n",
      "    For windows users, to optionally install session history tools::\n",
      "    \n",
      "        $ pip install dill[readline]\n",
      "    \n",
      "    \n",
      "    Requirements\n",
      "    ============\n",
      "    \n",
      "    ``dill`` requires:\n",
      "    \n",
      "        - ``python`` (or ``pypy``), **>=3.7**\n",
      "        - ``setuptools``, **>=42**\n",
      "    \n",
      "    Optional requirements:\n",
      "    \n",
      "        - ``objgraph``, **>=1.7.2**\n",
      "        - ``pyreadline``, **>=1.7.1** (on windows)\n",
      "    \n",
      "    \n",
      "    Basic Usage\n",
      "    ===========\n",
      "    \n",
      "    ``dill`` is a drop-in replacement for ``pickle``. Existing code can be\n",
      "    updated to allow complete pickling using::\n",
      "    \n",
      "        >>> import dill as pickle\n",
      "    \n",
      "    or::\n",
      "    \n",
      "        >>> from dill import dumps, loads\n",
      "    \n",
      "    ``dumps`` converts the object to a unique byte string, and ``loads`` performs\n",
      "    the inverse operation::\n",
      "    \n",
      "        >>> squared = lambda x: x**2\n",
      "        >>> loads(dumps(squared))(3)\n",
      "        9\n",
      "    \n",
      "    There are a number of options to control serialization which are provided\n",
      "    as keyword arguments to several ``dill`` functions:\n",
      "    \n",
      "    * with *protocol*, the pickle protocol level can be set. This uses the\n",
      "      same value as the ``pickle`` module, *DEFAULT_PROTOCOL*.\n",
      "    * with *byref=True*, ``dill`` to behave a lot more like pickle with\n",
      "      certain objects (like modules) pickled by reference as opposed to\n",
      "      attempting to pickle the object itself.\n",
      "    * with *recurse=True*, objects referred to in the global dictionary are\n",
      "      recursively traced and pickled, instead of the default behavior of\n",
      "      attempting to store the entire global dictionary.\n",
      "    * with *fmode*, the contents of the file can be pickled along with the file\n",
      "      handle, which is useful if the object is being sent over the wire to a\n",
      "      remote system which does not have the original file on disk. Options are\n",
      "      *HANDLE_FMODE* for just the handle, *CONTENTS_FMODE* for the file content\n",
      "      and *FILE_FMODE* for content and handle.\n",
      "    * with *ignore=False*, objects reconstructed with types defined in the\n",
      "      top-level script environment use the existing type in the environment\n",
      "      rather than a possibly different reconstructed type.\n",
      "    \n",
      "    The default serialization can also be set globally in *dill.settings*.\n",
      "    Thus, we can modify how ``dill`` handles references to the global dictionary\n",
      "    locally or globally::\n",
      "    \n",
      "        >>> import dill.settings\n",
      "        >>> dumps(absolute) == dumps(absolute, recurse=True)\n",
      "        False\n",
      "        >>> dill.settings['recurse'] = True\n",
      "        >>> dumps(absolute) == dumps(absolute, recurse=True)\n",
      "        True\n",
      "    \n",
      "    ``dill`` also includes source code inspection, as an alternate to pickling::\n",
      "    \n",
      "        >>> import dill.source\n",
      "        >>> print(dill.source.getsource(squared))\n",
      "        squared = lambda x:x**2\n",
      "    \n",
      "    To aid in debugging pickling issues, use *dill.detect* which provides\n",
      "    tools like pickle tracing::\n",
      "    \n",
      "        >>> import dill.detect\n",
      "        >>> with dill.detect.trace():\n",
      "        >>>     dumps(squared)\n",
      "        ┬ F1: <function <lambda> at 0x7fe074f8c280>\n",
      "        ├┬ F2: <function _create_function at 0x7fe074c49c10>\n",
      "        │└ # F2 [34 B]\n",
      "        ├┬ Co: <code object <lambda> at 0x7fe07501eb30, file \"<stdin>\", line 1>\n",
      "        │├┬ F2: <function _create_code at 0x7fe074c49ca0>\n",
      "        ││└ # F2 [19 B]\n",
      "        │└ # Co [87 B]\n",
      "        ├┬ D1: <dict object at 0x7fe0750d4680>\n",
      "        │└ # D1 [22 B]\n",
      "        ├┬ D2: <dict object at 0x7fe074c5a1c0>\n",
      "        │└ # D2 [2 B]\n",
      "        ├┬ D2: <dict object at 0x7fe074f903c0>\n",
      "        │├┬ D2: <dict object at 0x7fe074f8ebc0>\n",
      "        ││└ # D2 [2 B]\n",
      "        │└ # D2 [23 B]\n",
      "        └ # F1 [180 B]\n",
      "    \n",
      "    With trace, we see how ``dill`` stored the lambda (``F1``) by first storing\n",
      "    ``_create_function``, the underlying code object (``Co``) and ``_create_code``\n",
      "    (which is used to handle code objects), then we handle the reference to\n",
      "    the global dict (``D2``) plus other dictionaries (``D1`` and ``D2``) that\n",
      "    save the lambda object's state. A ``#`` marks when the object is actually stored.\n",
      "    \n",
      "    \n",
      "    More Information\n",
      "    ================\n",
      "    \n",
      "    Probably the best way to get started is to look at the documentation at\n",
      "    http://dill.rtfd.io. Also see ``dill.tests`` for a set of scripts that\n",
      "    demonstrate how ``dill`` can serialize different python objects. You can\n",
      "    run the test suite with ``python -m dill.tests``. The contents of any\n",
      "    pickle file can be examined with ``undill``.  As ``dill`` conforms to\n",
      "    the ``pickle`` interface, the examples and documentation found at\n",
      "    http://docs.python.org/library/pickle.html also apply to ``dill``\n",
      "    if one will ``import dill as pickle``. The source code is also generally\n",
      "    well documented, so further questions may be resolved by inspecting the\n",
      "    code itself. Please feel free to submit a ticket on github, or ask a\n",
      "    question on stackoverflow (**@Mike McKerns**).\n",
      "    If you would like to share how you use ``dill`` in your work, please send\n",
      "    an email (to **mmckerns at uqfoundation dot org**).\n",
      "    \n",
      "    \n",
      "    Citation\n",
      "    ========\n",
      "    \n",
      "    If you use ``dill`` to do research that leads to publication, we ask that you\n",
      "    acknowledge use of ``dill`` by citing the following in your publication::\n",
      "    \n",
      "        M.M. McKerns, L. Strand, T. Sullivan, A. Fang, M.A.G. Aivazis,\n",
      "        \"Building a framework for predictive science\", Proceedings of\n",
      "        the 10th Python in Science Conference, 2011;\n",
      "        http://arxiv.org/pdf/1202.1056\n",
      "    \n",
      "        Michael McKerns and Michael Aivazis,\n",
      "        \"pathos: a framework for heterogeneous computing\", 2010- ;\n",
      "        https://uqfoundation.github.io/project/pathos\n",
      "    \n",
      "    Please see https://uqfoundation.github.io/project/pathos or\n",
      "    http://arxiv.org/pdf/1202.1056 for further information.\n",
      "\n",
      "PACKAGE CONTENTS\n",
      "    __diff\n",
      "    __info__\n",
      "    _dill\n",
      "    _objects\n",
      "    _shims\n",
      "    detect\n",
      "    logger\n",
      "    objtypes\n",
      "    pointers\n",
      "    session\n",
      "    settings\n",
      "    source\n",
      "    temp\n",
      "    tests (package)\n",
      "\n",
      "SUBMODULES\n",
      "    types\n",
      "\n",
      "FUNCTIONS\n",
      "    citation()\n",
      "        print citation\n",
      "    \n",
      "    extend(use_dill=True)\n",
      "        add (or remove) dill types to/from the pickle registry\n",
      "        \n",
      "        by default, ``dill`` populates its types to ``pickle.Pickler.dispatch``.\n",
      "        Thus, all ``dill`` types are available upon calling ``'import pickle'``.\n",
      "        To drop all ``dill`` types from the ``pickle`` dispatch, *use_dill=False*.\n",
      "        \n",
      "        Args:\n",
      "            use_dill (bool, default=True): if True, extend the dispatch table.\n",
      "        \n",
      "        Returns:\n",
      "            None\n",
      "    \n",
      "    license()\n",
      "        print license\n",
      "    \n",
      "    load_types(pickleable=True, unpickleable=True)\n",
      "        load pickleable and/or unpickleable types to ``dill.types``\n",
      "        \n",
      "        ``dill.types`` is meant to mimic the ``types`` module, providing a\n",
      "        registry of object types.  By default, the module is empty (for import\n",
      "        speed purposes). Use the ``load_types`` function to load selected object\n",
      "        types to the ``dill.types`` module.\n",
      "        \n",
      "        Args:\n",
      "            pickleable (bool, default=True): if True, load pickleable types.\n",
      "            unpickleable (bool, default=True): if True, load unpickleable types.\n",
      "        \n",
      "        Returns:\n",
      "            None\n",
      "\n",
      "DATA\n",
      "    CONTENTS_FMODE = 1\n",
      "    DEFAULT_PROTOCOL = 4\n",
      "    FILE_FMODE = 2\n",
      "    HANDLE_FMODE = 0\n",
      "    HIGHEST_PROTOCOL = 5\n",
      "    __license__ = '\\nCopyright (c) 2004-2016 California Institute of...N I...\n",
      "    objects = {}\n",
      "    settings = {'byref': False, 'fmode': 0, 'ignore': False, 'protocol': 4...\n",
      "\n",
      "VERSION\n",
      "    0.3.6\n",
      "\n",
      "AUTHOR\n",
      "    Mike McKerns\n",
      "\n",
      "FILE\n",
      "    /home/nicky/.local/lib/python3.10/site-packages/dill/__init__.py\n",
      "\n",
      "\n"
     ]
    }
   ],
   "source": [
    "help(dill)"
   ]
  },
  {
   "cell_type": "markdown",
   "id": "a778881d",
   "metadata": {},
   "source": [
    "# Stabilization"
   ]
  },
  {
   "cell_type": "code",
   "execution_count": 103,
   "id": "723ab495",
   "metadata": {},
   "outputs": [],
   "source": [
    "import numpy as np\n",
    "import sympy as sp\n",
    "import matplotlib.pyplot as plt\n",
    "\n",
    "import control\n",
    "\n",
    "def linearize(f, xs, q0):\n",
    "    dfdq = Matrix(np.hstack(f.diff(X.T)[0])).subs([(xs[i], q0[i]) for i in range(len(xs))])\n",
    "    dfdq.simplify()\n",
    "    return dfdq\n",
    "\n",
    "def Lie(f, V, var, order=1):\n",
    "    if order > 1:\n",
    "        return Lie(f, Lie(f, V, var, order-1), var)\n",
    "    return sum([f[i] * V.diff(var[i]) for i in range(len(var))])"
   ]
  },
  {
   "cell_type": "code",
   "execution_count": 104,
   "id": "a0a83e13",
   "metadata": {},
   "outputs": [],
   "source": [
    "input_var = Tu\n",
    "\n",
    "f = Matrix([[sln[ddx].subs(input_var, 0).simplify()],\n",
    "            [dphi],\n",
    "            [sln[ddphi].subs(input_var, 0).simplify()]])\n",
    "g = Matrix([[sln[ddx].subs(phi, 0).subs(input_var, 1).simplify()], \n",
    "            [0], \n",
    "            [sln[ddphi].subs(phi, 0).subs(input_var, 1).simplify()]])\n",
    "\n",
    "xs = (dx, phi, dphi)\n",
    "Lf = lambda V, o=1: Lie(f, V, xs, o)\n",
    "Lg = lambda V, o=1: Lie(g, V, xs, o)\n",
    "\n",
    "X = Matrix([dx, phi, dphi])\n",
    "\n",
    "q = Matrix([phi, dx, dphi])"
   ]
  },
  {
   "cell_type": "code",
   "execution_count": 105,
   "id": "92371dae",
   "metadata": {},
   "outputs": [
    {
     "ename": "TypeError",
     "evalue": "Cannot convert expression to float",
     "output_type": "error",
     "traceback": [
      "\u001b[0;31m---------------------------------------------------------------------------\u001b[0m",
      "\u001b[0;31mTypeError\u001b[0m                                 Traceback (most recent call last)",
      "Cell \u001b[0;32mIn [105], line 6\u001b[0m\n\u001b[1;32m      3\u001b[0m \u001b[38;5;28;01mdef\u001b[39;00m \u001b[38;5;21mqdot\u001b[39m(q, u):\n\u001b[1;32m      4\u001b[0m     \u001b[38;5;28;01mreturn\u001b[39;00m ffn(\u001b[38;5;241m*\u001b[39mq) \u001b[38;5;241m+\u001b[39m gfn(\u001b[38;5;241m*\u001b[39mq) \u001b[38;5;241m*\u001b[39m u\n\u001b[0;32m----> 6\u001b[0m A \u001b[38;5;241m=\u001b[39m \u001b[43mnp\u001b[49m\u001b[38;5;241;43m.\u001b[39;49m\u001b[43marray\u001b[49m\u001b[43m(\u001b[49m\u001b[43mlinearize\u001b[49m\u001b[43m(\u001b[49m\u001b[43mf\u001b[49m\u001b[43m,\u001b[49m\u001b[43m \u001b[49m\u001b[43mX\u001b[49m\u001b[43m,\u001b[49m\u001b[43m \u001b[49m\u001b[43m[\u001b[49m\u001b[38;5;241;43m0\u001b[39;49m\u001b[43m,\u001b[49m\u001b[43m \u001b[49m\u001b[38;5;241;43m0\u001b[39;49m\u001b[43m,\u001b[49m\u001b[43m \u001b[49m\u001b[38;5;241;43m0\u001b[39;49m\u001b[43m]\u001b[49m\u001b[43m)\u001b[49m\u001b[43m,\u001b[49m\u001b[43m \u001b[49m\u001b[43mdtype\u001b[49m\u001b[38;5;241;43m=\u001b[39;49m\u001b[38;5;28;43mfloat\u001b[39;49m\u001b[43m)\u001b[49m\n\u001b[1;32m      7\u001b[0m B \u001b[38;5;241m=\u001b[39m np\u001b[38;5;241m.\u001b[39marray(g, dtype\u001b[38;5;241m=\u001b[39m\u001b[38;5;28mfloat\u001b[39m)\n\u001b[1;32m      9\u001b[0m \u001b[38;5;66;03m# Feedback via Pole Placement\u001b[39;00m\n",
      "File \u001b[0;32m~/.local/lib/python3.10/site-packages/sympy/matrices/matrices.py:807\u001b[0m, in \u001b[0;36mMatrixBase.__array__\u001b[0;34m(self, dtype)\u001b[0m\n\u001b[1;32m    805\u001b[0m \u001b[38;5;28;01mdef\u001b[39;00m \u001b[38;5;21m__array__\u001b[39m(\u001b[38;5;28mself\u001b[39m, dtype\u001b[38;5;241m=\u001b[39m\u001b[38;5;28mobject\u001b[39m):\n\u001b[1;32m    806\u001b[0m     \u001b[38;5;28;01mfrom\u001b[39;00m \u001b[38;5;21;01m.\u001b[39;00m\u001b[38;5;21;01mdense\u001b[39;00m \u001b[38;5;28;01mimport\u001b[39;00m matrix2numpy\n\u001b[0;32m--> 807\u001b[0m     \u001b[38;5;28;01mreturn\u001b[39;00m \u001b[43mmatrix2numpy\u001b[49m\u001b[43m(\u001b[49m\u001b[38;5;28;43mself\u001b[39;49m\u001b[43m,\u001b[49m\u001b[43m \u001b[49m\u001b[43mdtype\u001b[49m\u001b[38;5;241;43m=\u001b[39;49m\u001b[43mdtype\u001b[49m\u001b[43m)\u001b[49m\n",
      "File \u001b[0;32m~/.local/lib/python3.10/site-packages/sympy/matrices/dense.py:163\u001b[0m, in \u001b[0;36mmatrix2numpy\u001b[0;34m(m, dtype)\u001b[0m\n\u001b[1;32m    161\u001b[0m \u001b[38;5;28;01mfor\u001b[39;00m i \u001b[38;5;129;01min\u001b[39;00m \u001b[38;5;28mrange\u001b[39m(m\u001b[38;5;241m.\u001b[39mrows):\n\u001b[1;32m    162\u001b[0m     \u001b[38;5;28;01mfor\u001b[39;00m j \u001b[38;5;129;01min\u001b[39;00m \u001b[38;5;28mrange\u001b[39m(m\u001b[38;5;241m.\u001b[39mcols):\n\u001b[0;32m--> 163\u001b[0m         \u001b[43ma\u001b[49m\u001b[43m[\u001b[49m\u001b[43mi\u001b[49m\u001b[43m,\u001b[49m\u001b[43m \u001b[49m\u001b[43mj\u001b[49m\u001b[43m]\u001b[49m \u001b[38;5;241m=\u001b[39m m[i, j]\n\u001b[1;32m    164\u001b[0m \u001b[38;5;28;01mreturn\u001b[39;00m a\n",
      "File \u001b[0;32m~/.local/lib/python3.10/site-packages/sympy/core/expr.py:351\u001b[0m, in \u001b[0;36mExpr.__float__\u001b[0;34m(self)\u001b[0m\n\u001b[1;32m    349\u001b[0m \u001b[38;5;28;01mif\u001b[39;00m result\u001b[38;5;241m.\u001b[39mis_number \u001b[38;5;129;01mand\u001b[39;00m result\u001b[38;5;241m.\u001b[39mas_real_imag()[\u001b[38;5;241m1\u001b[39m]:\n\u001b[1;32m    350\u001b[0m     \u001b[38;5;28;01mraise\u001b[39;00m \u001b[38;5;167;01mTypeError\u001b[39;00m(\u001b[38;5;124m\"\u001b[39m\u001b[38;5;124mCannot convert complex to float\u001b[39m\u001b[38;5;124m\"\u001b[39m)\n\u001b[0;32m--> 351\u001b[0m \u001b[38;5;28;01mraise\u001b[39;00m \u001b[38;5;167;01mTypeError\u001b[39;00m(\u001b[38;5;124m\"\u001b[39m\u001b[38;5;124mCannot convert expression to float\u001b[39m\u001b[38;5;124m\"\u001b[39m)\n",
      "\u001b[0;31mTypeError\u001b[0m: Cannot convert expression to float"
     ]
    }
   ],
   "source": [
    "ffn = lambdify(xs, np.array(f).T[0])\n",
    "gfn = lambdify(xs, np.array(g).T[0])\n",
    "def qdot(q, u):\n",
    "    return ffn(*q) + gfn(*q) * u\n",
    "\n",
    "A = np.array(linearize(f, X, [0, 0, 0]), dtype=float)\n",
    "B = np.array(g, dtype=float)\n",
    "\n",
    "# Feedback via Pole Placement\n",
    "pole = -3\n",
    "K = -control.place(A, B, [pole-0.1, pole, pole+0.1])\n",
    "\n",
    "CAP = 0.8\n",
    "goal = np.array([-1, 0, 0])\n",
    "def u(q):\n",
    "    return min(max((K @ (q - goal))[0], -CAP), CAP)\n",
    "\n",
    "\n",
    "# Manually designed u(q)\n",
    "# def u(q):\n",
    "#     dx, phi, dphi = q\n",
    "#     return (-17.8/0.8 - 10)*phi - 3*dphi - 0.3 *dx"
   ]
  },
  {
   "cell_type": "code",
   "execution_count": 106,
   "id": "fc274547",
   "metadata": {},
   "outputs": [
    {
     "ename": "TypeError",
     "evalue": "\nData type not understood; expecting list of lists or lists of values.",
     "output_type": "error",
     "traceback": [
      "\u001b[0;31m---------------------------------------------------------------------------\u001b[0m",
      "\u001b[0;31mTypeError\u001b[0m                                 Traceback (most recent call last)",
      "Cell \u001b[0;32mIn [106], line 1\u001b[0m\n\u001b[0;32m----> 1\u001b[0m Eq(MatrixSymbol(\u001b[38;5;124m'\u001b[39m\u001b[38;5;124mA\u001b[39m\u001b[38;5;124m'\u001b[39m, \u001b[38;5;241m3\u001b[39m, \u001b[38;5;241m3\u001b[39m), \u001b[43mMatrix\u001b[49m\u001b[43m(\u001b[49m\u001b[43mA\u001b[49m\u001b[43m)\u001b[49m), Eq(MatrixSymbol(\u001b[38;5;124m'\u001b[39m\u001b[38;5;124mB\u001b[39m\u001b[38;5;124m'\u001b[39m, \u001b[38;5;241m3\u001b[39m, \u001b[38;5;241m1\u001b[39m), Matrix(B))\n",
      "File \u001b[0;32m~/.local/lib/python3.10/site-packages/sympy/matrices/repmatrix.py:329\u001b[0m, in \u001b[0;36mMutableRepMatrix.__new__\u001b[0;34m(cls, *args, **kwargs)\u001b[0m\n\u001b[1;32m    328\u001b[0m \u001b[38;5;28;01mdef\u001b[39;00m \u001b[38;5;21m__new__\u001b[39m(\u001b[38;5;28mcls\u001b[39m, \u001b[38;5;241m*\u001b[39margs, \u001b[38;5;241m*\u001b[39m\u001b[38;5;241m*\u001b[39mkwargs):\n\u001b[0;32m--> 329\u001b[0m     \u001b[38;5;28;01mreturn\u001b[39;00m \u001b[38;5;28;43mcls\u001b[39;49m\u001b[38;5;241;43m.\u001b[39;49m\u001b[43m_new\u001b[49m\u001b[43m(\u001b[49m\u001b[38;5;241;43m*\u001b[39;49m\u001b[43margs\u001b[49m\u001b[43m,\u001b[49m\u001b[43m \u001b[49m\u001b[38;5;241;43m*\u001b[39;49m\u001b[38;5;241;43m*\u001b[39;49m\u001b[43mkwargs\u001b[49m\u001b[43m)\u001b[49m\n",
      "File \u001b[0;32m~/.local/lib/python3.10/site-packages/sympy/matrices/repmatrix.py:340\u001b[0m, in \u001b[0;36mMutableRepMatrix._new\u001b[0;34m(cls, copy, *args, **kwargs)\u001b[0m\n\u001b[1;32m    338\u001b[0m     rows, cols, flat_list \u001b[38;5;241m=\u001b[39m args\n\u001b[1;32m    339\u001b[0m \u001b[38;5;28;01melse\u001b[39;00m:\n\u001b[0;32m--> 340\u001b[0m     rows, cols, flat_list \u001b[38;5;241m=\u001b[39m \u001b[38;5;28;43mcls\u001b[39;49m\u001b[38;5;241;43m.\u001b[39;49m\u001b[43m_handle_creation_inputs\u001b[49m\u001b[43m(\u001b[49m\u001b[38;5;241;43m*\u001b[39;49m\u001b[43margs\u001b[49m\u001b[43m,\u001b[49m\u001b[43m \u001b[49m\u001b[38;5;241;43m*\u001b[39;49m\u001b[38;5;241;43m*\u001b[39;49m\u001b[43mkwargs\u001b[49m\u001b[43m)\u001b[49m\n\u001b[1;32m    341\u001b[0m     flat_list \u001b[38;5;241m=\u001b[39m \u001b[38;5;28mlist\u001b[39m(flat_list) \u001b[38;5;66;03m# create a shallow copy\u001b[39;00m\n\u001b[1;32m    343\u001b[0m rep \u001b[38;5;241m=\u001b[39m \u001b[38;5;28mcls\u001b[39m\u001b[38;5;241m.\u001b[39m_flat_list_to_DomainMatrix(rows, cols, flat_list)\n",
      "File \u001b[0;32m~/.local/lib/python3.10/site-packages/sympy/matrices/matrices.py:1143\u001b[0m, in \u001b[0;36mMatrixBase._handle_creation_inputs\u001b[0;34m(cls, *args, **kwargs)\u001b[0m\n\u001b[1;32m   1140\u001b[0m     flat_list \u001b[38;5;241m=\u001b[39m []\n\u001b[1;32m   1142\u001b[0m \u001b[38;5;28;01mif\u001b[39;00m flat_list \u001b[38;5;129;01mis\u001b[39;00m \u001b[38;5;28;01mNone\u001b[39;00m:\n\u001b[0;32m-> 1143\u001b[0m     \u001b[38;5;28;01mraise\u001b[39;00m \u001b[38;5;167;01mTypeError\u001b[39;00m(filldedent(\u001b[38;5;124m'''\u001b[39m\n\u001b[1;32m   1144\u001b[0m \u001b[38;5;124m        Data type not understood; expecting list of lists\u001b[39m\n\u001b[1;32m   1145\u001b[0m \u001b[38;5;124m        or lists of values.\u001b[39m\u001b[38;5;124m'''\u001b[39m))\n\u001b[1;32m   1147\u001b[0m \u001b[38;5;28;01mreturn\u001b[39;00m rows, cols, flat_list\n",
      "\u001b[0;31mTypeError\u001b[0m: \nData type not understood; expecting list of lists or lists of values."
     ]
    }
   ],
   "source": [
    "Eq(MatrixSymbol('A', 3, 3), Matrix(A)), Eq(MatrixSymbol('B', 3, 1), Matrix(B))"
   ]
  },
  {
   "cell_type": "code",
   "execution_count": 42,
   "id": "9ae43bc1",
   "metadata": {},
   "outputs": [
    {
     "data": {
      "text/latex": [
       "$\\displaystyle \\left[\\begin{matrix}0.01 & 4.15 & 0.07\\end{matrix}\\right]$"
      ],
      "text/plain": [
       "[0.01  4.15  0.07]"
      ]
     },
     "execution_count": 42,
     "metadata": {},
     "output_type": "execute_result"
    }
   ],
   "source": [
    "Matrix(np.round(K, 2))"
   ]
  },
  {
   "cell_type": "code",
   "execution_count": 43,
   "id": "c54ecfde",
   "metadata": {},
   "outputs": [
    {
     "data": {
      "image/png": "[encoded data removed]",
      "text/latex": [
       "$\\displaystyle u = 0.0113327004305897 \\phi + 0.0683441326862192 \\dot{\\phi} + 4.15063656754857 \\dot{x}$"
      ],
      "text/plain": [
       "u = 0.0113327004305897⋅φ + 0.0683441326862192⋅φ̇ + 4.15063656754857⋅ẋ"
      ]
     },
     "execution_count": 43,
     "metadata": {},
     "output_type": "execute_result"
    }
   ],
   "source": [
    "Eq(symbols('u'), (K * q)[0])"
   ]
  },
  {
   "cell_type": "code",
   "execution_count": 28,
   "id": "110a1d66",
   "metadata": {},
   "outputs": [
    {
     "data": {
      "image/png": "[encoded data removed]",
      "text/plain": [
       "<Figure size 800x400 with 1 Axes>"
      ]
     },
     "metadata": {},
     "output_type": "display_data"
    }
   ],
   "source": [
    "# Simulating the controller\n",
    "q = np.array([0, 0.2, 0])\n",
    "time = 0\n",
    "dt = 0.01\n",
    "\n",
    "ts = []\n",
    "qs = []\n",
    "us = []\n",
    "while time <3:\n",
    "    uval = u(q)\n",
    "    q += qdot(q, uval) * dt\n",
    "    qs.append(q.copy())\n",
    "    us.append(uval)\n",
    "    ts.append(time)\n",
    "    time += dt\n",
    "\n",
    "qs = np.array(qs)\n",
    "us = np.array(us)\n",
    "\n",
    "omg_w = (qs[:,0] + r*qs[:,2]) / rw * 30/3.14159\n",
    "\n",
    "f = plt.figure()\n",
    "f.set_figwidth(8)\n",
    "f.set_figheight(4)\n",
    "\n",
    "plt.plot(ts, qs[:,0])\n",
    "plt.plot(ts, qs[:,1]/pi)\n",
    "plt.plot(ts, qs[:,2])\n",
    "plt.plot(ts, us)\n",
    "plt.legend([\"dx\", \"phi\", \"dphi\", \"u\"])\n",
    "plt.ylabel(\"State: (m/s, rad, rad/s, Nm)\")\n",
    "plt.xlabel(\"Time (sec)\")\n",
    "plt.title(\"State of the System Under Linear State-Feedback Over Time\")\n",
    "plt.show()\n",
    "\n",
    "\n",
    "# plt.plot(ts, omg_w)\n",
    "# plt.xlabel(\"Time (sec)\")\n",
    "# plt.ylabel(\"RPM\")\n",
    "# plt.show()"
   ]
  },
  {
   "cell_type": "code",
   "execution_count": 56,
   "id": "b2c39c65",
   "metadata": {},
   "outputs": [
    {
     "data": {
      "image/png": "[encoded data removed]",
      "text/latex": [
       "$\\displaystyle 11.4591559026165$"
      ],
      "text/plain": [
       "11.459155902616464"
      ]
     },
     "execution_count": 56,
     "metadata": {},
     "output_type": "execute_result"
    }
   ],
   "source": [
    "float(deg(0.2))"
   ]
  },
  {
   "cell_type": "code",
   "execution_count": null,
   "id": "431b3aba",
   "metadata": {},
   "outputs": [],
   "source": []
  }
 ],
 "metadata": {
  "kernelspec": {
   "display_name": "Python 3 (ipykernel)",
   "language": "python",
   "name": "python3"
  },
  "language_info": {
   "codemirror_mode": {
    "name": "ipython",
    "version": 3
   },
   "file_extension": ".py",
   "mimetype": "text/x-python",
   "name": "python",
   "nbconvert_exporter": "python",
   "pygments_lexer": "ipython3",
   "version": "3.10.6"
  }
 },
 "nbformat": 4,
 "nbformat_minor": 5
}
