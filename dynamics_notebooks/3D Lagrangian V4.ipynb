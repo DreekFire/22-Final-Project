{
 "cells": [
  {
   "cell_type": "markdown",
   "id": "ae68f2dc",
   "metadata": {},
   "source": [
    "https://essay.utwente.nl/65559/1/vanderBlonk_MSc_EEMCS.pdf#page55"
   ]
  },
  {
   "cell_type": "code",
   "execution_count": 1,
   "id": "9c26d4b7",
   "metadata": {},
   "outputs": [],
   "source": [
    "from sympy import *\n",
    "from sympy.physics.mechanics import dynamicsymbols, init_vprinting, LagrangesMethod, Lagrangian\n",
    "from sympy.physics import mechanics\n",
    "init_vprinting()\n",
    "\n",
    "import numpy as np\n",
    "import math\n",
    "from time import time, sleep"
   ]
  },
  {
   "cell_type": "code",
   "execution_count": 2,
   "id": "85fb1357",
   "metadata": {},
   "outputs": [],
   "source": [
    "def hat(v):\n",
    "    a, b, c = v\n",
    "    return Matrix([[0, -c, b], [c, 0, -a], [-b, a, 0]])\n",
    "\n",
    "def Ad(H):\n",
    "    R = H[:3, :3]\n",
    "    o = H[:3, 3]\n",
    "    Z = zeros(3)\n",
    "    ans = [[R, Z], [hat(o) @ R, R]]\n",
    "    return Matrix(ans)\n",
    "\n",
    "def Hinv(H):\n",
    "    R = H[:3, :3]\n",
    "    p = H[:3, 3]\n",
    "    z = Matrix(np.zeros((1, 3)))\n",
    "    return Matrix([[R.T, -R.T @ p], [z, Matrix([1])]])\n",
    "\n",
    "def jacobian(v, dq):\n",
    "    n = len(v)\n",
    "    m = len(dq)\n",
    "    ans = np.zeros((n, m), dtype=object)\n",
    "    \n",
    "    zeros_slist = [(var, 0) for var in dq]\n",
    "    for i in range(n):\n",
    "        for j in range(m):\n",
    "            ans[i, j] = v[i].subs(dq[j], 1).subs(zeros_slist)\n",
    "    return Matrix(ans)\n",
    "\n",
    "def partial(arg, x):\n",
    "    lst = []\n",
    "    for v in x:\n",
    "        lst.append(arg.diff(v))\n",
    "    return Matrix([lst])"
   ]
  },
  {
   "cell_type": "code",
   "execution_count": 3,
   "id": "eed9c41f",
   "metadata": {},
   "outputs": [],
   "source": [
    "Z = Matrix(np.zeros((3,3)))\n",
    "I = eye(3)\n",
    "get_w = Matrix([[I, Z]])\n",
    "get_v = Matrix([[Z, I]])"
   ]
  },
  {
   "cell_type": "code",
   "execution_count": 107,
   "id": "a499662a",
   "metadata": {},
   "outputs": [],
   "source": [
    "# Variables\n",
    "q = Matrix(dynamicsymbols(\"x y phi_x phi_y phi_z\"))\n",
    "t = symbols(\"t\")\n",
    "x, y, phix, phiy, phiz = q\n",
    "dq = q.diff(t)\n",
    "dx, dy, dphix, dphiy, dphiz = dq\n",
    "T1, T2, T3 = symbols(\"Tau_1:4\")\n",
    "\n",
    "if False:\n",
    "    # Parameters\n",
    "    l, mb, mh = symbols(\"l m_b m_h\")\n",
    "    rb, rw = symbols(\"r_b r_w\")\n",
    "    g = symbols('g')\n",
    "    alpha = symbols(\"alpha\") # Angle of the omhiwheel point of contact from vertical (45 degrees)\n",
    "    Ih = diag(*symbols(\"I_xx I_yy I_zz\"))\n",
    "    Iow, Im, k = symbols(\"I_ow I_m k\")\n",
    "    \n",
    "    # Moment of Inertia (placeholder)\n",
    "    Ib = diag(*([mb*rb**2]*3))\n",
    "    \n",
    "else:\n",
    "    l = 0.169                      # Distance from ball COM to hat COM (m)\n",
    "    ms = 0.624                     # Mass of ball (kg)\n",
    "    mb = 2                         # Mass of body (kg)\n",
    "    rs = 0.254 / 2                 # Radius of ball (m)\n",
    "    rw = 0.096/2                   # Radius of wheel (m)\n",
    "    g = 9.8                        # m/s^2\n",
    "    alpha = rad(45)                # Angle of omniwheel axis from the horizontal plane (rad)\n",
    "    Ib = diag(1.167e-2, 1.153e-2, 1.234e-2) # Inertia tensor of the body kg m^2\n",
    "    Iow = 1/2*(96e-3)*rw**2        # Inertia of the wheel (scalar) kg m^2\n",
    "    Im = 1/2*(0.2)*(32e-3 / 2)**2  # Inertia of the motor winding (scalar) kg m^2 (very rough estimate)\n",
    "    k = 13.7                       # Gear ratio of the motor\n",
    "    \n",
    "    Is = diag(*[2/3*ms*rs**2]*3)\n",
    "    \n",
    "    # # Paper Parameters\n",
    "    # ms = 3.2\n",
    "    # mow = 0.555\n",
    "    # mgh = 0.16\n",
    "    # mm = 0.24\n",
    "    # rs = 0.115\n",
    "    # wb = 0.2\n",
    "    # h = 0.8\n",
    "    # h1 = 0.66\n",
    "    # h2 = 0.14\n",
    "    # Is = diag(*([2.65e-2]*3))\n",
    "    # Im = 2.42e-6\n",
    "    # Iow = 6.94e-5\n",
    "    # l = 0.405\n",
    "    # g = 9.81\n",
    "    # alpha = math.radians(45)\n",
    "    # beta = 0\n",
    "    \n",
    "    # mb = 10\n",
    "    # mb1 = 6.2\n",
    "    # mb2 = 0.935\n",
    "    # mb2tot = 3.8\n",
    "    # rw = 0.050\n",
    "    # Ib = diag(8.76e-1, 8.76e-1, 6.67e-2)\n",
    "    \n",
    "    # # Not specified\n",
    "    # k=10\n",
    "\n",
    "    "
   ]
  },
  {
   "cell_type": "code",
   "execution_count": 5,
   "id": "7d1724db",
   "metadata": {},
   "outputs": [],
   "source": [
    "# Coordinate Transformations\n",
    "# Frame I: Innertial frame\n",
    "# Frame 2: Origin at center of the ball\n",
    "# Frame 5: Origin at COM of the robot body with axes aligned to the robot\n",
    "HI1 = Matrix([[1, 0, 0, -x],[0, 1, 0, 0], [0, 0, 1, 0], [0, 0, 0, 1]])\n",
    "H12 = Matrix([[1, 0, 0, 0], [0, 1, 0, -y], [0, 0, 1, 0], [0, 0, 0, 1]])\n",
    "H23 = Matrix([[cos(phiz), sin(phiz), 0, 0], [-sin(phiz), cos(phiz), 0, 0], [0, 0, 1, 0], [0, 0, 0, 1]])\n",
    "H34 = Matrix([[cos(phiy), 0, sin(phiy), 0], [0, 1, 0, 0], [-sin(phiy), 0, cos(phiy), 0], [0, 0, 0, 1]]) # Flipped sign of sin(phiy)s\n",
    "H45 = Matrix([[1, 0, 0, 0], [0, cos(phix), -sin(phix), 0], [0, sin(phix), cos(phix), -l], [0, 0, 0, 1]])\n",
    "\n",
    "# Trig Simplifications\n",
    "# HI1 = Matrix([[1, 0, 0, -x],[0, 1, 0, 0], [0, 0, 1, 0], [0, 0, 0, 1]])\n",
    "# H12 = Matrix([[1, 0, 0, 0], [0, 1, 0, -y], [0, 0, 1, 0], [0, 0, 0, 1]])\n",
    "# H23 = Matrix([[1, phiz, 0, 0], [-phiz, 1, 0, 0], [0, 0, 1, 0], [0, 0, 0, 1]])\n",
    "# H34 = Matrix([[1, 0, phiy, 0], [0, 1, 0, 0], [-phiy, 0, 1, 0], [0, 0, 0, 1]])\n",
    "# H45 = Matrix([[1, 0, 0, 0], [0, 1, -phix, 0], [0, phix, 1, -l], [0, 0, 0, 1]])\n",
    "\n",
    "\n",
    "# HI2 = HI1 @ H12\n",
    "# HI3 = HI2 @ H23\n",
    "# HI4 = HI3 @ H34\n",
    "# HI5 = HI4 @ H45\n",
    "\n",
    "HI2 = H12 * HI1\n",
    "HI3 = H23 * HI2\n",
    "HI4 = H34 * HI3\n",
    "HI5 = H45 * HI4"
   ]
  },
  {
   "cell_type": "code",
   "execution_count": 6,
   "id": "08d8c134",
   "metadata": {
    "scrolled": true
   },
   "outputs": [],
   "source": [
    "T2II = Matrix([0, 0, 0, dx, dy, 0])\n",
    "T22I = Ad(HI2) @ T2II\n",
    "\n",
    "v22I = get_v @ T22I\n",
    "\n",
    "T25I = Ad(HI5) @ T2II"
   ]
  },
  {
   "cell_type": "code",
   "execution_count": 7,
   "id": "38d87b85",
   "metadata": {},
   "outputs": [
    {
     "data": {
      "text/latex": [
       "$\\displaystyle \\left[\\begin{matrix}- 7.8740157480315 \\dot{y}\\\\7.8740157480315 \\dot{x}\\\\0\\end{matrix}\\right]$"
      ],
      "text/plain": [
       "⎡-7.8740157480315⋅ẏ⎤\n",
       "⎢                  ⎥\n",
       "⎢7.8740157480315⋅ẋ ⎥\n",
       "⎢                  ⎥\n",
       "⎣        0         ⎦"
      ]
     },
     "execution_count": 7,
     "metadata": {},
     "output_type": "execute_result"
    }
   ],
   "source": [
    "oI5 = HI5[:3,3]\n",
    "RI5 = HI5[:3,:3]\n",
    "\n",
    "v2II = Matrix([dx, dy, 0])\n",
    "w2II = Matrix([0]*3)\n",
    "\n",
    "v25I = hat(oI5)@RI5@w2II + RI5 @ v2II\n",
    "\n",
    "\n",
    "rt = Matrix([0, 0, rs])\n",
    "rt.cross(v22I) / (rt.T*rt)[0] # Checking derivation of wS2I"
   ]
  },
  {
   "cell_type": "code",
   "execution_count": 8,
   "id": "1123cf36",
   "metadata": {},
   "outputs": [],
   "source": [
    "wS2I = Matrix([-dy/rs, dx/rs, 0]) # Swapped the minus sign to match above derivation"
   ]
  },
  {
   "cell_type": "code",
   "execution_count": 9,
   "id": "a03c5cbf",
   "metadata": {},
   "outputs": [
    {
     "data": {
      "text/latex": [
       "$\\displaystyle \\left[\\begin{matrix}0.169 \\cos{\\left(\\phi_{y} \\right)}\\\\0\\\\0.169 \\sin{\\left(\\phi_{y} \\right)}\\end{matrix}\\right]$"
      ],
      "text/plain": [
       "⎡0.169⋅cos(φ_y)⎤\n",
       "⎢              ⎥\n",
       "⎢      0       ⎥\n",
       "⎢              ⎥\n",
       "⎣0.169⋅sin(φ_y)⎦"
      ]
     },
     "execution_count": 9,
     "metadata": {},
     "output_type": "execute_result"
    }
   ],
   "source": [
    "w433 = Matrix([0, 1, 0])\n",
    "w544 = Matrix([-1, 0, 0])\n",
    "\n",
    "R43 = Hinv(H34)[:3,:3]\n",
    "hat(w433) * R43*Matrix([0, 0, l])"
   ]
  },
  {
   "cell_type": "code",
   "execution_count": 10,
   "id": "bb71ce51",
   "metadata": {
    "scrolled": true
   },
   "outputs": [],
   "source": [
    "# Body Velocities\n",
    "T1II = Matrix([0, 0, 0, 1, 0, 0])\n",
    "T211 = Matrix([0, 0, 0, 0, 1, 0])\n",
    "T322 = Matrix([0, 0, 1, 0, 0, 0])\n",
    "T433 = Matrix([0, 1, 0, l, 0, 0])\n",
    "T544 = Matrix([-1, 0, 0, 0, l, 0]) # CHECK THIS LINE\n",
    "J = Matrix([[T1II, Ad(Hinv(HI1))@T211, Ad(Hinv(HI2))@T322, Ad(Hinv(HI3))@T433, Ad(Hinv(HI4))@T544]])\n",
    "\n",
    "qJdot = Matrix([dx, dy, dphiz, dphiy, dphix])\n",
    "\n",
    "T5II = J @ qJdot # Body Twist\n",
    "T55I = Ad(HI5) @ T5II"
   ]
  },
  {
   "cell_type": "code",
   "execution_count": 11,
   "id": "04847d60",
   "metadata": {
    "scrolled": true
   },
   "outputs": [],
   "source": [
    "# Omni Wheel Velocities\n",
    "# Wheel 1 is on the positive x axis, with the other second wheel at +120 degrees and the third wheel at +240 degrees\n",
    "\n",
    "H25 = H23 @ H34 @ H45\n",
    "R25 = H25[:3, :3]\n",
    "\n",
    "w55I = get_w @ T55I # angular velocity of Frame 5 wrt Frame I expressed in Frame 5\n",
    "\n",
    "wS55 = R25 @ wS2I - w55I # wS55 is the angular velocity of the ball with respect to the body frame\n",
    "\n",
    "rw1 = rs * Matrix([sin(alpha), 0, cos(alpha)])\n",
    "rw2 = rs * Matrix([-sin(alpha)/2, sqrt(3)/2*sin(alpha), cos(alpha)])\n",
    "rw3 = rs * Matrix([-sin(alpha)/2, -sqrt(3)/2*sin(alpha), cos(alpha)])\n",
    "\n",
    "half = Rational(1, 2)\n",
    "uw1 = Matrix([0, 1, 0])\n",
    "uw2 = Matrix([-sqrt(3)/2, -half, 0])\n",
    "uw3 = Matrix([sqrt(3)/2, -half, 0])\n",
    "\n",
    "sw1 = (hat(wS55)@rw1).T @ uw1 / rw\n",
    "sw2 = (hat(wS55)@rw2).T @ uw2 / rw\n",
    "sw3 = (hat(wS55)@rw3).T @ uw3 / rw"
   ]
  },
  {
   "cell_type": "code",
   "execution_count": 12,
   "id": "0eecc317",
   "metadata": {},
   "outputs": [],
   "source": [
    "# Ball Energies\n",
    "RI2 = HI2[:3, :3]\n",
    "H2I = Hinv(HI2)\n",
    "wSII = get_w @ Ad(H2I) @ Matrix([wS2I, v22I])\n",
    "Ts = T22I.T @ diag(Is, ms*I) @ T22I / 2 + wS2I.T@Is@wS2I / 2\n",
    "Vs = 0"
   ]
  },
  {
   "cell_type": "code",
   "execution_count": 13,
   "id": "f6a13dce",
   "metadata": {},
   "outputs": [],
   "source": [
    "# Body Energies\n",
    "R5I = Hinv(HI5)[:3, :3]\n",
    "Tb = T55I.T @ diag(Ib, ms*eye(3)) @ T55I / 2\n",
    "Vb = mb * Matrix([0,0,g]).T @ R5I @ Matrix([0, 0, l])"
   ]
  },
  {
   "cell_type": "code",
   "execution_count": 14,
   "id": "cd55fa49",
   "metadata": {},
   "outputs": [],
   "source": [
    "# Omniwheel Energies\n",
    "Tws = (Iow + Im*k**2)/2 * (sw1**2 + sw2**2 + sw3**2)\n",
    "Vws = 0"
   ]
  },
  {
   "cell_type": "code",
   "execution_count": 15,
   "id": "b1479527",
   "metadata": {},
   "outputs": [],
   "source": [
    "# Lagrangian\n",
    "L = Ts[0] + Tb[0] + Tws[0] - (Vs + Vb[0] + Vws)"
   ]
  },
  {
   "cell_type": "code",
   "execution_count": 16,
   "id": "23b23388",
   "metadata": {},
   "outputs": [],
   "source": [
    "# Torque Transformations\n",
    "jac = partial(Matrix([sw1, sw2, sw3]), dq) # from sw1, sw2, sw3\n",
    "T_ext = jac.T @ Matrix([T1, T2, T3])"
   ]
  },
  {
   "cell_type": "code",
   "execution_count": 17,
   "id": "f3d51734",
   "metadata": {},
   "outputs": [
    {
     "name": "stdout",
     "output_type": "stream",
     "text": [
      "Took 44.8 seconds\n"
     ]
    }
   ],
   "source": [
    "t0 = time()\n",
    "LM = LagrangesMethod(L, q)\n",
    "_ = LM.form_lagranges_equations()\n",
    "print(\"Took %.1f seconds\"%(time() - t0))"
   ]
  },
  {
   "cell_type": "code",
   "execution_count": null,
   "id": "c043e5f3",
   "metadata": {},
   "outputs": [],
   "source": []
  },
  {
   "cell_type": "markdown",
   "id": "84fef46c",
   "metadata": {},
   "source": [
    "# Linearization"
   ]
  },
  {
   "cell_type": "code",
   "execution_count": 100,
   "id": "528724b1",
   "metadata": {},
   "outputs": [],
   "source": [
    "xvar = Matrix([q, dq])\n",
    "u = Matrix([T1, T2, T3])\n",
    "\n",
    "xbar_slist = [(v, 0) for v in xvar] + [(v, 0) for v in u]"
   ]
  },
  {
   "cell_type": "code",
   "execution_count": 101,
   "id": "2391dcda",
   "metadata": {},
   "outputs": [],
   "source": [
    "Mlin = LM.mass_matrix.subs(xbar_slist)\n",
    "Mlin = np.array(Mlin, dtype=float).round(5)\n",
    "Minv = np.linalg.inv(Mlin).round(3)"
   ]
  },
  {
   "cell_type": "code",
   "execution_count": 108,
   "id": "68410406",
   "metadata": {},
   "outputs": [
    {
     "name": "stdout",
     "output_type": "stream",
     "text": [
      "Took 9.38 seconds\n"
     ]
    }
   ],
   "source": [
    "t0 = time()\n",
    "# dG = np.array(partial(LM.forcing, xvar).subs(xbar_slist).doit(), dtype=float).round(5)\n",
    "\n",
    "Glin_sp = -LM.forcing.subs([(v, 0) for v in (list(dq) + list(dq.diff(t)))])\n",
    "dG = np.array(partial(Glin_sp, xvar).subs(xbar_slist).doit(), dtype=float).round(3)\n",
    "\n",
    "print(\"Took %.2f seconds\" %(time()-t0))"
   ]
  },
  {
   "cell_type": "code",
   "execution_count": 21,
   "id": "ae122e52",
   "metadata": {},
   "outputs": [
    {
     "data": {
      "text/latex": [
       "$\\displaystyle \\left[\\begin{matrix}0.0077 \\ddot{\\phi}_{y} + 3.26408 \\ddot{x}\\\\0.0077 \\ddot{\\phi}_{x} + 3.26408 \\ddot{y}\\\\0.10877 \\ddot{\\phi}_{x} + 0.0077 \\ddot{y}\\\\0.10863 \\ddot{\\phi}_{y} + 0.0077 \\ddot{x}\\\\0.06396 \\ddot{\\phi}_{z}\\end{matrix}\\right] = \\left[\\begin{matrix}0\\\\0\\\\- 3.31 \\phi_{x}\\\\- 3.31 \\phi_{y}\\\\0\\end{matrix}\\right]$"
      ],
      "text/plain": [
       "⎡0.0077⋅φ_̈y + 3.26408⋅ẍ⎤   ⎡    0    ⎤\n",
       "⎢                      ⎥   ⎢         ⎥\n",
       "⎢0.0077⋅φₓ̈ + 3.26408⋅ÿ ⎥   ⎢    0    ⎥\n",
       "⎢                      ⎥   ⎢         ⎥\n",
       "⎢0.10877⋅φₓ̈ + 0.0077⋅ÿ ⎥ = ⎢-3.31⋅φₓ ⎥\n",
       "⎢                      ⎥   ⎢         ⎥\n",
       "⎢0.10863⋅φ_̈y + 0.0077⋅ẍ⎥   ⎢-3.31⋅φ_y⎥\n",
       "⎢                      ⎥   ⎢         ⎥\n",
       "⎣     0.06396⋅φ_̈z      ⎦   ⎣    0    ⎦"
      ]
     },
     "execution_count": 21,
     "metadata": {},
     "output_type": "execute_result"
    }
   ],
   "source": [
    "Eq(Mlin @ dq.diff(t), Matrix(dG.round(2))[:,:5] @ q)"
   ]
  },
  {
   "cell_type": "code",
   "execution_count": 110,
   "id": "43994941",
   "metadata": {},
   "outputs": [],
   "source": [
    "Abot = Minv @ -dG\n",
    "\n",
    "dT_ext = np.array(partial(T_ext, u).subs(xbar_slist).doit(), dtype=float).round(5)\n",
    "Bbot = Minv @ dT_ext"
   ]
  },
  {
   "cell_type": "code",
   "execution_count": 111,
   "id": "5fdd0c79",
   "metadata": {},
   "outputs": [
    {
     "data": {
      "text/latex": [
       "$\\displaystyle \\left( \\left[\\begin{matrix}0 & 0 & 0 & 0 & 0 & 1.0 & 0 & 0 & 0 & 0\\\\0 & 0 & 0 & 0 & 0 & 0 & 1.0 & 0 & 0 & 0\\\\0 & 0 & 0 & 0 & 0 & 0 & 0 & 1.0 & 0 & 0\\\\0 & 0 & 0 & 0 & 0 & 0 & 0 & 0 & 1.0 & 0\\\\0 & 0 & 0 & 0 & 0 & 0 & 0 & 0 & 0 & 1.0\\\\0 & 0 & 0 & -0.0729 & 0 & 0 & 0 & 0 & 0 & 0\\\\0 & 0 & -0.0729 & 0 & 0 & 0 & 0 & 0 & 0 & 0\\\\0 & 0 & 30.4538 & 0 & 0 & 0 & 0 & 0 & 0 & 0\\\\0 & 0 & 0 & 30.4936 & 0 & 0 & 0 & 0 & 0 & 0\\\\0 & 0 & 0 & 0 & 0 & 0 & 0 & 0 & 0 & 0\\end{matrix}\\right], \\  \\left[\\begin{matrix}0 & 0 & 0\\\\0 & 0 & 0\\\\0 & 0 & 0\\\\0 & 0 & 0\\\\0 & 0 & 0\\\\0 & -3.93952 & 3.93952\\\\4.54896 & -2.27448 & -2.27448\\\\-17.52692 & 8.76342 & 8.76342\\\\0 & 15.19822 & -15.19822\\\\-29.25137 & -29.25137 & -29.25137\\end{matrix}\\right]\\right)$"
      ],
      "text/plain": [
       "⎛⎡0  0     0        0     0  1.0   0    0    0    0 ⎤  ⎡    0          0      \n",
       "⎜⎢                                                  ⎥  ⎢                      \n",
       "⎜⎢0  0     0        0     0   0   1.0   0    0    0 ⎥  ⎢    0          0      \n",
       "⎜⎢                                                  ⎥  ⎢                      \n",
       "⎜⎢0  0     0        0     0   0    0   1.0   0    0 ⎥  ⎢    0          0      \n",
       "⎜⎢                                                  ⎥  ⎢                      \n",
       "⎜⎢0  0     0        0     0   0    0    0   1.0   0 ⎥  ⎢    0          0      \n",
       "⎜⎢                                                  ⎥  ⎢                      \n",
       "⎜⎢0  0     0        0     0   0    0    0    0   1.0⎥  ⎢    0          0      \n",
       "⎜⎢                                                  ⎥, ⎢                      \n",
       "⎜⎢0  0     0     -0.0729  0   0    0    0    0    0 ⎥  ⎢    0      -3.93952   \n",
       "⎜⎢                                                  ⎥  ⎢                      \n",
       "⎜⎢0  0  -0.0729     0     0   0    0    0    0    0 ⎥  ⎢ 4.54896   -2.27448   \n",
       "⎜⎢                                                  ⎥  ⎢                      \n",
       "⎜⎢0  0  30.4538     0     0   0    0    0    0    0 ⎥  ⎢-17.52692   8.76342   \n",
       "⎜⎢                                                  ⎥  ⎢                      \n",
       "⎜⎢0  0     0     30.4936  0   0    0    0    0    0 ⎥  ⎢    0      15.19822   \n",
       "⎜⎢                                                  ⎥  ⎢                      \n",
       "⎝⎣0  0     0        0     0   0    0    0    0    0 ⎦  ⎣-29.25137  -29.25137  \n",
       "\n",
       "    0    ⎤⎞\n",
       "         ⎥⎟\n",
       "    0    ⎥⎟\n",
       "         ⎥⎟\n",
       "    0    ⎥⎟\n",
       "         ⎥⎟\n",
       "    0    ⎥⎟\n",
       "         ⎥⎟\n",
       "    0    ⎥⎟\n",
       "         ⎥⎟\n",
       " 3.93952 ⎥⎟\n",
       "         ⎥⎟\n",
       "-2.27448 ⎥⎟\n",
       "         ⎥⎟\n",
       " 8.76342 ⎥⎟\n",
       "         ⎥⎟\n",
       "-15.19822⎥⎟\n",
       "         ⎥⎟\n",
       "-29.25137⎦⎠"
      ]
     },
     "execution_count": 111,
     "metadata": {},
     "output_type": "execute_result"
    }
   ],
   "source": [
    "A = np.vstack([np.hstack([np.zeros((5,5)), np.eye(5)]), Abot])\n",
    "B = np.vstack([np.zeros((5,3)), Bbot])\n",
    "\n",
    "Matrix(A.round(4)), Matrix(B.round(5))"
   ]
  },
  {
   "cell_type": "markdown",
   "id": "d7719915",
   "metadata": {},
   "source": [
    "# Kalman Filter and LQR"
   ]
  },
  {
   "cell_type": "code",
   "execution_count": 112,
   "id": "d90bd758",
   "metadata": {},
   "outputs": [],
   "source": [
    "import control\n",
    "from control.matlab import obsv"
   ]
  },
  {
   "cell_type": "code",
   "execution_count": 113,
   "id": "8e7ee650",
   "metadata": {},
   "outputs": [
    {
     "data": {
      "text/latex": [
       "$\\displaystyle \\left[\\begin{matrix}x & y & \\phi_{x} & \\phi_{y} & \\phi_{z} & \\dot{x} & \\dot{y} & \\dot{\\phi}_{x} & \\dot{\\phi}_{y} & \\dot{\\phi}_{z}\\end{matrix}\\right]$"
      ],
      "text/plain": [
       "[x  y  φₓ  φ_y  φ_z  ẋ  ẏ  φₓ̇  φ_̇y  φ_̇z]"
      ]
     },
     "execution_count": 113,
     "metadata": {},
     "output_type": "execute_result"
    }
   ],
   "source": [
    "xvar.T"
   ]
  },
  {
   "cell_type": "code",
   "execution_count": 114,
   "id": "0d050a26",
   "metadata": {},
   "outputs": [
    {
     "name": "stdout",
     "output_type": "stream",
     "text": [
      "Rank of obervability matrix is: 8\n",
      "Missing observations are x and y position (duh)\n"
     ]
    }
   ],
   "source": [
    "# Gyroscope measurements of angular rates\n",
    "C1 = np.hstack([np.zeros((3, 7)), np.eye(3)])\n",
    "# Wheel Speed Measurements: Linearized jacobian of wheel speed\n",
    "C2 = np.hstack([np.zeros((3,5)), np.array(jac.subs(xbar_slist), dtype=float)])\n",
    "# Gyroscope measurements of gravity vector. Does this need a D-matrix?\n",
    "C3 = np.hstack([np.zeros((3,2)), np.eye(3), np.zeros((3, 5))])\n",
    "C = np.vstack([C1, C2, C3])\n",
    "\n",
    "O = obsv(A, C)\n",
    "print(\"Rank of obervability matrix is:\", np.linalg.matrix_rank(O))\n",
    "print(\"Missing observations are x and y position (duh)\")"
   ]
  },
  {
   "cell_type": "code",
   "execution_count": 117,
   "id": "d43ad051",
   "metadata": {},
   "outputs": [],
   "source": [
    "# Kalman Filter:\n",
    "G = np.eye(8)\n",
    "Qn = np.diag([1, 1, 1, 2, 2, 2, 2, 2]) # System model noise\n",
    "Rn = np.diag([1, 1, 1, 2, 2, 2, 5, 5, 5]) * 10 # Sensor noise\n",
    "\n",
    "L_kf_small, _, E_kf = control.lqe(A[2:,2:], G, C[:,2:], Qn, Rn)\n",
    "L_kf = np.zeros((10, 9))\n",
    "L_kf[2:, :] = L_kf_small\n",
    "AK = A - L_kf @ C"
   ]
  },
  {
   "cell_type": "code",
   "execution_count": 119,
   "id": "fd7fce47",
   "metadata": {},
   "outputs": [],
   "source": [
    "max_pos_error = np.array([0.5, 0.5, np.deg2rad(10), np.deg2rad(10), np.pi])\n",
    "Q = np.diag(list(1/max_pos_error) + list(1/(max_pos_error*3)))**2\n",
    "R = np.diag([3.5]*3) * 1\n",
    "\n",
    "K_lqr, _, E_lqr = control.lqr(A, B, Q, R)"
   ]
  },
  {
   "cell_type": "code",
   "execution_count": 122,
   "id": "3789cde1",
   "metadata": {},
   "outputs": [
    {
     "data": {
      "text/latex": [
       "$\\displaystyle \\left[\\begin{matrix}0 & -0.8729 & -6.5628 & 0 & -0.0982 & 0 & -1.1355 & -1.3821 & 0 & -0.0575\\\\0.7559 & 0.4364 & 3.2814 & 5.6827 & -0.0982 & 0.9833 & 0.5678 & 0.6911 & 1.1963 & -0.0575\\\\-0.7559 & 0.4364 & 3.2814 & -5.6827 & -0.0982 & -0.9833 & 0.5678 & 0.6911 & -1.1963 & -0.0575\\end{matrix}\\right]$"
      ],
      "text/plain": [
       "⎡   0     -0.8729  -6.5628     0     -0.0982     0     -1.1355  -1.3821     0 \n",
       "⎢                                                                             \n",
       "⎢0.7559   0.4364   3.2814   5.6827   -0.0982  0.9833   0.5678   0.6911   1.196\n",
       "⎢                                                                             \n",
       "⎣-0.7559  0.4364   3.2814   -5.6827  -0.0982  -0.9833  0.5678   0.6911   -1.19\n",
       "\n",
       "    -0.0575⎤\n",
       "           ⎥\n",
       "3   -0.0575⎥\n",
       "           ⎥\n",
       "63  -0.0575⎦"
      ]
     },
     "execution_count": 122,
     "metadata": {},
     "output_type": "execute_result"
    }
   ],
   "source": [
    "Matrix(K_lqr.round(4))"
   ]
  },
  {
   "cell_type": "code",
   "execution_count": 140,
   "id": "1bfce69c",
   "metadata": {},
   "outputs": [],
   "source": [
    "K_str = \"float K[30] = \" + str(K_lqr.round(5).flatten().tolist()).replace('[', '{').replace(']', '}') + \";\"\n",
    "\n",
    "AKF_str = \"float AKF[100] = \" + str(AK.round(5).flatten().tolist()).replace('[', '{').replace(']', '}') + \";\"\n",
    "BKF_str = \"float BKF_bot[15] = \" + str(B[5:,:].round(5).flatten().tolist()).replace('[', '{').replace(']', '}') + \";\"\n",
    "LKF_str = \"float LKF[90] = \" + str(L_kf.round(5).flatten().tolist()).replace('[', '{').replace(']', '}') + \";\""
   ]
  },
  {
   "cell_type": "code",
   "execution_count": 141,
   "id": "21151dcc",
   "metadata": {},
   "outputs": [],
   "source": [
    "if True:\n",
    "\tnl = \"\\n\"\n",
    "\tfull_str = K_str + nl + AKF_str + nl + BKF_str + nl + LKF_str + \"\\n\"\n",
    "\twith open(\"mat_code.txt\", \"w\") as f:\n",
    "\t\tf.write(full_str)"
   ]
  },
  {
   "cell_type": "code",
   "execution_count": 123,
   "id": "5ce7db07",
   "metadata": {},
   "outputs": [
    {
     "data": {
      "text/latex": [
       "$\\displaystyle \\left[\\begin{matrix}0 & 0 & 0 & 0 & 0 & 1.0 & 0 & 0 & 0 & 0\\\\0 & 0 & 0 & 0 & 0 & 0 & 1.0 & 0 & 0 & 0\\\\0 & 0 & -0.04669 & 0 & 0 & 0 & 13.00869 & -1.87431 & 0 & 0\\\\0 & 0 & 0 & -0.04665 & 0 & 13.0096 & 0 & 0 & -1.87414 & 0\\\\0 & 0 & 0 & 0 & -0.22601 & 0 & 0 & 0 & 0 & 0.1694\\\\0 & 0 & 0 & -0.08791 & 0 & -1.41972 & 0 & 0 & -0.23864 & 0\\\\0 & 0 & -0.08792 & 0 & 0 & 0 & -1.42143 & -0.23838 & 0 & 0\\\\0 & 0 & 30.2094 & 0 & 0 & 0 & 69.70034 & -15.52235 & 0 & 0\\\\0 & 0 & 0 & 30.2492 & 0 & 69.75045 & 0 & 0 & -15.53149 & 0\\\\0 & 0 & 0 & 0 & -0.02658 & 0 & 0 & 0 & 0 & -1.10815\\end{matrix}\\right]$"
      ],
      "text/plain": [
       "⎡0  0     0         0         0        1.0        0          0          0     \n",
       "⎢                                                                             \n",
       "⎢0  0     0         0         0         0        1.0         0          0     \n",
       "⎢                                                                             \n",
       "⎢0  0  -0.04669     0         0         0      13.00869  -1.87431       0     \n",
       "⎢                                                                             \n",
       "⎢0  0     0      -0.04665     0      13.0096      0          0      -1.87414  \n",
       "⎢                                                                             \n",
       "⎢0  0     0         0      -0.22601     0         0          0          0     \n",
       "⎢                                                                             \n",
       "⎢0  0     0      -0.08791     0      -1.41972     0          0      -0.23864  \n",
       "⎢                                                                             \n",
       "⎢0  0  -0.08792     0         0         0      -1.42143  -0.23838       0     \n",
       "⎢                                                                             \n",
       "⎢0  0  30.2094      0         0         0      69.70034  -15.52235      0     \n",
       "⎢                                                                             \n",
       "⎢0  0     0      30.2492      0      69.75045     0          0      -15.53149 \n",
       "⎢                                                                             \n",
       "⎣0  0     0         0      -0.02658     0         0          0          0     \n",
       "\n",
       "    0    ⎤\n",
       "         ⎥\n",
       "    0    ⎥\n",
       "         ⎥\n",
       "    0    ⎥\n",
       "         ⎥\n",
       "    0    ⎥\n",
       "         ⎥\n",
       "  0.1694 ⎥\n",
       "         ⎥\n",
       "    0    ⎥\n",
       "         ⎥\n",
       "    0    ⎥\n",
       "         ⎥\n",
       "    0    ⎥\n",
       "         ⎥\n",
       "    0    ⎥\n",
       "         ⎥\n",
       " -1.10815⎦"
      ]
     },
     "execution_count": 123,
     "metadata": {},
     "output_type": "execute_result"
    }
   ],
   "source": [
    "Matrix(AK.round(5))"
   ]
  },
  {
   "cell_type": "code",
   "execution_count": 58,
   "id": "088bda73",
   "metadata": {},
   "outputs": [
    {
     "data": {
      "text/plain": [
       "array([ 0.16,  0.22,  0.  ,  0.  , -0.02,  0.  ,  0.  ,  0.01,  0.01,\n",
       "        0.  ])"
      ]
     },
     "execution_count": 58,
     "metadata": {},
     "output_type": "execute_result"
    }
   ],
   "source": [
    "s = \"225883,0.16,0.22,0.00,0.00,-0.02,0.00,0.00,0.01,0.01,0.00,0.03,0.02,-0.00,0.00,0.00,0.00,-0.04,-0.00,-0.14,0.20,-0.22,0.03\"\n",
    "v = np.array([float(x) for x in s.split(\",\")])\n",
    "xhat_est = v[1:11]\n",
    "y_est = v[11:20]\n",
    "u_est = v[20:23]\n",
    "xhat_est"
   ]
  },
  {
   "cell_type": "code",
   "execution_count": 124,
   "id": "65e44d89",
   "metadata": {},
   "outputs": [
    {
     "data": {
      "text/plain": [
       "array([-6.56276865,  3.28136852,  3.28136852])"
      ]
     },
     "execution_count": 124,
     "metadata": {},
     "output_type": "execute_result"
    }
   ],
   "source": [
    "utest = np.array(K_lqr) @ np.array([0, 0,   1, 0, 0,      0, 0,   0, 0, 0])\n",
    "utest"
   ]
  },
  {
   "cell_type": "code",
   "execution_count": 130,
   "id": "82bf9c8a",
   "metadata": {},
   "outputs": [
    {
     "data": {
      "text/latex": [
       "$\\displaystyle \\left[\\begin{matrix}0 & 0 & 0 & 0 & 0 & -0.0729 & -44.8535 & 202.991 & 30.4936 & 0.0009\\end{matrix}\\right]$"
      ],
      "text/plain": [
       "[0  0  0  0  0  -0.0729  -44.8535  202.991  30.4936  0.0009]"
      ]
     },
     "execution_count": 130,
     "metadata": {},
     "output_type": "execute_result"
    }
   ],
   "source": [
    "Matrix((A @ np.array([0, 0,   1, 1, 1,      0, 0,   0, 0, 0]) + B @ utest).round(4)).T"
   ]
  },
  {
   "cell_type": "code",
   "execution_count": 131,
   "id": "2c18ebb0",
   "metadata": {},
   "outputs": [
    {
     "data": {
      "text/latex": [
       "$\\displaystyle \\left[\\begin{matrix}0 & 0 & 0\\\\0 & 0 & 0\\\\0 & 0 & 0\\\\0 & 0 & 0\\\\0 & 0 & 0\\\\0 & -3.93952 & 3.93952\\\\4.54896 & -2.27448 & -2.27448\\\\-17.52692 & 8.76342 & 8.76342\\\\0 & 15.19822 & -15.19822\\\\-29.25137 & -29.25137 & -29.25137\\end{matrix}\\right]$"
      ],
      "text/plain": [
       "⎡    0          0          0    ⎤\n",
       "⎢                               ⎥\n",
       "⎢    0          0          0    ⎥\n",
       "⎢                               ⎥\n",
       "⎢    0          0          0    ⎥\n",
       "⎢                               ⎥\n",
       "⎢    0          0          0    ⎥\n",
       "⎢                               ⎥\n",
       "⎢    0          0          0    ⎥\n",
       "⎢                               ⎥\n",
       "⎢    0      -3.93952    3.93952 ⎥\n",
       "⎢                               ⎥\n",
       "⎢ 4.54896   -2.27448   -2.27448 ⎥\n",
       "⎢                               ⎥\n",
       "⎢-17.52692   8.76342    8.76342 ⎥\n",
       "⎢                               ⎥\n",
       "⎢    0      15.19822   -15.19822⎥\n",
       "⎢                               ⎥\n",
       "⎣-29.25137  -29.25137  -29.25137⎦"
      ]
     },
     "execution_count": 131,
     "metadata": {},
     "output_type": "execute_result"
    }
   ],
   "source": [
    "Matrix(B.round(5))"
   ]
  },
  {
   "cell_type": "markdown",
   "id": "b951de8a",
   "metadata": {},
   "source": [
    "# Simulation Testing"
   ]
  },
  {
   "cell_type": "code",
   "execution_count": 132,
   "id": "5044f20c",
   "metadata": {},
   "outputs": [],
   "source": [
    "import random\n",
    "import matplotlib.pyplot as plt"
   ]
  },
  {
   "cell_type": "code",
   "execution_count": 138,
   "id": "71b7dada",
   "metadata": {},
   "outputs": [],
   "source": [
    "xhat = np.zeros(10)\n",
    "tprev = 0\n",
    "L_kf2 =  np.array(L_kf)\n",
    "K_lqr2 = -np.array(K_lqr)\n",
    "def feedback(t, y, uprev):\n",
    "\tglobal xhat\n",
    "\tglobal tprev\n",
    "\txhat += (t - tprev) * (AK @ xhat + B @ uprev + L_kf2 @ y)\n",
    "\ttprev = t\n",
    "\treturn K_lqr2 @ xhat, xhat\n",
    "\n",
    "# Simulation\n",
    "ts = []\n",
    "xs = []\n",
    "xhats = []\n",
    "us = []\n",
    "\n",
    "system_noise = 0.05\n",
    "sensor_noise = 0.05\n",
    "noise = False\n",
    "\n",
    "start_angle = np.deg2rad(15)\n",
    "\n",
    "t = 0\n",
    "dt = 0.001\n",
    "# x = np.array([0, 0, start_angle, start_angle, start_angle, 0, 0, 0, 0, 0])\n",
    "x = np.array([0, 0,   1.0, 0, 0,      0, 0,   0, 0, 0])\n",
    "u = np.zeros(3)\n",
    "while t < 10 and 0.01 <= np.linalg.norm(x) <= 100:\n",
    "\tif noise:\n",
    "\t\tv = np.random.multivariate_normal([0]*10, np.diag([system_noise]*10))\n",
    "\t\tw = np.random.multivariate_normal([0]*9, np.diag([sensor_noise]*9))\n",
    "\telse:\n",
    "\t\tv = w = 0\n",
    "\t\t\n",
    "\tu, xhat = feedback(t, C @ x + w, u)\n",
    "\tdx = A @ x + B @ u\n",
    "\n",
    "\tx += dt * (dx + v)\n",
    "\tt += dt\n",
    "\n",
    "\tts.append(t)\n",
    "\txs.append(x.copy())\n",
    "\txhats.append(xhat.copy())\n",
    "\tus.append(u.copy())\n",
    "\n",
    "ts = np.array(ts)\n",
    "xs = np.array(xs)\n",
    "xhats = np.array(xhats)\n",
    "us = np.array(us)"
   ]
  },
  {
   "cell_type": "code",
   "execution_count": 139,
   "id": "0f082306",
   "metadata": {},
   "outputs": [
    {
     "data": {
      "image/png": "[encoded data removed]",
      "text/plain": [
       "<Figure size 640x480 with 1 Axes>"
      ]
     },
     "metadata": {},
     "output_type": "display_data"
    },
    {
     "data": {
      "image/png": "[encoded data removed]",
      "text/plain": [
       "<Figure size 640x480 with 1 Axes>"
      ]
     },
     "metadata": {},
     "output_type": "display_data"
    },
    {
     "data": {
      "image/png": "[encoded data removed]",
      "text/plain": [
       "<Figure size 640x480 with 1 Axes>"
      ]
     },
     "metadata": {},
     "output_type": "display_data"
    },
    {
     "data": {
      "image/png": "[encoded data removed]",
      "text/plain": [
       "<Figure size 640x480 with 1 Axes>"
      ]
     },
     "metadata": {},
     "output_type": "display_data"
    }
   ],
   "source": [
    "plt.title(\"State of system\")\n",
    "plt.plot(ts, xs[:,0], label=\"x\")\n",
    "plt.plot(ts, xs[:,1], label=\"y\")\n",
    "plt.plot(ts, xs[:,2], label=\"phix\")\n",
    "plt.plot(ts, xs[:,3], label=\"phiy\")\n",
    "plt.plot(ts, xs[:,4], label=\"phiz\")\n",
    "plt.legend()\n",
    "plt.show()\n",
    "\n",
    "plt.title(\"Velocity of system\")\n",
    "plt.plot(ts, xs[:,5], label=\"dx\")\n",
    "plt.plot(ts, xs[:,6], label=\"dy\")\n",
    "plt.plot(ts, xs[:,7], label=\"dphix\")\n",
    "plt.plot(ts, xs[:,8], label=\"dphiy\")\n",
    "plt.plot(ts, xs[:,9], label=\"dphiz\")\n",
    "plt.legend()\n",
    "plt.show()\n",
    "\n",
    "plt.title(\"Error of State Estimator of system\")\n",
    "plt.plot(ts, xhats[:,0] - xs[:,0], label=\"x\")\n",
    "plt.plot(ts, xhats[:,1] - xs[:,1], label=\"y\")\n",
    "plt.plot(ts, xhats[:,2] - xs[:,2], label=\"phix\")\n",
    "plt.plot(ts, xhats[:,3] - xs[:,3], label=\"phiy\")\n",
    "plt.plot(ts, xhats[:,4] - xs[:,4], label=\"phiz\")\n",
    "plt.legend()\n",
    "plt.show()\n",
    "\n",
    "plt.title(\"Control Input (Torque)\")\n",
    "plt.plot(ts, us[:,0], label=\"u0\")\n",
    "plt.plot(ts, us[:,1], label=\"u1\")\n",
    "plt.plot(ts, us[:,2], label=\"u2\")\n",
    "plt.legend()\n",
    "plt.show()"
   ]
  },
  {
   "cell_type": "code",
   "execution_count": null,
   "id": "45f1f47b",
   "metadata": {},
   "outputs": [],
   "source": []
  },
  {
   "cell_type": "code",
   "execution_count": null,
   "id": "f1d8292b",
   "metadata": {},
   "outputs": [],
   "source": []
  }
 ],
 "metadata": {
  "kernelspec": {
   "display_name": "Python 3 (ipykernel)",
   "language": "python",
   "name": "python3"
  },
  "language_info": {
   "codemirror_mode": {
    "name": "ipython",
    "version": 3
   },
   "file_extension": ".py",
   "mimetype": "text/x-python",
   "name": "python",
   "nbconvert_exporter": "python",
   "pygments_lexer": "ipython3",
   "version": "3.10.6"
  },
  "vscode": {
   "interpreter": {
    "hash": "e7370f93d1d0cde622a1f8e1c04877d8463912d04d973331ad4851f04de6915a"
   }
  }
 },
 "nbformat": 4,
 "nbformat_minor": 5
}
