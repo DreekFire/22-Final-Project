{
 "cells": [
  {
   "cell_type": "markdown",
   "id": "ae68f2dc",
   "metadata": {},
   "source": [
    "https://essay.utwente.nl/65559/1/vanderBlonk_MSc_EEMCS.pdf#page55"
   ]
  },
  {
   "cell_type": "code",
   "execution_count": 1,
   "id": "9c26d4b7",
   "metadata": {},
   "outputs": [],
   "source": [
    "from sympy import *\n",
    "from sympy.physics.mechanics import dynamicsymbols, init_vprinting, LagrangesMethod, Lagrangian\n",
    "from sympy.physics import mechanics\n",
    "init_vprinting()\n",
    "\n",
    "import numpy as np\n",
    "import math\n",
    "from time import time, sleep"
   ]
  },
  {
   "cell_type": "code",
   "execution_count": 2,
   "id": "85fb1357",
   "metadata": {},
   "outputs": [],
   "source": [
    "def hat(v):\n",
    "    a, b, c = v\n",
    "    return Matrix([[0, -c, b], [c, 0, -a], [-b, a, 0]])\n",
    "\n",
    "def Ad(H):\n",
    "    R = H[:3, :3]\n",
    "    o = H[:3, 3]\n",
    "    Z = zeros(3)\n",
    "    ans = [[R, Z], [hat(o) @ R, R]]\n",
    "    return Matrix(ans)\n",
    "\n",
    "def Hinv(H):\n",
    "    R = H[:3, :3]\n",
    "    p = H[:3, 3]\n",
    "    z = Matrix(np.zeros((1, 3)))\n",
    "    return Matrix([[R.T, -R.T @ p], [z, Matrix([1])]])\n",
    "\n",
    "def jacobian(v, dq):\n",
    "    n = len(v)\n",
    "    m = len(dq)\n",
    "    ans = np.zeros((n, m), dtype=object)\n",
    "    \n",
    "    zeros_slist = [(var, 0) for var in dq]\n",
    "    for i in range(n):\n",
    "        for j in range(m):\n",
    "            ans[i, j] = v[i].subs(dq[j], 1).subs(zeros_slist)\n",
    "    return Matrix(ans)\n",
    "\n",
    "def partial(arg, x):\n",
    "    lst = []\n",
    "    for v in x:\n",
    "        lst.append(arg.diff(v))\n",
    "    return Matrix([lst])"
   ]
  },
  {
   "cell_type": "code",
   "execution_count": 3,
   "id": "eed9c41f",
   "metadata": {},
   "outputs": [],
   "source": [
    "Z = Matrix(np.zeros((3,3)))\n",
    "I = eye(3)\n",
    "get_w = Matrix([[I, Z]])\n",
    "get_v = Matrix([[Z, I]])"
   ]
  },
  {
   "cell_type": "code",
   "execution_count": 4,
   "id": "a499662a",
   "metadata": {},
   "outputs": [],
   "source": [
    "# Variables\n",
    "q = Matrix(dynamicsymbols(\"x y phi_x phi_y phi_z\"))\n",
    "t = symbols(\"t\")\n",
    "x, y, phix, phiy, phiz = q\n",
    "dq = q.diff(t)\n",
    "dx, dy, dphix, dphiy, dphiz = dq\n",
    "T1, T2, T3 = symbols(\"Tau_1:4\")\n",
    "\n",
    "if False:\n",
    "    # Parameters\n",
    "    l, mb, mh = symbols(\"l m_b m_h\")\n",
    "    rb, rw = symbols(\"r_b r_w\")\n",
    "    g = symbols('g')\n",
    "    alpha = symbols(\"alpha\") # Angle of the omhiwheel point of contact from vertical (45 degrees)\n",
    "    Ih = diag(*symbols(\"I_xx I_yy I_zz\"))\n",
    "    Iow, Im, k = symbols(\"I_ow I_m k\")\n",
    "    \n",
    "    # Moment of Inertia (placeholder)\n",
    "    Ib = diag(*([mb*rb**2]*3))\n",
    "    \n",
    "else:\n",
    "#     l = 0.169                      # Distance from ball COM to hat COM (m)\n",
    "#     mb = 0.624                     # Mass of ball (kg)\n",
    "#     mh = 2                         # Mass of hat (kg)\n",
    "#     rb = 0.254 / 2                 # Radius of ball (m)\n",
    "#     rw = 0.096/2                   # Radius of wheel (m)\n",
    "#     g = 9.8                        # m/s^2\n",
    "#     alpha = rad(45)                # Angle of omniwheel axis from the horizontal plane (rad)\n",
    "#     Ih = diag(1.167e-2, 1.153e-2, 1.234e-2) # Inertia tensor of the hat kg m^2\n",
    "#     Iow = 1/2*(96e-3)*rw**2        # Inertia of the wheel (scalar) kg m^2\n",
    "#     Im = 1/2*(0.2)*(32e-3 / 2)**2  # Inertia of the motor winding (scalar) kg m^2 (very rough estimate)\n",
    "#     k = 13.7                       # Gear ratio of the motor\n",
    "    \n",
    "    \n",
    "    # Paper Parameters\n",
    "    ms = 3.2\n",
    "    mow = 0.555\n",
    "    mgh = 0.16\n",
    "    mm = 0.24\n",
    "    rs = 0.115\n",
    "    wb = 0.2\n",
    "    h = 0.8\n",
    "    h1 = 0.66\n",
    "    h2 = 0.14\n",
    "    Is = diag(*([2.65e-2]*3))\n",
    "    Im = 2.42e-6\n",
    "    Iow = 6.94e-5\n",
    "    l = 0.405\n",
    "    g = 9.81\n",
    "    alpha = math.radians(45)\n",
    "    beta = 0\n",
    "    \n",
    "    mb = 10\n",
    "    mb1 = 6.2\n",
    "    mb2 = 0.935\n",
    "    mb2tot = 3.8\n",
    "    rw = 0.050\n",
    "    Ib = diag(8.76e-1, 8.76e-1, 6.67e-2)\n",
    "    \n",
    "    # Not specified\n",
    "    k=10"
   ]
  },
  {
   "cell_type": "code",
   "execution_count": 11,
   "id": "7d1724db",
   "metadata": {},
   "outputs": [],
   "source": [
    "# Coordinate Transformations\n",
    "# Frame I: Innertial frame\n",
    "# Frame 2: Origin at center of the ball\n",
    "# Frame 5: Origin at COM of the robot body with axes aligned to the robot\n",
    "HI1 = Matrix([[1, 0, 0, -x],[0, 1, 0, 0], [0, 0, 1, 0], [0, 0, 0, 1]])\n",
    "H12 = Matrix([[1, 0, 0, 0], [0, 1, 0, -y], [0, 0, 1, 0], [0, 0, 0, 1]])\n",
    "H23 = Matrix([[cos(phiz), sin(phiz), 0, 0], [-sin(phiz), cos(phiz), 0, 0], [0, 0, 1, 0], [0, 0, 0, 1]])\n",
    "H34 = Matrix([[cos(phiy), 0, sin(phiy), 0], [0, 1, 0, 0], [-sin(phiy), 0, cos(phiy), 0], [0, 0, 0, 1]])\n",
    "H45 = Matrix([[1, 0, 0, 0], [0, cos(phix), -sin(phix), 0], [0, sin(phix), cos(phix), -l], [0, 0, 0, 1]])\n",
    "\n",
    "# Trig Simplifications\n",
    "# HI1 = Matrix([[1, 0, 0, -x],[0, 1, 0, 0], [0, 0, 1, 0], [0, 0, 0, 1]])\n",
    "# H12 = Matrix([[1, 0, 0, 0], [0, 1, 0, -y], [0, 0, 1, 0], [0, 0, 0, 1]])\n",
    "# H23 = Matrix([[1, phiz, 0, 0], [-phiz, 1, 0, 0], [0, 0, 1, 0], [0, 0, 0, 1]])\n",
    "# H34 = Matrix([[1, 0, phiy, 0], [0, 1, 0, 0], [-phiy, 0, 1, 0], [0, 0, 0, 1]])\n",
    "# H45 = Matrix([[1, 0, 0, 0], [0, 1, -phix, 0], [0, phix, 1, -l], [0, 0, 0, 1]])\n",
    "\n",
    "\n",
    "HI2 = HI1 @ H12\n",
    "HI3 = HI2 @ H23\n",
    "HI4 = HI3 @ H34\n",
    "HI5 = HI4 @ H45"
   ]
  },
  {
   "cell_type": "code",
   "execution_count": 12,
   "id": "08d8c134",
   "metadata": {
    "scrolled": true
   },
   "outputs": [
    {
     "data": {
      "text/latex": [
       "$\\displaystyle \\left[\\begin{matrix}0\\\\0\\\\0\\\\\\left(\\sin{\\left(\\phi_{x} \\right)} \\sin{\\left(\\phi_{y} \\right)} \\cos{\\left(\\phi_{z} \\right)} + \\sin{\\left(\\phi_{z} \\right)} \\cos{\\left(\\phi_{x} \\right)}\\right) \\dot{y} + \\cos{\\left(\\phi_{y} \\right)} \\cos{\\left(\\phi_{z} \\right)} \\dot{x}\\\\\\left(- \\sin{\\left(\\phi_{x} \\right)} \\sin{\\left(\\phi_{y} \\right)} \\sin{\\left(\\phi_{z} \\right)} + \\cos{\\left(\\phi_{x} \\right)} \\cos{\\left(\\phi_{z} \\right)}\\right) \\dot{y} - \\sin{\\left(\\phi_{z} \\right)} \\cos{\\left(\\phi_{y} \\right)} \\dot{x}\\\\\\sin{\\left(\\phi_{x} \\right)} \\cos{\\left(\\phi_{y} \\right)} \\dot{y} - \\sin{\\left(\\phi_{y} \\right)} \\dot{x}\\end{matrix}\\right]$"
      ],
      "text/plain": [
       "⎡                                   0                                   ⎤\n",
       "⎢                                                                       ⎥\n",
       "⎢                                   0                                   ⎥\n",
       "⎢                                                                       ⎥\n",
       "⎢                                   0                                   ⎥\n",
       "⎢                                                                       ⎥\n",
       "⎢(sin(φₓ)⋅sin(φ_y)⋅cos(φ_z) + sin(φ_z)⋅cos(φₓ))⋅ẏ + cos(φ_y)⋅cos(φ_z)⋅ẋ ⎥\n",
       "⎢                                                                       ⎥\n",
       "⎢(-sin(φₓ)⋅sin(φ_y)⋅sin(φ_z) + cos(φₓ)⋅cos(φ_z))⋅ẏ - sin(φ_z)⋅cos(φ_y)⋅ẋ⎥\n",
       "⎢                                                                       ⎥\n",
       "⎣                    sin(φₓ)⋅cos(φ_y)⋅ẏ - sin(φ_y)⋅ẋ                    ⎦"
      ]
     },
     "execution_count": 12,
     "metadata": {},
     "output_type": "execute_result"
    }
   ],
   "source": [
    "T2II = Matrix([0, 0, 0, dx, dy, 0])\n",
    "T22I = Ad(HI2) @ T2II\n",
    "\n",
    "v22I = get_v @ T22I\n",
    "\n",
    "T25I = Ad(HI5) @ T2II\n",
    "T25I"
   ]
  },
  {
   "cell_type": "code",
   "execution_count": 13,
   "id": "1123cf36",
   "metadata": {},
   "outputs": [],
   "source": [
    "wS2I = Matrix([dy/rs, -dx/rs, 0])"
   ]
  },
  {
   "cell_type": "code",
   "execution_count": 63,
   "id": "bb71ce51",
   "metadata": {
    "scrolled": true
   },
   "outputs": [],
   "source": [
    "# Body Velocities\n",
    "T1II = Matrix([0, 0, 0, 1, 0, 0])\n",
    "T211 = Matrix([0, 0, 0, 0, 1, 0])\n",
    "T322 = Matrix([0, 0, 1, 0, 0, 0])\n",
    "T433 = Matrix([0, 1, 0, l, 0, 0])\n",
    "T544 = Matrix([-1, 0, 0, 0, l, 0])\n",
    "J = Matrix([[T1II, Ad(Hinv(HI1))@T211, Ad(Hinv(HI2))@T322, Ad(Hinv(HI3))@T433, Ad(Hinv(HI4))@T544]])\n",
    "\n",
    "qJdot = Matrix([dx, dy, dphiz, dphiy, dphix])\n",
    "\n",
    "T5II = J @ qJdot # Body Twist\n",
    "T55I = Ad(HI5) @ T5II"
   ]
  },
  {
   "cell_type": "code",
   "execution_count": 68,
   "id": "2d3ea5ba",
   "metadata": {},
   "outputs": [
    {
     "data": {
      "text/latex": [
       "$\\displaystyle \\left[\\begin{matrix}- \\sin{\\left(\\phi_{z} \\right)} \\dot{\\phi}_{y} + \\cos{\\left(\\phi_{y} \\right)} \\cos{\\left(\\phi_{z} \\right)} \\dot{\\phi}_{x}\\\\\\sin{\\left(\\phi_{z} \\right)} \\dot{\\phi}_{x} + \\cos{\\left(\\phi_{z} \\right)} \\dot{\\phi}_{y}\\\\\\sin{\\left(\\phi_{y} \\right)} \\cos{\\left(\\phi_{z} \\right)} \\dot{\\phi}_{x} + \\dot{\\phi}_{z}\\\\\\left(\\left(x \\sin{\\left(\\phi_{z} \\right)} + y \\cos{\\left(\\phi_{z} \\right)}\\right) \\sin{\\left(\\phi_{y} \\right)} \\cos{\\left(\\phi_{z} \\right)} + \\left(- x \\sin{\\left(\\phi_{y} \\right)} \\cos{\\left(\\phi_{z} \\right)} + y \\sin{\\left(\\phi_{y} \\right)} \\sin{\\left(\\phi_{z} \\right)}\\right) \\sin{\\left(\\phi_{z} \\right)} - 0.405 \\sin{\\left(\\phi_{z} \\right)} \\cos{\\left(\\phi_{y} \\right)}\\right) \\dot{\\phi}_{x} + y \\dot{\\phi}_{z} + 0.405 \\cos{\\left(\\phi_{z} \\right)} \\dot{\\phi}_{y} + \\dot{x}\\\\\\left(\\left(x \\sin{\\left(\\phi_{y} \\right)} \\cos{\\left(\\phi_{z} \\right)} - y \\sin{\\left(\\phi_{y} \\right)} \\sin{\\left(\\phi_{z} \\right)}\\right) \\cos{\\left(\\phi_{y} \\right)} \\cos{\\left(\\phi_{z} \\right)} + \\left(- x \\cos{\\left(\\phi_{y} \\right)} \\cos{\\left(\\phi_{z} \\right)} + y \\sin{\\left(\\phi_{z} \\right)} \\cos{\\left(\\phi_{y} \\right)}\\right) \\sin{\\left(\\phi_{y} \\right)} \\cos{\\left(\\phi_{z} \\right)} + 0.405 \\cos{\\left(\\phi_{z} \\right)}\\right) \\dot{\\phi}_{x} - x \\dot{\\phi}_{z} + 0.405 \\sin{\\left(\\phi_{z} \\right)} \\dot{\\phi}_{y} + \\dot{y}\\\\\\left(- \\left(- x \\sin{\\left(\\phi_{z} \\right)} - y \\cos{\\left(\\phi_{z} \\right)}\\right) \\sin{\\left(\\phi_{z} \\right)} + \\left(x \\cos{\\left(\\phi_{z} \\right)} - y \\sin{\\left(\\phi_{z} \\right)}\\right) \\cos{\\left(\\phi_{z} \\right)}\\right) \\dot{\\phi}_{y} + \\left(\\left(- x \\sin{\\left(\\phi_{z} \\right)} - y \\cos{\\left(\\phi_{z} \\right)}\\right) \\cos{\\left(\\phi_{y} \\right)} \\cos{\\left(\\phi_{z} \\right)} + \\left(x \\cos{\\left(\\phi_{y} \\right)} \\cos{\\left(\\phi_{z} \\right)} - y \\sin{\\left(\\phi_{z} \\right)} \\cos{\\left(\\phi_{y} \\right)}\\right) \\sin{\\left(\\phi_{z} \\right)} - 0.405 \\sin{\\left(\\phi_{y} \\right)} \\sin{\\left(\\phi_{z} \\right)}\\right) \\dot{\\phi}_{x}\\end{matrix}\\right]$"
      ],
      "text/plain": [
       "⎡                                                                                        -sin(φ_z)\n",
       "⎢                                                                                                 \n",
       "⎢                                                                                             sin(\n",
       "⎢                                                                                                 \n",
       "⎢                                                                                             sin(\n",
       "⎢                                                                                                 \n",
       "⎢                        ((x⋅sin(φ_z) + y⋅cos(φ_z))⋅sin(φ_y)⋅cos(φ_z) + (-x⋅sin(φ_y)⋅cos(φ_z) + y⋅\n",
       "⎢                                                                                                 \n",
       "⎢               ((x⋅sin(φ_y)⋅cos(φ_z) - y⋅sin(φ_y)⋅sin(φ_z))⋅cos(φ_y)⋅cos(φ_z) + (-x⋅cos(φ_y)⋅cos(\n",
       "⎢                                                                                                 \n",
       "⎣(-(-x⋅sin(φ_z) - y⋅cos(φ_z))⋅sin(φ_z) + (x⋅cos(φ_z) - y⋅sin(φ_z))⋅cos(φ_z))⋅φ_̇y + ((-x⋅sin(φ_z) \n",
       "\n",
       "⋅φ_̇y + cos(φ_y)⋅cos(φ_z)⋅φₓ̇                                                                     \n",
       "                                                                                                  \n",
       "φ_z)⋅φₓ̇ + cos(φ_z)⋅φ_̇y                                                                          \n",
       "                                                                                                  \n",
       "φ_y)⋅cos(φ_z)⋅φₓ̇ + φ_̇z                                                                          \n",
       "                                                                                                  \n",
       "sin(φ_y)⋅sin(φ_z))⋅sin(φ_z) - 0.405⋅sin(φ_z)⋅cos(φ_y))⋅φₓ̇ + y⋅φ_̇z + 0.405⋅cos(φ_z)⋅φ_̇y + ẋ    \n",
       "                                                                                                  \n",
       "φ_z) + y⋅sin(φ_z)⋅cos(φ_y))⋅sin(φ_y)⋅cos(φ_z) + 0.405⋅cos(φ_z))⋅φₓ̇ - x⋅φ_̇z + 0.405⋅sin(φ_z)⋅φ_̇y\n",
       "                                                                                                  \n",
       "- y⋅cos(φ_z))⋅cos(φ_y)⋅cos(φ_z) + (x⋅cos(φ_y)⋅cos(φ_z) - y⋅sin(φ_z)⋅cos(φ_y))⋅sin(φ_z) - 0.405⋅sin\n",
       "\n",
       "                   ⎤\n",
       "                 ⎥\n",
       "                   ⎥\n",
       "                 ⎥\n",
       "                   ⎥\n",
       "                 ⎥\n",
       "                     ⎥\n",
       "                 ⎥\n",
       " + ẏ                ⎥\n",
       "                 ⎥\n",
       "(φ_y)⋅sin(φ_z))⋅φₓ̇⎦"
      ]
     },
     "execution_count": 68,
     "metadata": {},
     "output_type": "execute_result"
    }
   ],
   "source": [
    "T5II"
   ]
  },
  {
   "cell_type": "code",
   "execution_count": 69,
   "id": "04847d60",
   "metadata": {
    "scrolled": true
   },
   "outputs": [],
   "source": [
    "# Omni Wheel Velocities\n",
    "# Wheel 1 is on the positive x axis, with the other second wheel at +120 degrees and the third wheel at +240 degrees\n",
    "\n",
    "H25 = H23 @ H34 @ H45\n",
    "R25 = H25[:3, :3]\n",
    "\n",
    "w55I = get_w @ T55I # angular velocity of Frame 5 wrt Frame I expressed in Frame 5\n",
    "\n",
    "wS55 = R25 @ wS2I - w55I # wS55 is the angular velocity of the ball with respect to the body frame\n",
    "\n",
    "rw1 = rs * Matrix([sin(alpha), 0, cos(alpha)])\n",
    "rw2 = rs * Matrix([-sin(alpha)/2, sqrt(3)/2*sin(alpha), cos(alpha)])\n",
    "rw3 = rs * Matrix([-sin(alpha)/2, -sqrt(3)/2*sin(alpha), cos(alpha)])\n",
    "\n",
    "half = Rational(1, 2)\n",
    "uw1 = Matrix([0, 1, 0])\n",
    "uw2 = Matrix([-sqrt(3)/2, -half, 0])\n",
    "uw3 = Matrix([sqrt(3)/2, -half, 0])\n",
    "\n",
    "sw1 = (hat(wS55)@rw1).T @ uw1 / rw\n",
    "sw2 = (hat(wS55)@rw2).T @ uw2 / rw\n",
    "sw3 = (hat(wS55)@rw3).T @ uw3 / rw"
   ]
  },
  {
   "cell_type": "code",
   "execution_count": 70,
   "id": "0eecc317",
   "metadata": {},
   "outputs": [],
   "source": [
    "# Ball Energies\n",
    "RI2 = HI2[:3, :3]\n",
    "H2I = Hinv(HI2)\n",
    "wSII = get_w @ Ad(H2I) @ Matrix([wS2I, v22I])\n",
    "Ts = T22I.T @ diag(Is, ms*I) @ T22I / 2 + wS2I.T@Is@wS2I / 2\n",
    "Vs = 0"
   ]
  },
  {
   "cell_type": "code",
   "execution_count": 71,
   "id": "f6a13dce",
   "metadata": {},
   "outputs": [],
   "source": [
    "# Body Energies\n",
    "R5I = Hinv(HI5)[:3, :3]\n",
    "Tb = T55I.T @ diag(Ib, ms*eye(3)) @ T55I / 2\n",
    "Vb = mb * Matrix([0,0,g]).T @ R5I @ Matrix([0, 0, l])"
   ]
  },
  {
   "cell_type": "code",
   "execution_count": 72,
   "id": "cd55fa49",
   "metadata": {},
   "outputs": [],
   "source": [
    "# Omniwheel Energies\n",
    "Tws = (Iow + Im*k**2)/2 * (sw1**2 + sw2**2 + sw3**2)\n",
    "Vws = 0"
   ]
  },
  {
   "cell_type": "code",
   "execution_count": 73,
   "id": "b1479527",
   "metadata": {},
   "outputs": [],
   "source": [
    "# Lagrangian\n",
    "L = Ts[0] + Tb[0] + Tws[0] - (Vs + Vb[0] + Vws)"
   ]
  },
  {
   "cell_type": "code",
   "execution_count": 74,
   "id": "23b23388",
   "metadata": {},
   "outputs": [],
   "source": [
    "# Torque Transformations\n",
    "jac = jacobian(Matrix([sw1, sw2, sw3]), dq) # from sw1, sw2, sw3\n",
    "T_ext = jac.T @ Matrix([T1, T2, T3])"
   ]
  },
  {
   "cell_type": "code",
   "execution_count": 75,
   "id": "f3d51734",
   "metadata": {},
   "outputs": [
    {
     "name": "stdout",
     "output_type": "stream",
     "text": [
      "Took 35.0 seconds\n"
     ]
    }
   ],
   "source": [
    "t0 = time()\n",
    "LM = LagrangesMethod(L, q)\n",
    "_ = LM.form_lagranges_equations()\n",
    "print(\"Took %.1f seconds\"%(time() - t0))"
   ]
  },
  {
   "cell_type": "code",
   "execution_count": null,
   "id": "b8d7d883",
   "metadata": {},
   "outputs": [],
   "source": []
  },
  {
   "cell_type": "markdown",
   "id": "84fef46c",
   "metadata": {},
   "source": [
    "# Linearization"
   ]
  },
  {
   "cell_type": "code",
   "execution_count": 76,
   "id": "528724b1",
   "metadata": {},
   "outputs": [],
   "source": [
    "xvar = Matrix([q, dq])\n",
    "u = Matrix([T1, T2, T3])\n",
    "\n",
    "xbar_slist = [(v, 0) for v in xvar] + [(v, 0) for v in u]"
   ]
  },
  {
   "cell_type": "code",
   "execution_count": 77,
   "id": "2391dcda",
   "metadata": {},
   "outputs": [],
   "source": [
    "Mlin = LM.mass_matrix.subs(xbar_slist)\n",
    "Mlin = np.array(Mlin, dtype=float).round(5)\n",
    "Minv = np.linalg.inv(Mlin).round(3)"
   ]
  },
  {
   "cell_type": "code",
   "execution_count": 78,
   "id": "2914f819",
   "metadata": {},
   "outputs": [
    {
     "data": {
      "text/latex": [
       "$\\displaystyle \\left[\\begin{matrix}2.60274 \\ddot{\\phi}_{y} + 8.4972 \\ddot{x}\\\\- 0.01074 \\ddot{\\phi}_{x} + 8.4972 \\ddot{y}\\\\0.87724 \\ddot{\\phi}_{x} - 0.01074 \\ddot{y}\\\\2.97676 \\ddot{\\phi}_{y} + 2.60274 \\ddot{x}\\\\0.06917 \\ddot{\\phi}_{z}\\end{matrix}\\right]$"
      ],
      "text/plain": [
       "⎡2.60274⋅φ_̈y + 8.4972⋅ẍ ⎤\n",
       "⎢                       ⎥\n",
       "⎢-0.01074⋅φₓ̈ + 8.4972⋅ÿ ⎥\n",
       "⎢                       ⎥\n",
       "⎢0.87724⋅φₓ̈ - 0.01074⋅ÿ ⎥\n",
       "⎢                       ⎥\n",
       "⎢2.97676⋅φ_̈y + 2.60274⋅ẍ⎥\n",
       "⎢                       ⎥\n",
       "⎣      0.06917⋅φ_̈z      ⎦"
      ]
     },
     "execution_count": 78,
     "metadata": {},
     "output_type": "execute_result"
    }
   ],
   "source": [
    "Mlin * dq.diff(t)"
   ]
  },
  {
   "cell_type": "code",
   "execution_count": 79,
   "id": "68410406",
   "metadata": {},
   "outputs": [
    {
     "name": "stdout",
     "output_type": "stream",
     "text": [
      "Took 137.855292.2 seconds\n"
     ]
    }
   ],
   "source": [
    "t0 = time()\n",
    "dG = np.array(partial(LM.forcing, xvar).subs(xbar_slist).doit(), dtype=float).round(5)\n",
    "print(\"Took %f.2 seconds\" %(time()-t0))"
   ]
  },
  {
   "cell_type": "code",
   "execution_count": 80,
   "id": "e639937a",
   "metadata": {},
   "outputs": [
    {
     "data": {
      "text/latex": [
       "$\\displaystyle \\left[\\begin{matrix}2.60274 \\ddot{\\phi}_{y} + 8.4972 \\ddot{x}\\\\- 0.01074 \\ddot{\\phi}_{x} + 8.4972 \\ddot{y}\\\\0.87724 \\ddot{\\phi}_{x} - 0.01074 \\ddot{y}\\\\2.97676 \\ddot{\\phi}_{y} + 2.60274 \\ddot{x}\\\\0.06917 \\ddot{\\phi}_{z}\\end{matrix}\\right] = \\left[\\begin{matrix}0\\\\0\\\\39.73 \\phi_{x}\\\\39.73 \\phi_{y}\\\\0\\end{matrix}\\right]$"
      ],
      "text/plain": [
       "⎡2.60274⋅φ_̈y + 8.4972⋅ẍ ⎤   ⎡    0    ⎤\n",
       "⎢                       ⎥   ⎢         ⎥\n",
       "⎢-0.01074⋅φₓ̈ + 8.4972⋅ÿ ⎥   ⎢    0    ⎥\n",
       "⎢                       ⎥   ⎢         ⎥\n",
       "⎢0.87724⋅φₓ̈ - 0.01074⋅ÿ ⎥ = ⎢39.73⋅φₓ ⎥\n",
       "⎢                       ⎥   ⎢         ⎥\n",
       "⎢2.97676⋅φ_̈y + 2.60274⋅ẍ⎥   ⎢39.73⋅φ_y⎥\n",
       "⎢                       ⎥   ⎢         ⎥\n",
       "⎣      0.06917⋅φ_̈z      ⎦   ⎣    0    ⎦"
      ]
     },
     "execution_count": 80,
     "metadata": {},
     "output_type": "execute_result"
    }
   ],
   "source": [
    "Eq(Mlin @ dq.diff(t), Matrix(dG.round(2))[:,:5] @ q)"
   ]
  },
  {
   "cell_type": "code",
   "execution_count": 81,
   "id": "3e570286",
   "metadata": {
    "scrolled": true
   },
   "outputs": [
    {
     "data": {
      "text/plain": [
       "array([[ 8.4972 ,  0.     ,  0.     ,  2.60274,  0.     ],\n",
       "       [ 0.     ,  8.4972 , -0.01074,  0.     ,  0.     ],\n",
       "       [ 0.     , -0.01074,  0.87724,  0.     , -0.     ],\n",
       "       [ 2.60274,  0.     ,  0.     ,  2.97676,  0.     ],\n",
       "       [ 0.     ,  0.     , -0.     ,  0.     ,  0.06917]])"
      ]
     },
     "execution_count": 81,
     "metadata": {},
     "output_type": "execute_result"
    }
   ],
   "source": [
    "Mlin"
   ]
  },
  {
   "cell_type": "code",
   "execution_count": 82,
   "id": "0fe9e909",
   "metadata": {},
   "outputs": [],
   "source": [
    "Abot = Minv @ -dG"
   ]
  },
  {
   "cell_type": "code",
   "execution_count": 83,
   "id": "dc7233bd",
   "metadata": {},
   "outputs": [],
   "source": [
    "dT_ext = np.array(partial(T_ext, u).subs(xbar_slist).doit(), dtype=float).round(5)\n",
    "Bbot = Minv @ dT_ext"
   ]
  },
  {
   "cell_type": "code",
   "execution_count": 84,
   "id": "cdb0d4e9",
   "metadata": {},
   "outputs": [
    {
     "data": {
      "text/latex": [
       "$\\displaystyle \\left[\\begin{matrix}0 & 0 & 0 & 5.6 & 0\\\\0 & 0 & -0.04 & 0 & 0\\\\0 & 0 & -45.29 & 0 & 0\\\\0 & 0 & 0 & -18.24 & 0\\\\0 & 0 & 0 & 0 & 0\\end{matrix}\\right]$"
      ],
      "text/plain": [
       "⎡0  0    0      5.6    0⎤\n",
       "⎢                       ⎥\n",
       "⎢0  0  -0.04     0     0⎥\n",
       "⎢                       ⎥\n",
       "⎢0  0  -45.29    0     0⎥\n",
       "⎢                       ⎥\n",
       "⎢0  0    0     -18.24  0⎥\n",
       "⎢                       ⎥\n",
       "⎣0  0    0       0     0⎦"
      ]
     },
     "execution_count": 84,
     "metadata": {},
     "output_type": "execute_result"
    }
   ],
   "source": [
    "Matrix(Abot.round(2)[:,:5])"
   ]
  },
  {
   "cell_type": "code",
   "execution_count": 85,
   "id": "de80c288",
   "metadata": {},
   "outputs": [
    {
     "data": {
      "text/latex": [
       "$\\displaystyle \\left[\\begin{matrix}0 & 1.77 & -1.77\\\\-1.67 & 0.83 & 0.83\\\\1.84 & -0.92 & -0.92\\\\0 & -1.08 & 1.08\\\\-23.51 & -23.51 & -23.51\\end{matrix}\\right]$"
      ],
      "text/plain": [
       "⎡  0      1.77   -1.77 ⎤\n",
       "⎢                      ⎥\n",
       "⎢-1.67    0.83    0.83 ⎥\n",
       "⎢                      ⎥\n",
       "⎢ 1.84   -0.92   -0.92 ⎥\n",
       "⎢                      ⎥\n",
       "⎢  0     -1.08    1.08 ⎥\n",
       "⎢                      ⎥\n",
       "⎣-23.51  -23.51  -23.51⎦"
      ]
     },
     "execution_count": 85,
     "metadata": {},
     "output_type": "execute_result"
    }
   ],
   "source": [
    "Matrix(Bbot.round(2))"
   ]
  },
  {
   "cell_type": "code",
   "execution_count": null,
   "id": "64fe359f",
   "metadata": {},
   "outputs": [],
   "source": []
  }
 ],
 "metadata": {
  "kernelspec": {
   "display_name": "Python 3 (ipykernel)",
   "language": "python",
   "name": "python3"
  },
  "language_info": {
   "codemirror_mode": {
    "name": "ipython",
    "version": 3
   },
   "file_extension": ".py",
   "mimetype": "text/x-python",
   "name": "python",
   "nbconvert_exporter": "python",
   "pygments_lexer": "ipython3",
   "version": "3.10.6"
  },
  "vscode": {
   "interpreter": {
    "hash": "e7370f93d1d0cde622a1f8e1c04877d8463912d04d973331ad4851f04de6915a"
   }
  }
 },
 "nbformat": 4,
 "nbformat_minor": 5
}
